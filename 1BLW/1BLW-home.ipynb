{
 "cells": [
  {
   "cell_type": "markdown",
   "id": "4a3f85b8",
   "metadata": {},
   "source": [
    "# PS 137 - Data Assignment 1\n",
    "## Due - 2pm on 2/4"
   ]
  },
  {
   "cell_type": "markdown",
   "id": "8c34e9c1",
   "metadata": {},
   "source": [
    "In this notebook we will continue the analysis of how our class's anwers on questions rating US democracy and what matters for democracy compare to experts. We will also bring in some data from the general public. First let's load up the data"
   ]
  },
  {
   "cell_type": "code",
   "execution_count": null,
   "id": "5b8456c0",
   "metadata": {},
   "outputs": [],
   "source": [
    "# Run this cell!\n",
    "suppressPackageStartupMessages(library(tidyverse))\n",
    "class <- read_csv(\"data/students.csv\")\n",
    "experts <- read_csv(\"data/experts.csv\")\n",
    "public <- read_csv(\"data/public.csv\")"
   ]
  },
  {
   "cell_type": "markdown",
   "id": "056bb137",
   "metadata": {},
   "source": [
    "## Part 1: What to the people say?"
   ]
  },
  {
   "cell_type": "markdown",
   "id": "3b7f53a7",
   "metadata": {},
   "source": [
    "Let's take a look at the first few rows of the public data"
   ]
  },
  {
   "cell_type": "code",
   "execution_count": null,
   "id": "332eb11b",
   "metadata": {},
   "outputs": [],
   "source": [
    "head(public)"
   ]
  },
  {
   "cell_type": "markdown",
   "id": "32f00d8e",
   "metadata": {},
   "source": [
    "There are several variables on the importance of several aspects of democracy that you rated (`fairelec`, `contrib`, `media`), and a also some more. E.g., one we will look at later is `equalvote`), which corresponds to the importance of \"All adult citizens have equal opportunity to vote.\"\n",
    "\n",
    "The only `rating` variable here is one corresponding to December 2024. The analogous ratings from the experts and class were:"
   ]
  },
  {
   "cell_type": "code",
   "execution_count": null,
   "id": "f07592a2",
   "metadata": {},
   "outputs": [],
   "source": [
    "mean(class$rating_dec24)\n",
    "# Recall for experts there are a few missing values so we need an na.rm=TRUE argument\n",
    "mean(experts$rating_now, na.rm=TRUE)"
   ]
  },
  {
   "cell_type": "markdown",
   "id": "ae6b4c1d",
   "metadata": {},
   "source": [
    "**Question 1.1. Take the mean of the public rating. How does it compare to the class and experts? What might explain the difference? (1-2 sentences)**"
   ]
  },
  {
   "cell_type": "code",
   "execution_count": null,
   "id": "ffff4a1b",
   "metadata": {},
   "outputs": [],
   "source": []
  },
  {
   "cell_type": "markdown",
   "id": "77804c95",
   "metadata": {},
   "source": [
    "*Words for 1.1*"
   ]
  },
  {
   "cell_type": "markdown",
   "id": "50f41579",
   "metadata": {},
   "source": [
    "Another variable in the public data is how the respondent voted. Lets make a table of the responses to this"
   ]
  },
  {
   "cell_type": "code",
   "execution_count": null,
   "id": "838c9495",
   "metadata": {},
   "outputs": [],
   "source": [
    "table(public$vote)"
   ]
  },
  {
   "cell_type": "markdown",
   "id": "3b2ba9dc",
   "metadata": {},
   "source": [
    "Most of the sample said they voted (if this were a public opinion class we would talk more about how more people say they voted than really do!), amd among those who did a handful voted for a third party, while the votes among the two major candidates are pretty even. \n",
    "\n",
    "Let's see if people who voted (or at least said they voted) in different ways have different assessments of US democracy as of December 2024. \n",
    "\n",
    "**Question 1.2. Before we check, which of these groups do you think will rate US democracy the highest at this time point? The lowest? Note: we won't grade you on being correct, just making a reasonable argument! (2-3 sentences)**"
   ]
  },
  {
   "cell_type": "markdown",
   "id": "e0242a16",
   "metadata": {},
   "source": [
    "*Answer to 1.2*"
   ]
  },
  {
   "cell_type": "markdown",
   "id": "eb186f42",
   "metadata": {},
   "source": [
    "One way to compare the means across groups who voted differently is to first take subsets of the data based on the vote, and then taking the average withing each subset. (Feel free to do this another way if you'd like!) For example, to get hte average rating among Harris supporters we can do the following:"
   ]
  },
  {
   "cell_type": "code",
   "execution_count": null,
   "id": "4a0af71f",
   "metadata": {},
   "outputs": [],
   "source": [
    "public_harris <- subset(public, vote==\"Harris\")\n",
    "mean(public_harris$rating)"
   ]
  },
  {
   "cell_type": "markdown",
   "id": "2ed595e3",
   "metadata": {},
   "source": [
    "**Question 1.3. Compute the average belief about US democracy among Trump supporters, \"other\" suporters, and people who abstained. Is this different from what you expected? Anything different from your expectations? If so, come up with an explaination for what you did find. (2-3 sentences)**"
   ]
  },
  {
   "cell_type": "code",
   "execution_count": null,
   "id": "6cf5d5c6",
   "metadata": {},
   "outputs": [],
   "source": []
  },
  {
   "cell_type": "markdown",
   "id": "e84fba5c",
   "metadata": {},
   "source": [
    "*Words for 1.3*"
   ]
  },
  {
   "cell_type": "markdown",
   "id": "dc108eb6",
   "metadata": {},
   "source": [
    "## Part 2: Views of Democracy"
   ]
  },
  {
   "cell_type": "markdown",
   "id": "2bcecd8c",
   "metadata": {},
   "source": [
    "Now let's see how these three different groups weigh different aspects of democracy. Here is a reminder of question asked among all three groups, and how the coding works:\n",
    "\n",
    "1. `fairelec`: Fair Elections  \n",
    "**Definition:** Elections are conducted, ballots counted, and winners determined without pervasive fraud or manipulation.  \n",
    "\n",
    "2. `contrib`: Campaign Contributions  \n",
    "**Definition:** Public policy is not determined by large campaign contributions.  \n",
    "\n",
    "3. `judicial`: Judicial Independence  \n",
    "**Definition:** The elected branches respect judicial independence.  \n",
    "\n",
    "4. `turnout`: Voter Turnout  \n",
    "**Definition:** Voter participation in elections is generally high.  \n",
    "\n",
    "5. `speech`: Freedom of Speech  \n",
    "**Definition:** Government protects individuals' right to engage in unpopular speech or expression.  \n",
    "\n",
    "6. `media`: Media Freedom  \n",
    "**Definition:** Government does not interfere with journalists or news organizations.  \n",
    "\n",
    "All three samples were asked this question on a 1 to 4 point scale:\n",
    "\n",
    "1. **Not relevant:** This has no impact on democracy (1)\n",
    "2. **Beneficial:** This enhances democracy, but is not required for democracy (2)\n",
    "3. **Important:** If this is absent, democracy is compromised (3)\n",
    "4. **Essential:** A country cannot be described as democratic without this (4)"
   ]
  },
  {
   "cell_type": "markdown",
   "id": "e0d1cbb0",
   "metadata": {},
   "source": [
    "You may recall that for most of these questions most of you and the experts tended to answer either 3 or 4. To make differences across questions clear, we will generally focus on what proportion of respondents answered 4, i.e., said the dimension was essential. \n",
    "\n",
    "To spare you some coding, I'm going to create a data frame where each row corresponds to a dimension, and then we compute the share of each group that says this dimension is essential for democracy. (I'll explain what is going on with comments, but not super important to follow how the code works.)"
   ]
  },
  {
   "cell_type": "code",
   "execution_count": null,
   "id": "e757eb0f",
   "metadata": {},
   "outputs": [],
   "source": [
    "# Defining the columns we want to average\n",
    "shared_cols <- c(\"fairelec\", \"contrib\", \"judicial\", \"turnout\", \"speech\", \"media\")\n",
    "# The apply function allows us to take the \"row\" or \"column\" average of a table\n",
    "# We first subset to the columns we want\n",
    "# Taking the mean of the number equal to 4 gives the share who say it is essential\n",
    "# The 2 argument means we want the column averages\n",
    "# Since there are NAs, we need an na.rm\n",
    "pub_means <- apply(subset(public, select=shared_cols)==4, 2, mean, na.rm=TRUE)\n",
    "expert_means <- apply(subset(experts, select=shared_cols)==4, 2, mean, na.rm=TRUE)\n",
    "class_means <- apply(subset(class, select=shared_cols)==4, 2, mean, na.rm=TRUE)\n",
    "\n",
    "# \n",
    "essential_df <- data.frame(dimension=shared_cols, public=pub_means,\n",
    "                     expert=expert_means, class=class_means)\n",
    "essential_df"
   ]
  },
  {
   "cell_type": "markdown",
   "id": "2aac6935",
   "metadata": {},
   "source": [
    "Now we can quickly compare how the class views the importance of each dimension with a *bar plot*. The first argument here (`essential_df$class`) tells us how high to make each bar. The second (`essential_df$class`) gives the labels for each point. The third (`ylim=c(0,1`) says to make the y axis range from 0 to 1, which will make it easier to compare across groups. "
   ]
  },
  {
   "cell_type": "code",
   "execution_count": null,
   "id": "bd6d4c5d",
   "metadata": {},
   "outputs": [],
   "source": [
    "barplot(essential_df$class, names.arg=essential_df$dimension, ylim=c(0,1))"
   ]
  },
  {
   "cell_type": "markdown",
   "id": "1cb34f67",
   "metadata": {},
   "source": [
    "**Question 2.1. Interpret this graph. What dimensions did the class think is least and most important? (2-3 sentences)**"
   ]
  },
  {
   "cell_type": "markdown",
   "id": "71c1a7b6",
   "metadata": {},
   "source": [
    "*Words for 2.1*"
   ]
  },
  {
   "cell_type": "markdown",
   "id": "da19632d",
   "metadata": {},
   "source": [
    "**Question 2.2. Now make similar barplots for the public and experts. Find two interesting comparisons across the groups, and explain why you think they might arise. (2-3 sentences)**"
   ]
  },
  {
   "cell_type": "code",
   "execution_count": null,
   "id": "42940d6c",
   "metadata": {},
   "outputs": [],
   "source": []
  },
  {
   "cell_type": "code",
   "execution_count": null,
   "id": "af677ba0",
   "metadata": {},
   "outputs": [],
   "source": []
  },
  {
   "cell_type": "markdown",
   "id": "cda84d3d",
   "metadata": {},
   "source": [
    "*Words for 2.2*"
   ]
  },
  {
   "cell_type": "markdown",
   "id": "ad435f68",
   "metadata": {},
   "source": [
    "Another way to visualize the data is to make a scatterplot where the importance of each dimension for one group is on the x axis and for the other is on the y axis."
   ]
  },
  {
   "cell_type": "code",
   "execution_count": null,
   "id": "c16137e8",
   "metadata": {},
   "outputs": [],
   "source": [
    "plot(essential_df$class, essential_df$public, xlim=c(0,1), ylim=c(0,1), \n",
    "         xlab=\"Share Essential (class)\", ylab=\"Share Essential (public)\")"
   ]
  },
  {
   "cell_type": "markdown",
   "id": "e6f0cc5a",
   "metadata": {},
   "source": [
    "We can see from this that the responses are generally positively correlated: things the class thinks are more important are also considered more important among the public. \n",
    "\n",
    "To help interpret, let's (1) add a \"45 degree line\" which corresponds to parts of the graph where both groups rate the trait equally, and (2) label the points with the first letter of the corresponding dimension.  "
   ]
  },
  {
   "cell_type": "code",
   "execution_count": null,
   "id": "a83bfa3c",
   "metadata": {},
   "outputs": [],
   "source": [
    "plot(essential_df$class, essential_df$public, xlim=c(0,1), ylim=c(0,1), \n",
    "         xlab=\"Share Essential (class)\", ylab=\"Share Essential (public)\",\n",
    "    pch=essential_df$dimension)\n",
    "abline(a=0, b=1)"
   ]
  },
  {
   "cell_type": "markdown",
   "id": "afd4b66f",
   "metadata": {},
   "source": [
    "The 'f' lies basically on the 45 degree line, meaning the class and public rate this trait about equally.\n",
    "\n",
    "**Question 2.3. From the graph, identify a trait which the class thinks is more important than the public, and one that the public thinks is more important than the class. Why might this be? (2-3 sentences)**"
   ]
  },
  {
   "cell_type": "markdown",
   "id": "89bec8d5",
   "metadata": {},
   "source": [
    "*Words for 2.3*"
   ]
  },
  {
   "cell_type": "markdown",
   "id": "3bc698e8",
   "metadata": {},
   "source": [
    "**Question 2.4. Now make a similar graph with the class rating on the x axis an the expert rating on the y axis. What can you learn about the difference of the ratings, and what might drive this? (2-3 sentences)**"
   ]
  },
  {
   "cell_type": "code",
   "execution_count": null,
   "id": "bbac8218",
   "metadata": {},
   "outputs": [],
   "source": [
    "plot(essential_df$class, essential_df$expert, xlim=c(0,1), ylim=c(0,1))\n",
    "abline(a=0, b=1)"
   ]
  },
  {
   "cell_type": "markdown",
   "id": "12f49a40",
   "metadata": {},
   "source": [
    "*Words for 2.4*"
   ]
  },
  {
   "cell_type": "markdown",
   "id": "b186fc43",
   "metadata": {},
   "source": [
    "Here is a description of the four dimensions which are in the public and expert data but not the class data (starting the numbering at 7 since we already considered 6):\n",
    "\n",
    "7. `concede`: Losers Concede\n",
    "**Defintion**: Incumbent politicians who lose elections publicly concede defeat\n",
    "\n",
    "8. `equalvote`: Equal voting\n",
    "**Definition**: All adult citizens have equal opportunity to vote\n",
    "\n",
    "9. `equalrights`: Equal rights\t\n",
    "**Definition**: All adult citizens enjoy the same legal and political rights\n",
    "\n",
    "10. `protest`: Right to protest\n",
    "**Definition**: Government protects individuals' right to engage in peaceful protest\n",
    "\n",
    "11. `limits`: Constitional Limits\n",
    "**Definition**: Executive authority cannot be expanded beyond constitutional limits\n",
    "\n",
    "12. `facts`: Shared facts\n",
    "**Definition**: Even when there are disagreements about ideology or policy, political leaders generally share a common understanding of relevant facts\n",
    "\n",
    "**Question 2.5. Which of these dimensions(s) might do a good job of capturing Dahls \"participation\" component of democracy? Which might do a good job of capturing Acemoglu and Robinson's definition of democracy? (2-3 sentences)**"
   ]
  },
  {
   "cell_type": "markdown",
   "id": "994185eb",
   "metadata": {},
   "source": [
    "*Words for 2.5*"
   ]
  },
  {
   "cell_type": "markdown",
   "id": "00296101",
   "metadata": {},
   "source": [
    "**Question 2.6 [Optional]. Examine the expert and public responses to the dimensions you identified for 2.5. Do these groups seem to agree with Dahl and/or Acemoglu and Robinson's defintion of democracy?**"
   ]
  },
  {
   "cell_type": "code",
   "execution_count": null,
   "id": "c6b95e68",
   "metadata": {},
   "outputs": [],
   "source": []
  }
 ],
 "metadata": {
  "kernelspec": {
   "display_name": "R",
   "language": "R",
   "name": "ir"
  },
  "language_info": {
   "codemirror_mode": "r",
   "file_extension": ".r",
   "mimetype": "text/x-r-source",
   "name": "R",
   "pygments_lexer": "r",
   "version": "4.4.0"
  }
 },
 "nbformat": 4,
 "nbformat_minor": 5
}
