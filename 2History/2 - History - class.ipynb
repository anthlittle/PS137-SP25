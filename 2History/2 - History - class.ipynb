{
 "cells": [
  {
   "cell_type": "markdown",
   "metadata": {},
   "source": [
    "# POLSCI PS137L Spring 2025\n",
    "\n",
    "## In-Class Activity 2: Patterns of Demo-/Auto-cracy\n",
    "\n",
    "In this in-class activity, we examine a recently published paper to understand the purpose of elections in different political regimes. The paper [\"Democratic Pieces: Autocratic Elections and Democratic Development since 1815\" by Michael K. Miller](https://www.cambridge.org/core/journals/british-journal-of-political-science/article/democratic-pieces-autocratic-elections-and-democratic-development-since-1815/63329F4F2908DAB4D0FAB53EF73F0D6E) explores how elections in autocratic regimes influence the transition to democracy and the longevity of democratic systems. The set of data covers 169 countries over a span of nearly two centuries, from 1815 to 2004. This dataset includes original measures of electoral contestation and participation, which are key dimensions in assessing the nature and impact of elections."
   ]
  },
  {
   "cell_type": "code",
   "execution_count": null,
   "metadata": {},
   "outputs": [],
   "source": [
    "library(tidyverse)\n",
    "miller <- readRDS(\"./data/miller.rds\")\n",
    "names(miller)"
   ]
  },
  {
   "cell_type": "markdown",
   "metadata": {},
   "source": [
    "## Part 1: A case study"
   ]
  },
  {
   "cell_type": "markdown",
   "metadata": {},
   "source": [
    "To start, let's look at how the data looks like for one country in the data set. Run the cell below to see how the data look like for the UK. We can do this with the `subset` function, which you will have to use in the homework!"
   ]
  },
  {
   "cell_type": "code",
   "execution_count": null,
   "metadata": {},
   "outputs": [],
   "source": [
    "ukdata <- subset(miller, country_y == \"United Kingdom\")"
   ]
  },
  {
   "cell_type": "code",
   "execution_count": null,
   "metadata": {},
   "outputs": [],
   "source": [
    "head(ukdata)"
   ]
  },
  {
   "cell_type": "markdown",
   "metadata": {},
   "source": [
    "The data takes the structure of each country-year making up an observation. Here's a quick breakdown of what each of these columns represents:\n",
    "\n",
    "\n",
    "<code>year</code>: The year of the observation.\n",
    "\n",
    "<code>country_y</code>: The name of the country.\n",
    "\n",
    "<code>contdim</code>: The contestation dimension, which measures the degree of political competition and openness.\n",
    "\n",
    "<code>partdim</code>: The participation dimension, which measures the level of political participation by the population.\n",
    "\n",
    "<code>pc_regime</code>: The type of political regime (out of 6 possible types).\n",
    "\n",
    "Note that we haven't defined how regimes are classified yet."
   ]
  },
  {
   "cell_type": "markdown",
   "metadata": {},
   "source": [
    "The key variables here attempt to measure the Dahl dimensions of 'contestation' and 'participation'. We'll discuss how the variables are constructed in the lecture, but the key idea is that both variables range from 0 to 1, with higher numbers meaning more demcratic on both dimensions. \n",
    "\n",
    "Let's see what the trends on the participation dimension look like for the UK. As a review, we are using the plot function, where the key inputs are the x axis variable (here, year) and y axis variable (here, the particpation dimension). I'm also adding a `ylim=c(0,1)` to make sure the y axis ranges from 0 to 1, which is the full scale. Finally, the `xlab` and `ylab` label the axes, which is good practice."
   ]
  },
  {
   "cell_type": "code",
   "execution_count": null,
   "metadata": {},
   "outputs": [],
   "source": [
    "plot(x=ukdata$year, y=ukdata$partdim, ylim=c(0,1),\n",
    "    xlab=\"year\", ylab=\"participation\")"
   ]
  },
  {
   "cell_type": "markdown",
   "metadata": {},
   "source": [
    "Graphs like this where we plot something over time often look nicer as a \"line plot\", which we can do by adding a `type=\"l\"` argument:"
   ]
  },
  {
   "cell_type": "code",
   "execution_count": null,
   "metadata": {},
   "outputs": [],
   "source": [
    "plot(x=ukdata$year, y=ukdata$partdim, ylim=c(0,1), \n",
    "     xlab=\"year\", ylab=\"participation\", type=\"l\")"
   ]
  },
  {
   "cell_type": "markdown",
   "metadata": {},
   "source": [
    "**Question 1.1. Describe the overall trend in the participation dimension in the UK over this time period (2-3 sentences)**"
   ]
  },
  {
   "cell_type": "markdown",
   "metadata": {},
   "source": [
    "*Words for 1.1*"
   ]
  },
  {
   "cell_type": "markdown",
   "metadata": {},
   "source": [
    "Now let's see how some specific events affect the coding. The \"Representation of the People Act\" of 1918 gave suffrage to men over the age of 21 and some women over the age of 30. Let's see how that affected the suffage dimension by adding a vertical line in 1918 with the `abline` function. (We use a `v=` argument for vertical lines, you can also use `abline`  to add horizontal line with `h=`.)"
   ]
  },
  {
   "cell_type": "code",
   "execution_count": null,
   "metadata": {},
   "outputs": [],
   "source": [
    "plot(x=ukdata$year, y=ukdata$partdim, ylim=c(0,1), type=\"l\")\n",
    "abline(v=1918)"
   ]
  },
  {
   "cell_type": "markdown",
   "metadata": {},
   "source": [
    "**Question 1.2. Now look up the \"Representation of the People (Equal Franchise) Act\" (google should give helpful references.) Add a vertical line corresponding to the year this was passed, and interpret this graph. (1-2 sentences)**"
   ]
  },
  {
   "cell_type": "code",
   "execution_count": null,
   "metadata": {},
   "outputs": [],
   "source": [
    "# Code for 1.2"
   ]
  },
  {
   "cell_type": "markdown",
   "metadata": {},
   "source": [
    "*Words for 1.2.*"
   ]
  },
  {
   "cell_type": "markdown",
   "metadata": {},
   "source": [
    "Now let's add the competition dimension. \n",
    "\n",
    "**Question 1.3. Make a line plot of the UK measure of contestation on the y axis, and the year on the x axis. Make the y axis range from 0 to 1.**"
   ]
  },
  {
   "cell_type": "code",
   "execution_count": null,
   "metadata": {},
   "outputs": [],
   "source": []
  },
  {
   "cell_type": "markdown",
   "metadata": {},
   "source": [
    "It will help to make one plot with both of these trends. A way we can show two plots together is to do the first plot with the `plot`, function, and then add the second with the `lines` function. Like with `plot`, the key things to input are the data for the x values and the data for the y values. We don't need to redefine the y axis range or axis labels since we are just adding to a plot where those are already done."
   ]
  },
  {
   "cell_type": "code",
   "execution_count": null,
   "metadata": {},
   "outputs": [],
   "source": [
    "plot(x=ukdata$year, y=ukdata$partdim, ylim=c(0,1), \n",
    "     xlab=\"year\", ylab=\"participation\", type=\"l\")\n",
    "lines(x=ukdata$year, y=ukdata$contdim)"
   ]
  },
  {
   "cell_type": "markdown",
   "metadata": {},
   "source": [
    "By comparing with our previous graphs we can infer that the higher line is the contestation one. A better way to see the difference is to give them different colors. E.g., here is how we can make the particpation line purple:"
   ]
  },
  {
   "cell_type": "code",
   "execution_count": null,
   "metadata": {
    "scrolled": false
   },
   "outputs": [],
   "source": [
    "plot(x=ukdata$year, y=ukdata$partdim, ylim=c(0,1), \n",
    "     xlab=\"year\", ylab=\"participation\", type=\"l\", col=\"purple\")\n",
    "lines(x=ukdata$year, y=ukdata$contdim)"
   ]
  },
  {
   "cell_type": "markdown",
   "metadata": {},
   "source": [
    "See <a href=\"https://r-graph-gallery.com/42-colors-names.html\">here</a> for a full list of the colors you can use in R graphs. (You can also use `col=rgb(x,y,z)` for more flexible color setting, where x,y,z are numbers between 0 and 1 indicating \"how much\" of each color is included.)"
   ]
  },
  {
   "cell_type": "markdown",
   "metadata": {},
   "source": [
    "**Question 1.4. Now see if you can figure out how to make the contestation line green (hint: the same arguments that work for `plot` typically work for `lines` as well). Interpret this graph: how does the value of contestation compare to participation for this time period? (2-3 sentences)**"
   ]
  },
  {
   "cell_type": "code",
   "execution_count": null,
   "metadata": {},
   "outputs": [],
   "source": []
  },
  {
   "cell_type": "markdown",
   "metadata": {},
   "source": [
    "*Words for 1.4*"
   ]
  },
  {
   "cell_type": "markdown",
   "metadata": {},
   "source": [
    "The paper also divides countries into categories based on their values of thes two dimensions. Here’s how Miller constructed these regime measures:\n",
    "\n",
    "1. **Participation Threshold**:\n",
    "   - Countries are divided into low- and high-participation types based on a threshold of 0.5. This threshold reflects the historical distinction between regimes with restricted versus wide or universal suffrage.\n",
    "\n",
    "2. **Contestation Thresholds**:\n",
    "   - Contestation is divided into three categories using two thresholds: 0.2 and 0.67.\n",
    "   - The lower threshold (0.2) classifies regimes with no competition, like communist and single-party states.\n",
    "   - The higher threshold (0.67) distinguishes regimes with democratic competition, maximizing correlation with established democracy measures.\n",
    "\n",
    "Using these thresholds, Miller categorized regimes into six types:\n",
    "\n",
    "- **Closed Authoritarian Regimes** (`pc_regime` = 1): Low contestation and low participation.\n",
    "- **Competitive Oligarchies** (`pc_regime` = 2): High contestation but low participation.\n",
    "- **Democracies** (`pc_regime` = 3): High contestation and high participation.\n",
    "- **Electoral Authoritarian Regimes** (`pc_regime` = 4): Middle contestation with high participation.\n",
    "- **Electoral Oligarchies** (`pc_regime` = 5): Middle contestation with low participation.\n",
    "- **Plebiscitary Authoritarian Regimes** (`pc_regime` = 6): Low contestation but high participation.\n",
    "\n",
    "\n",
    "![image](miller_table1.png)\n"
   ]
  },
  {
   "cell_type": "markdown",
   "metadata": {},
   "source": [
    "**Question 1.5. Recreate the previous graph but add a horizontal line at .5 using the `abline` function and a `h=` argument. What years does the UK get classified as high participation?**"
   ]
  },
  {
   "cell_type": "code",
   "execution_count": null,
   "metadata": {},
   "outputs": [],
   "source": [
    "#Code for 1.5"
   ]
  },
  {
   "cell_type": "markdown",
   "metadata": {},
   "source": [
    "*Words for 1.5*"
   ]
  },
  {
   "cell_type": "markdown",
   "metadata": {},
   "source": [
    "## Part 2: The full data!"
   ]
  },
  {
   "cell_type": "markdown",
   "metadata": {},
   "source": [
    "Now let's return to the full set of data and look at how the trends of democracy look like across the world from 1850 to 2000."
   ]
  },
  {
   "cell_type": "markdown",
   "metadata": {},
   "source": [
    "We can check which countries are in the data with the `table` function`"
   ]
  },
  {
   "cell_type": "code",
   "execution_count": null,
   "metadata": {},
   "outputs": [],
   "source": [
    "table(miller$country_y)"
   ]
  },
  {
   "cell_type": "markdown",
   "metadata": {},
   "source": [
    "**Question 2.1 Come up with a reason why some countries have more observations than others.**"
   ]
  },
  {
   "cell_type": "markdown",
   "metadata": {},
   "source": [
    "*Words for 2.1*"
   ]
  },
  {
   "cell_type": "markdown",
   "metadata": {},
   "source": [
    "We would like to plot some trends in the average level of democracy over time. To make this easier, let's make a data frame where each row corresponds to a year. To compute the average of a variable by year, we can use the `tapply` function. In generall, `tapply(df$x, df$y, mean)` will report the average of `df$x` for each value of `df$y`. We also add a `na.rm` argument since there are some missing values.\n",
    "\n",
    "Let's see how this works for the contestation dimension"
   ]
  },
  {
   "cell_type": "code",
   "execution_count": null,
   "metadata": {},
   "outputs": [],
   "source": [
    "contavg <- tapply(miller$contdim, miller$year, mean, na.rm=TRUE)\n",
    "contavg"
   ]
  },
  {
   "cell_type": "markdown",
   "metadata": {},
   "source": [
    "Now let's put this into a data frame, and also add the average of the participation dimension."
   ]
  },
  {
   "cell_type": "code",
   "execution_count": null,
   "metadata": {},
   "outputs": [],
   "source": [
    "yravg <- data.frame(year = as.numeric(names(contavg)),\n",
    "                   contdim=contavg)\n",
    "yravg$partdim <- tapply(miller$partdim, miller$year, mean, na.rm=TRUE)\n"
   ]
  },
  {
   "cell_type": "markdown",
   "metadata": {},
   "source": [
    "**Question 2.2. Make a line plot of the average participation dimension over time, with the y axis ranging from 0 to 1, colored purple.**"
   ]
  },
  {
   "cell_type": "code",
   "execution_count": null,
   "metadata": {},
   "outputs": [],
   "source": [
    "# Code for 2.2"
   ]
  },
  {
   "cell_type": "markdown",
   "metadata": {},
   "source": [
    "**Question 2.3. Now make the same plot but add the average of the contestation dimension over time in green with `lines`. What can we learn from this graph? (2-3 sentences)**"
   ]
  },
  {
   "cell_type": "code",
   "execution_count": null,
   "metadata": {},
   "outputs": [],
   "source": [
    "#Code for 2.3"
   ]
  },
  {
   "cell_type": "markdown",
   "metadata": {},
   "source": [
    "*Words for 2.3.*"
   ]
  },
  {
   "cell_type": "markdown",
   "metadata": {},
   "source": [
    "Now let's look at the share of countries placed into categories based on where they lie in contestation and participation. As a reminder, here are the six categories:\n",
    "- **Closed Authoritarian Regimes** (`pc_regime` = 1): Low contestation and low participation.\n",
    "- **Competitive Oligarchies** (`pc_regime` = 2): High contestation but low participation.\n",
    "- **Democracies** (`pc_regime` = 3): High contestation and high participation.\n",
    "- **Electoral Authoritarian Regimes** (`pc_regime` = 4): Middle contestation with high participation.\n",
    "- **Electoral Oligarchies** (`pc_regime` = 5): Middle contestation with low participation.\n",
    "- **Plebiscitary Authoritarian Regimes** (`pc_regime` = 6): Low contestation but high participation."
   ]
  },
  {
   "cell_type": "markdown",
   "metadata": {},
   "source": [
    "**Question 2.4. Use the `table` function to see how many country-year observations are in each category of `pc_regime`. What are the most and least common categories in the whole time span?**"
   ]
  },
  {
   "cell_type": "code",
   "execution_count": null,
   "metadata": {},
   "outputs": [],
   "source": [
    "# Code for 2.4"
   ]
  },
  {
   "cell_type": "markdown",
   "metadata": {},
   "source": [
    "*Words for 2.4*"
   ]
  },
  {
   "cell_type": "markdown",
   "metadata": {},
   "source": [
    "Now let's see how this changed over time. First let's look at the distribution of regime categories in 1850, by first taking a subset of the data where `year==1850` and taking a table of the `pc_regime` variable in this subset."
   ]
  },
  {
   "cell_type": "code",
   "execution_count": null,
   "metadata": {},
   "outputs": [],
   "source": [
    "miller1850 <- subset(miller, year==1850)\n",
    "table(miller1850$pc_regime)"
   ]
  },
  {
   "cell_type": "markdown",
   "metadata": {},
   "source": [
    "**Question 2.5. Make a table of the regime categories in the year 2000. How does this compare to 1850? (2-3 sentences)**"
   ]
  },
  {
   "cell_type": "code",
   "execution_count": null,
   "metadata": {},
   "outputs": [],
   "source": [
    "# Code for 2.5"
   ]
  },
  {
   "cell_type": "markdown",
   "metadata": {},
   "source": [
    "Finally, let's look at how the share of a couple regime types varies across time. To see what share are democracies in the full sample, we can use the following code:"
   ]
  },
  {
   "cell_type": "code",
   "execution_count": null,
   "metadata": {},
   "outputs": [],
   "source": [
    "mean(miller$pc_regime==3, na.rm=TRUE)"
   ]
  },
  {
   "cell_type": "markdown",
   "metadata": {},
   "source": [
    "The `miller$pc_regime==3` part of the code creates a vector that is equal to 0 for country-years that are not democracies, and 1 for country-years that are democracies. So by taking the average of this we get the share that are 1s, or democracies. Extending this to take the average share of democracies by year and adding it to our yravg data:"
   ]
  },
  {
   "cell_type": "code",
   "execution_count": null,
   "metadata": {},
   "outputs": [],
   "source": [
    "yravg$sharedem <- tapply(miller$pc_regime==3, miller$year, mean, na.rm=TRUE)"
   ]
  },
  {
   "cell_type": "markdown",
   "metadata": {},
   "source": [
    "**Question 2.6. Make a line plot of the share of Democracies over time. Up to you what colors/labels/axes to set! Interpret this graph (2-3 sentences).**"
   ]
  },
  {
   "cell_type": "code",
   "execution_count": null,
   "metadata": {},
   "outputs": [],
   "source": []
  },
  {
   "cell_type": "markdown",
   "metadata": {},
   "source": [
    "*Words for 2.6*"
   ]
  },
  {
   "cell_type": "markdown",
   "metadata": {},
   "source": [
    "# Part 3 (Optional): Constructing contestation and participation variables\n",
    "\n",
    "To understand the political systems of various countries over time, Miller developed methods to measure these two dimensions: participation and contestation. These dimensions help us see how democratic a country is by looking at different aspects of its political system.\n",
    "\n",
    "The key method that Miller used was 'Principal Component Analysis' (PCA). An application of PCA is to aggregate multiple variables to create a new one. Intuitively, it tries to identify which pieces of data tend to vary together. For participation, Miller combined multiple measures of the size of the electorate as a percentage of the adult population. For contestation, Miller used nine different variables to construct the measure. Each variable was scaled to range between 0 and 1, where 1 represents a more democratic state. The variables were then aggregated to form the final contestation measure. Below are the variables and how they were combined:\n",
    "\n",
    "1. **Vanhanen’s Competition** (1815–2004):\n",
    "   - **Description**: This variable measures the percentage of legislative seats not held by the largest party. It's calculated as 100 minus the percentage of seats held by the largest party. Higher values indicate more competition.\n",
    "   - **Type**: **Objective**. This measure is based on quantitative data about legislative seat distribution.\n",
    "\n",
    "2. **Freedom House’s Political Rights** (1972–2004):\n",
    "   - **Description**: This variable assesses the level of political rights in a country, including the freedom to participate in the political process and the presence of fair elections.\n",
    "   - **Type**: **Subjective**. This measure is based on expert assessments and surveys regarding political rights.\n",
    "\n",
    "3. **Cheibub, Gandhi, and Vreeland’s Democracy** (1946–2004):\n",
    "   - **Description**: This is a dichotomous variable that indicates whether a country has electoral competition. It is a simple yes/no measure of whether elections are competitive.\n",
    "   - **Type**: **Objective**. This measure is based on a clear, binary classification of electoral competition.\n",
    "\n",
    "4. **CIRI’s Electoral Self-Determination and Banks’ Party Legitimacy**:\n",
    "   - **CIRI’s Electoral Self-Determination** (1982–2004): Measures the freedom of citizens to participate in elections.\n",
    "   - **Banks’ Party Legitimacy** (1946–2003): Measures the legitimacy and freedom of party competition.\n",
    "   - **Type**: **Subjective**. Both measures are based on expert assessments and surveys about electoral freedom and party legitimacy.\n",
    "   - **Averaging**: These two variables were averaged to create a single measure reflecting the freedom of party competition and citizen lawmaking power.\n",
    "\n",
    "5. **Polity’s Competitiveness of Participation and Polity’s Competitiveness of Executive Recruitment**:\n",
    "   - **Polity’s Competitiveness of Participation** (1815–2004): Measures how competitive the political participation is within a country.\n",
    "   - **Polity’s Competitiveness of Executive Recruitment** (1815–2004): Measures how competitive the process of recruiting executive leaders is.\n",
    "   - **Type**: **Subjective**. These measures rely on expert coding of political competitiveness.\n",
    "   - **Averaging**: These two variables were averaged to form a single measure of political competitiveness.\n",
    "\n",
    "6. **Polity’s Executive Constraints and Banks’ Legislative Effectiveness**:\n",
    "   - **Polity’s Executive Constraints** (1815–2004): Measures the checks and balances on executive power.\n",
    "   - **Banks’ Legislative Effectiveness** (1815–2003): Measures how effective the legislature is in governing.\n",
    "   - **Type**: **Subjective**. These measures are based on expert assessments of institutional constraints and legislative effectiveness.\n",
    "   - **Averaging**: These two variables were averaged to create a measure of intragovernmental constraints.\n",
    "\n",
    "#### Construction Method\n",
    "\n",
    "1. **Averaging Similar Variables**:\n",
    "   - Variables that measure very similar political features were first averaged. For example, the average of CIRI’s Electoral Self-Determination and Banks’ Party Legitimacy provided a single measure for the freedom of party competition.\n",
    "\n",
    "2. **Aggregation**:\n",
    "   - The averaged variables were then aggregated to form the final contestation measure. This ensures that each aspect of contestation is appropriately represented without any single variable being double- or triple-weighted.\n",
    "\n",
    "3. **Scaling**:\n",
    "   - Each variable was scaled to lie between 0 and 1 across the entire dataset, ensuring comparability over time and across different countries.\n",
    "\n"
   ]
  },
  {
   "cell_type": "markdown",
   "metadata": {},
   "source": [
    "**Question 3.1.** Based on the description of Principal Components Analysis (PCA), consider a scenario where you are trying to measure if a country is democratic or not. However, your undergraduate research assistant has made errors in coding the data. Suppose you have three dimensions to measure democracy: Freedom of the Press, Electoral Fairness, and Political Participation. Let's assume the research assistant got the data for Freedom of the Press right but made significant errors in Electoral Fairness and Political Participation. \n",
    "\n",
    "How might the errors in the Electoral Fairness and Political Participation data affect the results of PCA when measuring democracy? Why could PCA end up underweighting Freedom of the Press, even though it's the only correctly coded dimension? \n",
    "\n"
   ]
  },
  {
   "cell_type": "code",
   "execution_count": null,
   "metadata": {},
   "outputs": [],
   "source": []
  }
 ],
 "metadata": {
  "kernelspec": {
   "display_name": "R",
   "language": "R",
   "name": "ir"
  },
  "language_info": {
   "codemirror_mode": "r",
   "file_extension": ".r",
   "mimetype": "text/x-r-source",
   "name": "R",
   "pygments_lexer": "r",
   "version": "4.4.0"
  },
  "latex_envs": {
   "LaTeX_envs_menu_present": true,
   "autoclose": false,
   "autocomplete": true,
   "bibliofile": "biblio.bib",
   "cite_by": "apalike",
   "current_citInitial": 1,
   "eqLabelWithNumbers": true,
   "eqNumInitial": 1,
   "hotkeys": {
    "equation": "Ctrl-E",
    "itemize": "Ctrl-I"
   },
   "labels_anchors": false,
   "latex_user_defs": false,
   "report_style_numbering": false,
   "user_envs_cfg": false
  }
 },
 "nbformat": 4,
 "nbformat_minor": 4
}
