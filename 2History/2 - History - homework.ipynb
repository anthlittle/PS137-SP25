{
 "cells": [
  {
   "cell_type": "markdown",
   "id": "4c188bf2",
   "metadata": {},
   "source": [
    "# PS 137 Data Homework 2 - History of Democracy"
   ]
  },
  {
   "cell_type": "markdown",
   "id": "8ebf4077",
   "metadata": {},
   "source": [
    "In this homework we will continue exploring the data from the Miller paper, as well as some related data from the V-Dem institute.\n",
    "\n"
   ]
  },
  {
   "cell_type": "markdown",
   "id": "9b58badb",
   "metadata": {},
   "source": [
    "## Part 1: Some more cases\n",
    "\n",
    "First let's reload the Miller data"
   ]
  },
  {
   "cell_type": "code",
   "execution_count": null,
   "id": "76912f78",
   "metadata": {},
   "outputs": [],
   "source": [
    "library(tidyverse)\n",
    "miller <- readRDS(\"./data/miller.rds\")\n",
    "names(miller)"
   ]
  },
  {
   "cell_type": "markdown",
   "id": "0c7511e1",
   "metadata": {},
   "source": [
    "**Question 1.1. Create a subset of the data corresponding to the United States, i.e., rows where `country_y == \"United States\"`. Make a plot the participation and contestation dimensions for the US (add some color!) and interpret the graph (2-3 sentences).**"
   ]
  },
  {
   "cell_type": "code",
   "execution_count": null,
   "id": "c681c5e4",
   "metadata": {},
   "outputs": [],
   "source": []
  },
  {
   "cell_type": "markdown",
   "id": "ab561607",
   "metadata": {},
   "source": [
    "*Words for 1.1.*"
   ]
  },
  {
   "cell_type": "markdown",
   "id": "eb211bd2",
   "metadata": {},
   "source": [
    "**Question 1.2. Now do the same for another country of your choice. What do you learn from the graph? (2-3 sentences)**"
   ]
  },
  {
   "cell_type": "code",
   "execution_count": null,
   "id": "04cbd987",
   "metadata": {},
   "outputs": [],
   "source": [
    "# Code for 1.2"
   ]
  },
  {
   "cell_type": "markdown",
   "id": "e8bf9515",
   "metadata": {},
   "source": [
    "*Words for 1.2* "
   ]
  },
  {
   "cell_type": "markdown",
   "id": "395c1998",
   "metadata": {},
   "source": [
    "Let's revisit the share of countries placed into categories based on where they lie in contestation and participation. As a reminder, here are the six categories:\n",
    "- **Closed Authoritarian Regimes** (`pc_regime` = 1): Low contestation and low participation.\n",
    "- **Competitive Oligarchies** (`pc_regime` = 2): High contestation but low participation.\n",
    "- **Democracies** (`pc_regime` = 3): High contestation and high participation.\n",
    "- **Electoral Authoritarian Regimes** (`pc_regime` = 4): Middle contestation with high participation.\n",
    "- **Electoral Oligarchies** (`pc_regime` = 5): Middle contestation with low participation.\n",
    "- **Plebiscitary Authoritarian Regimes** (`pc_regime` = 6): Low contestation but high participation.\n",
    "I'll get things tarted by making data which computes the average contestation/participation, and then the shhare of competitive oligarchies. "
   ]
  },
  {
   "cell_type": "code",
   "execution_count": null,
   "id": "9a6ff740",
   "metadata": {},
   "outputs": [],
   "source": [
    "contavg <- tapply(miller$contdim, miller$year, mean, na.rm=TRUE)\n",
    "yravg <- data.frame(year = as.numeric(names(contavg)),\n",
    "                   contdim=contavg)\n",
    "yravg$partdim <- tapply(miller$partdim, miller$year, mean, na.rm=TRUE)\n",
    "yravg$comp_ol <- tapply(miller$pc_regime==2, miller$year, mean, na.rm=TRUE)"
   ]
  },
  {
   "cell_type": "markdown",
   "id": "2142dfac",
   "metadata": {},
   "source": [
    "**Question 1.3. Plot the share of competitive oligarchies over time. You should see a general decline starting around 1900. What might explain this?**"
   ]
  },
  {
   "cell_type": "code",
   "execution_count": null,
   "id": "00a98508",
   "metadata": {},
   "outputs": [],
   "source": [
    "# Code for 1.3"
   ]
  },
  {
   "cell_type": "markdown",
   "id": "cccc0d49",
   "metadata": {},
   "source": [
    "*Words for 1.3.*"
   ]
  },
  {
   "cell_type": "markdown",
   "id": "4112fcc5",
   "metadata": {},
   "source": [
    "Now let's explore the patterns of \"plebiscitary authoritarian\" regimes. First let's get a sense of which countries fall in this category. \n",
    "\n",
    "**Question 1.4. Make a subset of `miller` where `pc_regime==6`, and then make a table of the country names.**"
   ]
  },
  {
   "cell_type": "code",
   "execution_count": null,
   "id": "198fd8e4",
   "metadata": {},
   "outputs": [],
   "source": [
    "# Code for 1.4"
   ]
  },
  {
   "cell_type": "markdown",
   "id": "2bcc7c50",
   "metadata": {},
   "source": [
    "**Question 1.5. Now compute the share of plebiscitary authoritarian regimes (see the code above 1.3!) and add this as a variable in the `yravg` data frame. Plot this over time, and give an explanation for the pattern you observe.**"
   ]
  },
  {
   "cell_type": "code",
   "execution_count": null,
   "id": "d966e7ca",
   "metadata": {},
   "outputs": [],
   "source": [
    "# Code for 1.5"
   ]
  },
  {
   "cell_type": "markdown",
   "id": "097dc9a2",
   "metadata": {},
   "source": [
    "*Words for 1.5.*"
   ]
  },
  {
   "cell_type": "markdown",
   "id": "7325252a",
   "metadata": {},
   "source": [
    "## Part 2\n",
    "Next we will look at the V-dem data discussed in the reading for class. Their full data is huge so I made a subset with some key variables, which we will load up here:"
   ]
  },
  {
   "cell_type": "code",
   "execution_count": null,
   "id": "0f8f39bd",
   "metadata": {},
   "outputs": [],
   "source": [
    "vdem <- read_csv(\"data/vdem.csv\")"
   ]
  },
  {
   "cell_type": "markdown",
   "id": "a8378190",
   "metadata": {},
   "source": [
    "The structure of this table is very similar: each row corresponds to a country and year. Here are the first few rows:"
   ]
  },
  {
   "cell_type": "code",
   "execution_count": null,
   "id": "ea8034c2",
   "metadata": {},
   "outputs": [],
   "source": [
    "head(vdem)"
   ]
  },
  {
   "cell_type": "markdown",
   "id": "d4b5195a",
   "metadata": {},
   "source": [
    "The data go even further back: all the way to 1789!\n",
    "\n",
    "Let's compare some of the trends to what we found above. First, let's take a subset of the data corresponding to the United States. As we can see above, the country name can be found in the `country_name` column. If we try to use similar code to the above we get:"
   ]
  },
  {
   "cell_type": "code",
   "execution_count": null,
   "id": "910d1e29",
   "metadata": {},
   "outputs": [],
   "source": [
    "us <- subset(vdem, country_name == \"United States\")\n",
    "head(us)"
   ]
  },
  {
   "cell_type": "markdown",
   "id": "4a7ffa98",
   "metadata": {},
   "source": [
    "Hmm that produced a table with no rows, which isn't great! Let's see if you can figure out why! But I'll give you a hint.\n",
    "\n",
    "**Question 2.1 Make a table of the `country_name` variable in `vdem`, and look for the United States. Based on what you find, modify the code above to create a subset of the `vdem` data corresponding to the US.**"
   ]
  },
  {
   "cell_type": "code",
   "execution_count": null,
   "id": "7940cc2b",
   "metadata": {},
   "outputs": [],
   "source": [
    "# Code for table"
   ]
  },
  {
   "cell_type": "code",
   "execution_count": null,
   "id": "ef6107b3",
   "metadata": {
    "scrolled": true
   },
   "outputs": [],
   "source": [
    "# Code to subset"
   ]
  },
  {
   "cell_type": "markdown",
   "id": "c424ad04",
   "metadata": {},
   "source": [
    "The `v2x_sffr` variable attempts to measure the share of the adult population which has the right to vote. This is broadly similar to the Miller measure of participation but more specific since the Miller measure also includes some other facts as discussed in the lecture."
   ]
  },
  {
   "cell_type": "markdown",
   "id": "f0e190dd",
   "metadata": {},
   "source": [
    "**Question 2.2 Make a line plot of the `v2x_suffr` variable for the United States over time. You should see a few cases where the line \"jumps\". Identify the cause of one of the jumps.**"
   ]
  },
  {
   "cell_type": "code",
   "execution_count": null,
   "id": "1b7f66b2",
   "metadata": {},
   "outputs": [],
   "source": []
  },
  {
   "cell_type": "markdown",
   "id": "57399889",
   "metadata": {},
   "source": [
    "*Words for 2.2*"
   ]
  },
  {
   "cell_type": "markdown",
   "id": "397aa293",
   "metadata": {},
   "source": [
    "The bcourses page with the assignment has a link to an exerpt from the v-dem codebook that describes the other variable in the data. (It also describes some other variable not in the data frame!) \n"
   ]
  },
  {
   "cell_type": "markdown",
   "id": "60aeda64",
   "metadata": {},
   "source": [
    "**Question 2.3. Identify one of the variables that looks interesting to you, and plot the trend of the variable for the United States. Interpret the graph. (2-3 sentences.)**"
   ]
  },
  {
   "cell_type": "code",
   "execution_count": null,
   "id": "68c4b343",
   "metadata": {},
   "outputs": [],
   "source": []
  },
  {
   "cell_type": "markdown",
   "id": "275ed3ef",
   "metadata": {},
   "source": [
    "*Words for 2.3*"
   ]
  },
  {
   "cell_type": "markdown",
   "id": "944471f3",
   "metadata": {},
   "source": [
    "**Question 2.4. Now repeat this exercise for another country (I suggest using the one you used for part 1.2!). That is, make a subset of `vdem` for this country, then plot the suffrage and another variable over time, and describe what you learn (4-5 sentences).**"
   ]
  },
  {
   "cell_type": "code",
   "execution_count": null,
   "id": "68889fcc",
   "metadata": {},
   "outputs": [],
   "source": []
  },
  {
   "cell_type": "markdown",
   "id": "02cdad36",
   "metadata": {},
   "source": [
    "*Words for 2.4*"
   ]
  },
  {
   "cell_type": "markdown",
   "id": "6df4ec9f",
   "metadata": {},
   "source": [
    "Finally, let's look at the average trends over time. I'll help make a data frame with the average polyarchy score (see the codebook!) and average level of suffrage by year."
   ]
  },
  {
   "cell_type": "code",
   "execution_count": null,
   "id": "0fd8155f",
   "metadata": {},
   "outputs": [],
   "source": [
    "poly_avg <- tapply(vdem$v2x_polyarchy, vdem$year, mean, na.rm=TRUE)\n",
    "va <- data.frame(year=as.numeric(names(poly_avg)), poly=poly_avg)\n",
    "va$suffr <- tapply(vdem$v2x_suffr, vdem$year, mean, na.rm=TRUE)\n",
    "head(va)"
   ]
  },
  {
   "cell_type": "markdown",
   "id": "c479da88",
   "metadata": {},
   "source": [
    "**Question 2.5. Mke a plot with the average polyarchy score and average suffrage level by year. Be sure to set the y axis so you can see the full range of the data. Interpret the graph (3-4 sentences.)**"
   ]
  },
  {
   "cell_type": "code",
   "execution_count": null,
   "id": "fbf8a293",
   "metadata": {},
   "outputs": [],
   "source": []
  },
  {
   "cell_type": "markdown",
   "id": "702979fd",
   "metadata": {},
   "source": [
    "*Words for 2.5*"
   ]
  },
  {
   "cell_type": "code",
   "execution_count": null,
   "id": "f9c3ec23",
   "metadata": {},
   "outputs": [],
   "source": []
  }
 ],
 "metadata": {
  "kernelspec": {
   "display_name": "R",
   "language": "R",
   "name": "ir"
  },
  "language_info": {
   "codemirror_mode": "r",
   "file_extension": ".r",
   "mimetype": "text/x-r-source",
   "name": "R",
   "pygments_lexer": "r",
   "version": "4.4.0"
  }
 },
 "nbformat": 4,
 "nbformat_minor": 5
}
