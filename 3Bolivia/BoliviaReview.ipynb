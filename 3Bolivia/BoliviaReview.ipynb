{
 "cells": [
  {
   "cell_type": "markdown",
   "id": "8ec6db3e",
   "metadata": {},
   "source": [
    "# PS 137: Midterm Review and more graphing practice\n",
    "## The case of Evo Morales in Bolivia"
   ]
  },
  {
   "cell_type": "markdown",
   "id": "379b138c",
   "metadata": {},
   "source": [
    "## Part 1: Author perspectives"
   ]
  },
  {
   "cell_type": "markdown",
   "id": "0a5a7b7c",
   "metadata": {},
   "source": [
    "For class you read Anria's \"MORE INCLUSION, LESS LIBERALISM IN BOLIVIA\", which was published in 2016. \n",
    "\n",
    "Let's first think about how the different authors we have read might interpret the key events described in this paper. "
   ]
  },
  {
   "cell_type": "markdown",
   "id": "8ee239f6",
   "metadata": {},
   "source": [
    "**Question 1.1. In 2016, Morales tried to change the constitution to allow himself to run for a fourth term as president. The referendum to make this change narrowly lost (48.7% voted yes, 51.3% voted no). At the time Anria was writing, Morales had recent accepted this result. Imagine there was a debate between two teams (A) Alvarez, Cheibub, Przeworski, and Limongi and (B) Huq and Ginsburg. They question is whether this referendum and the outcome was a good or bad sign for Bolivian democracy. What do you think each side would argue? If you were the judge, who would you say was right? (NOTE: for reasons we will discuss later, don't include events after 2016 in your judgement)**"
   ]
  },
  {
   "cell_type": "markdown",
   "id": "50755cb4",
   "metadata": {},
   "source": [
    "*Answer for 1.1*"
   ]
  },
  {
   "cell_type": "markdown",
   "id": "093be43d",
   "metadata": {},
   "source": [
    "**Question 1.2. More generally, what do you think Acemoglu and Robinson would say about whether Bolivia was more or less democratic under Morales, according to the events described in Anria (so, around 2005 to 2016)**"
   ]
  },
  {
   "cell_type": "markdown",
   "id": "ddd6a1b9",
   "metadata": {},
   "source": [
    "*Answer for 1.2*"
   ]
  },
  {
   "cell_type": "markdown",
   "id": "5efeb791",
   "metadata": {},
   "source": [
    "**Question 1.3. Identify another reading that provides a perspective on the health of Bolivian democracy in this era. What would they say?**"
   ]
  },
  {
   "cell_type": "markdown",
   "id": "92389b29",
   "metadata": {},
   "source": [
    "*Answer for 1.3*"
   ]
  },
  {
   "cell_type": "markdown",
   "id": "4efc124a",
   "metadata": {},
   "source": [
    "# Part 2: What does V-Dem have to say?\n",
    "Now let's look at the V-Dem data we explored in the previous homework. (Note: the Miller data stops in 2004 so is less useful for our purposes.)"
   ]
  },
  {
   "cell_type": "code",
   "execution_count": null,
   "id": "70b322d2",
   "metadata": {},
   "outputs": [],
   "source": [
    "library(tidyverse)\n",
    "vdem <- read_csv(\"data/vdem.csv\")"
   ]
  },
  {
   "cell_type": "markdown",
   "id": "3c87f528",
   "metadata": {},
   "source": [
    "**Question 2.1. Create a subset of the data corresponding to Bolivia.**"
   ]
  },
  {
   "cell_type": "code",
   "execution_count": 25,
   "id": "e9da1002",
   "metadata": {},
   "outputs": [],
   "source": [
    "# Code for 2.1"
   ]
  },
  {
   "cell_type": "markdown",
   "id": "7b937ab3",
   "metadata": {},
   "source": [
    "**Question 2.2. Plot the polyarchy score of Bolivia over it's full history. Add a vertical line for the year Morales was elected (2005).**"
   ]
  },
  {
   "cell_type": "code",
   "execution_count": null,
   "id": "79c506b8",
   "metadata": {},
   "outputs": [],
   "source": []
  },
  {
   "cell_type": "markdown",
   "id": "94db2fa6",
   "metadata": {},
   "source": [
    "**Question 2.3. Now create a subset of the data starting in 1980 and ending in 2016. (Hint: it might be easier to do this in two steps). Redo the plot for these years**"
   ]
  },
  {
   "cell_type": "code",
   "execution_count": null,
   "id": "dd6c9315",
   "metadata": {},
   "outputs": [],
   "source": []
  },
  {
   "cell_type": "code",
   "execution_count": null,
   "id": "7d03ad54",
   "metadata": {},
   "outputs": [],
   "source": []
  },
  {
   "cell_type": "markdown",
   "id": "6e35b7f5",
   "metadata": {},
   "source": [
    "**Question 2.4. Interpret this graph. (Potential things to discuss: What are some claims made by Anria that seem to line up with what the V-Dem data shows? Are there any that seem inconsistent? What does V-Dem think about how the Morales era affected the overall quality of Bolivian Democracy?)**"
   ]
  },
  {
   "cell_type": "markdown",
   "id": "26477ce6",
   "metadata": {},
   "source": [
    "*Answer for 2.4*"
   ]
  },
  {
   "cell_type": "markdown",
   "id": "96ae6ada",
   "metadata": {},
   "source": [
    "Now let's look at the more detailed components of democracy. There are five components in the data I pulled out, which make up the polyarchy index:\n",
    "- v2x_freexp_altinf: \n",
    "- v2xel_frefair\n",
    "- v2x_frassoc_thick\n",
    "- v2x_elecoff\n",
    "- v2x_suffr\n",
    "\n",
    "See pages 50-53 of the <a href=\"https://v-dem.net/documents/38/V-Dem_Codebook_v14.pdf\">V-dem Codebook</a> for more detail about what these mean.\n",
    "\n",
    "**Question 2.5. Make a line plot of each of these 5 components from 1980-2016. (You can try to put them all together and give different colors etc, or just make seperate graphs.)**"
   ]
  },
  {
   "cell_type": "code",
   "execution_count": null,
   "id": "774b7aeb",
   "metadata": {},
   "outputs": [],
   "source": []
  },
  {
   "cell_type": "code",
   "execution_count": null,
   "id": "15598c7b",
   "metadata": {},
   "outputs": [],
   "source": []
  },
  {
   "cell_type": "code",
   "execution_count": null,
   "id": "2c9a8d55",
   "metadata": {},
   "outputs": [],
   "source": []
  },
  {
   "cell_type": "markdown",
   "id": "5a2ab8a5",
   "metadata": {},
   "source": [
    "**Question 2.6. Which of these were changing leading up to the election of Morales? Which change after his election? Which are relatively constant? How does this compare to what Anria says in the article? Can you locate the effect of any event that Anria mentions in one of these indices?**"
   ]
  },
  {
   "cell_type": "markdown",
   "id": "f43bb424",
   "metadata": {},
   "source": [
    "*Answer to 2.6*"
   ]
  },
  {
   "cell_type": "code",
   "execution_count": null,
   "id": "8827c68a",
   "metadata": {},
   "outputs": [],
   "source": []
  },
  {
   "cell_type": "markdown",
   "id": "e8bbda5a",
   "metadata": {},
   "source": [
    "# Part 3: Postmortem\n",
    "**Question 3.1. Recall there was a huge dip in the overall polyarchy score in 2019. Go back to the full data and plot the vdem components for the whole time period, adding a vertical line at 2019 to help interpret. What component(s) drove this decline?**"
   ]
  },
  {
   "cell_type": "code",
   "execution_count": null,
   "id": "c254e16a",
   "metadata": {},
   "outputs": [],
   "source": []
  },
  {
   "cell_type": "markdown",
   "id": "97e870a4",
   "metadata": {},
   "source": [
    "**Question 3.2. Skim the <a href=\"https://freedomhouse.org/country/bolivia/freedom-world/2020\">Freedom House report from 2020</a> (covering 2019). Does this explain/line up with what you see in the V-Dem Data?**"
   ]
  },
  {
   "cell_type": "code",
   "execution_count": null,
   "id": "1129644c",
   "metadata": {},
   "outputs": [],
   "source": []
  }
 ],
 "metadata": {
  "kernelspec": {
   "display_name": "R",
   "language": "R",
   "name": "ir"
  },
  "language_info": {
   "codemirror_mode": "r",
   "file_extension": ".r",
   "mimetype": "text/x-r-source",
   "name": "R",
   "pygments_lexer": "r",
   "version": "4.4.0"
  }
 },
 "nbformat": 4,
 "nbformat_minor": 5
}
