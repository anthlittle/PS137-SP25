{
 "cells": [
  {
   "cell_type": "markdown",
   "id": "e98ec469",
   "metadata": {},
   "source": [
    "# PS 137 In Class Notebook with NELDA data\n",
    "\n",
    "In this notebook we will work with the NELDA data, a project led by our own Susan Hyde. \n",
    "\n",
    "The <a href=\"https://www.dropbox.com/scl/fi/xivptq8yhnl5f1pj8npvm/NELDA_Codebook_V5.pdf?rlkey=uybuf7fzhrxk63c68jk2muenv&e=1&dl=0\">codebook for the data is here.</a>\n",
    "\n",
    "In the main version of the data, each row correspond to a legislative or executive (i.e., presidental) election. Let's load that up:"
   ]
  },
  {
   "cell_type": "code",
   "execution_count": null,
   "id": "3f77717a",
   "metadata": {},
   "outputs": [],
   "source": [
    "elevel <- read.csv('data/Nelda.csv')\n",
    "head(elevel)"
   ]
  },
  {
   "cell_type": "markdown",
   "id": "d42844b9",
   "metadata": {},
   "source": [
    "Most of the variables in the data are answers to yes or no questions. For example, one used in the paper is `nelda15`, which answers \"Is there evidence that the government harassed the opposition?\" Let's look at a table of this:"
   ]
  },
  {
   "cell_type": "code",
   "execution_count": null,
   "id": "e2b3114e",
   "metadata": {},
   "outputs": [],
   "source": [
    "table(elevel$nelda15)"
   ]
  },
  {
   "cell_type": "markdown",
   "id": "8841db88",
   "metadata": {},
   "source": [
    "It will help for future analysis to create a variable equal to 1 when the answer to this is \"yes\" and \"no\" otherwise. Here is one way to do that:\n"
   ]
  },
  {
   "cell_type": "code",
   "execution_count": null,
   "id": "6be7ac15",
   "metadata": {},
   "outputs": [],
   "source": [
    "elevel$harass <- ifelse(elevel$nelda15==\"yes\", 1, 0)\n",
    "table(elevel$harass)"
   ]
  },
  {
   "cell_type": "markdown",
   "id": "b7cc7a3c",
   "metadata": {},
   "source": [
    "Another variable used in the paper is nelda16, or \"In the run-up to the election, were there allegations of media bias in favor of the incumbent?\"\n",
    "\n",
    "**Make a table of this variable, and then make a new variable in `elevel` called `mediabias` equal to 1 if this variable is coded as \"yes\"**"
   ]
  },
  {
   "cell_type": "code",
   "execution_count": null,
   "id": "543f2709",
   "metadata": {},
   "outputs": [],
   "source": []
  },
  {
   "cell_type": "code",
   "execution_count": null,
   "id": "8b3c32ba",
   "metadata": {},
   "outputs": [],
   "source": []
  },
  {
   "cell_type": "markdown",
   "id": "a7510b4d",
   "metadata": {},
   "source": [
    "Now let's see if opposition and media harassment tend to go together. Over the whole time period, we can see the share of elections with media bias by taking the mean, since the mean of a 0/1 variable gives the share that are 1s."
   ]
  },
  {
   "cell_type": "code",
   "execution_count": null,
   "id": "a78a0afb",
   "metadata": {},
   "outputs": [],
   "source": [
    "mean(elevel$mediabias)"
   ]
  },
  {
   "cell_type": "markdown",
   "id": "3f54e0d1",
   "metadata": {},
   "source": [
    "**What share of elections are coded as having opposition harassment?**"
   ]
  },
  {
   "cell_type": "code",
   "execution_count": null,
   "id": "d3cbf75b",
   "metadata": {},
   "outputs": [],
   "source": []
  },
  {
   "cell_type": "markdown",
   "id": "e82cdb6e",
   "metadata": {},
   "source": [
    "Now to get to the relationship, we can look at the share of elections with media bias among those where the opposition is NOT harassed by subsetting to elections where `elevel$harass==0`:"
   ]
  },
  {
   "cell_type": "code",
   "execution_count": null,
   "id": "544bf347",
   "metadata": {},
   "outputs": [],
   "source": [
    "mean(elevel$mediabias[elevel$harass==0])"
   ]
  },
  {
   "cell_type": "markdown",
   "id": "484c3064",
   "metadata": {},
   "source": [
    "**What is the share of elections with media bias among those where the opposition did face harassment. Interpret this result**"
   ]
  },
  {
   "cell_type": "code",
   "execution_count": null,
   "id": "2a817372",
   "metadata": {},
   "outputs": [],
   "source": []
  },
  {
   "cell_type": "markdown",
   "id": "81076ffc",
   "metadata": {},
   "source": [
    "*Interpretion*"
   ]
  },
  {
   "cell_type": "markdown",
   "id": "f3a8251a",
   "metadata": {},
   "source": [
    "Another way to see this is to run a linear regression predicting media bias with harassment:"
   ]
  },
  {
   "cell_type": "code",
   "execution_count": null,
   "id": "e5d9b6ba",
   "metadata": {},
   "outputs": [],
   "source": [
    "summary(lm(mediabias ~ harass, data=elevel))"
   ]
  },
  {
   "cell_type": "markdown",
   "id": "edde1274",
   "metadata": {},
   "source": [
    "The intercept tells us that when harass=0 we would predict media bias will be 0.17, and when harass goes up by 1 unit (e.g., from 0 to 1) this increases by 0.51. Think about how this relates to the means you found above"
   ]
  },
  {
   "cell_type": "markdown",
   "id": "b99f2888",
   "metadata": {},
   "source": [
    "**Now run a regression where the dependent variable is `harass` and the independent variable is `mediabias`. Interpret the coefficients.**"
   ]
  },
  {
   "cell_type": "code",
   "execution_count": null,
   "id": "99e2d7fc",
   "metadata": {},
   "outputs": [],
   "source": []
  },
  {
   "cell_type": "markdown",
   "id": "51961435",
   "metadata": {},
   "source": [
    "The Hyde paper looks a trends in the number of elections where **either** there is media bias or opposition harassment. We can create this variable by looking at whether the sum of these variables is greater than 1, which will capture casees where there is one but not the other (and hence the sum is 1) or both (sum of 2)"
   ]
  },
  {
   "cell_type": "code",
   "execution_count": null,
   "id": "650d68ee",
   "metadata": {},
   "outputs": [],
   "source": [
    "elevel$problems <- ifelse(elevel$mediabias + elevel$harass > 1, 1, 0)\n",
    "table(elevel$problems)"
   ]
  },
  {
   "cell_type": "markdown",
   "id": "d7498bc0",
   "metadata": {},
   "source": [
    "We can plot a count of the of elections with these problems (part of figure 1) using the `tapply` function. Before we used `tapply(x,y,mean)` to get the average of x for each possibly value of y. We can also use this function to take sums, which does the counting. "
   ]
  },
  {
   "cell_type": "code",
   "execution_count": null,
   "id": "ea761f90",
   "metadata": {},
   "outputs": [],
   "source": [
    "plot(1945:2020, tapply(elevel$problems, elevel$year, sum), type=\"l\")"
   ]
  },
  {
   "cell_type": "markdown",
   "id": "5dd59e80",
   "metadata": {},
   "source": [
    "**Make a plot of the share of elections with problems for each year. (Hint: you still want to use `tapply`, but apply a different function!) Interpret the graph. Does it seem consistent with the discussion in the paper?**"
   ]
  },
  {
   "cell_type": "code",
   "execution_count": null,
   "id": "6ab68576",
   "metadata": {},
   "outputs": [],
   "source": []
  },
  {
   "cell_type": "markdown",
   "id": "508d4d6b",
   "metadata": {},
   "source": [
    "To make things more clear, let's follow the lead of the paper and look at \"moving averages\". That is, rather than just plotting a count or a mean for an individual year, we will plot it for the 5 years leading up to each year. This will smooth things out.\n",
    "\n",
    "By default, this function will use a 5 year window, though we can change this. When the `msum` argument is true, the function will create a moving average of the *sum* of `avgvar`. Otherwise it will compute a \"moving average of the average\" of `avgvar`. This will be more clear with examples!"
   ]
  },
  {
   "cell_type": "code",
   "execution_count": 128,
   "id": "ee54f646",
   "metadata": {},
   "outputs": [],
   "source": [
    "makema <- function(yearvar, avgvar, window=5, msum=TRUE){\n",
    "    allyears <- unique(yearvar)\n",
    "    allyears <- allyears[order(allyears)]\n",
    "    mayears <- allyears[(window):length(allyears)]\n",
    "    ma <- NA\n",
    "    for (i in 1:length(mayears)){\n",
    "        ma[i] <- ifelse(msum, sum(avgvar[yearvar > mayears[i] - window + 1 & yearvar <= mayears[i]], na.rm=TRUE)/window,\n",
    "                        mean(avgvar[yearvar > mayears[i] - window + 1 & yearvar <= mayears[i]], na.rm=TRUE))\n",
    "    }\n",
    "    return(data.frame(year=mayears, avg=ma))\n",
    "}"
   ]
  },
  {
   "cell_type": "markdown",
   "id": "7a0cd39d",
   "metadata": {},
   "source": [
    "To replicate something like the red curve in Figure 3 of the paper (which uses a related but more technical smoothing process), we can compute the moving average of the sum of elections with problems by year like this:"
   ]
  },
  {
   "cell_type": "code",
   "execution_count": 129,
   "id": "0ca99817",
   "metadata": {},
   "outputs": [
    {
     "data": {
      "text/html": [
       "<table class=\"dataframe\">\n",
       "<caption>A data.frame: 6 × 2</caption>\n",
       "<thead>\n",
       "\t<tr><th></th><th scope=col>year</th><th scope=col>avg</th></tr>\n",
       "\t<tr><th></th><th scope=col>&lt;int&gt;</th><th scope=col>&lt;dbl&gt;</th></tr>\n",
       "</thead>\n",
       "<tbody>\n",
       "\t<tr><th scope=row>1</th><td>1949</td><td>2.6</td></tr>\n",
       "\t<tr><th scope=row>2</th><td>1950</td><td>2.4</td></tr>\n",
       "\t<tr><th scope=row>3</th><td>1951</td><td>3.0</td></tr>\n",
       "\t<tr><th scope=row>4</th><td>1952</td><td>3.0</td></tr>\n",
       "\t<tr><th scope=row>5</th><td>1953</td><td>2.6</td></tr>\n",
       "\t<tr><th scope=row>6</th><td>1954</td><td>3.6</td></tr>\n",
       "</tbody>\n",
       "</table>\n"
      ],
      "text/latex": [
       "A data.frame: 6 × 2\n",
       "\\begin{tabular}{r|ll}\n",
       "  & year & avg\\\\\n",
       "  & <int> & <dbl>\\\\\n",
       "\\hline\n",
       "\t1 & 1949 & 2.6\\\\\n",
       "\t2 & 1950 & 2.4\\\\\n",
       "\t3 & 1951 & 3.0\\\\\n",
       "\t4 & 1952 & 3.0\\\\\n",
       "\t5 & 1953 & 2.6\\\\\n",
       "\t6 & 1954 & 3.6\\\\\n",
       "\\end{tabular}\n"
      ],
      "text/markdown": [
       "\n",
       "A data.frame: 6 × 2\n",
       "\n",
       "| <!--/--> | year &lt;int&gt; | avg &lt;dbl&gt; |\n",
       "|---|---|---|\n",
       "| 1 | 1949 | 2.6 |\n",
       "| 2 | 1950 | 2.4 |\n",
       "| 3 | 1951 | 3.0 |\n",
       "| 4 | 1952 | 3.0 |\n",
       "| 5 | 1953 | 2.6 |\n",
       "| 6 | 1954 | 3.6 |\n",
       "\n"
      ],
      "text/plain": [
       "  year avg\n",
       "1 1949 2.6\n",
       "2 1950 2.4\n",
       "3 1951 3.0\n",
       "4 1952 3.0\n",
       "5 1953 2.6\n",
       "6 1954 3.6"
      ]
     },
     "metadata": {},
     "output_type": "display_data"
    }
   ],
   "source": [
    "probms <- makema(elevel$year, elevel$problems)\n",
    "head(probms)"
   ]
  },
  {
   "cell_type": "markdown",
   "id": "50e4bdec",
   "metadata": {},
   "source": [
    "Note the first year we can compute a moving average of the sum is 1949, since the data starts in 1945 and the first 5 year window is 1945-1949. \n",
    "\n",
    "**Plot this moving average of the sum of problematic elections. How does this compare to the red curve in the paper?**"
   ]
  },
  {
   "cell_type": "code",
   "execution_count": null,
   "id": "d784c603",
   "metadata": {},
   "outputs": [],
   "source": []
  },
  {
   "cell_type": "markdown",
   "id": "e8d7c7a8",
   "metadata": {},
   "source": [
    "**Now repeat this process but change the \"window\" to 10 years. How does this change the trend?**"
   ]
  },
  {
   "cell_type": "code",
   "execution_count": null,
   "id": "abb26ad5",
   "metadata": {},
   "outputs": [],
   "source": []
  },
  {
   "cell_type": "code",
   "execution_count": null,
   "id": "9b466ceb",
   "metadata": {},
   "outputs": [],
   "source": []
  },
  {
   "cell_type": "markdown",
   "id": "d2a16002",
   "metadata": {},
   "source": [
    "We might also be interested in the share of elections that have problems, not just the count. To do this, we can add a `msum=FALSE` argument to `makema`. If we do this, it will compute the share of elections with problems in each year, and then compute a moving average of that."
   ]
  },
  {
   "cell_type": "markdown",
   "id": "9b3447b0",
   "metadata": {},
   "source": [
    "**Make a plot of the moving average of the share of elections with problems (make the window as big or small as you want!)**"
   ]
  },
  {
   "cell_type": "code",
   "execution_count": null,
   "id": "debc5a8d",
   "metadata": {},
   "outputs": [],
   "source": []
  },
  {
   "cell_type": "markdown",
   "id": "c28b444a",
   "metadata": {},
   "source": [
    "Another variable in the data is `nelda46`: \"were Western monitors present?\" \n",
    "\n",
    "**Make a variable called `elevel$westmon` equal to 1 if this is true (\"yes\") and 0 otherwise. Them plot a moving average of the share of elections with western monitors over time.**"
   ]
  },
  {
   "cell_type": "code",
   "execution_count": null,
   "id": "df6e5540",
   "metadata": {},
   "outputs": [],
   "source": []
  },
  {
   "cell_type": "markdown",
   "id": "f903b986",
   "metadata": {},
   "source": [
    "Finally, let's look at the relationship between being in an intergovernmental organization like the IMF and having clean elections. I'll do the easy part for you here:"
   ]
  },
  {
   "cell_type": "code",
   "execution_count": null,
   "id": "e4f7f5f3",
   "metadata": {},
   "outputs": [],
   "source": [
    "elevel$igo <- ifelse(elevel$nelda53==\"yes\", 1,0)"
   ]
  },
  {
   "cell_type": "markdown",
   "id": "a76269c5",
   "metadata": {},
   "source": [
    "**Run a linear regression with problems as the dependent variable and igo membership as the independent variable. Interpret the result.**"
   ]
  },
  {
   "cell_type": "code",
   "execution_count": null,
   "id": "810b7ed1",
   "metadata": {},
   "outputs": [],
   "source": []
  }
 ],
 "metadata": {
  "kernelspec": {
   "display_name": "R",
   "language": "R",
   "name": "ir"
  },
  "language_info": {
   "codemirror_mode": "r",
   "file_extension": ".r",
   "mimetype": "text/x-r-source",
   "name": "R",
   "pygments_lexer": "r",
   "version": "4.4.0"
  }
 },
 "nbformat": 4,
 "nbformat_minor": 5
}
