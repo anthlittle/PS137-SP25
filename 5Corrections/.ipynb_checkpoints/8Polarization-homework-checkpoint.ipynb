{
 "cells": [
  {
   "cell_type": "markdown",
   "metadata": {},
   "source": [
    "# POLSCI PS137L Spring 2025\n",
    "\n",
    "## Homework Notebook: Correcting Misperceptions _May Not_ Strengthen Democratic Norms in a Polarized Society\n",
    "\n",
    "In this assignment, we examine [James N. Druckman's article, \"Correcting misperceptions of the other political party does not robustly reduce support for undemocratic practices or partisan violence,\" published in PNAS in 2023](https://www.pnas.org/doi/10.1073/pnas.2308938120). The study addresses a growing consensus that **misperceptions of the other party's beliefs contribute to support for undemocratic practices and partisan violence**. Specifically, it investigates whether providing people with accurate information about the other party's views can reduce their own support for such actions. The author notes that prior research (like the paper we examined in class!) indicates that partisans significantly overestimate the level of support for partisan violence (SPV) and undemocratic practices (SUP) among those in the opposing party. \n",
    "\n",
    "This paper qualifies the effectiveness of correcting misperceptions in strengthening democratic norms. We will find out the Druckman's answers by the end of this assignment!"
   ]
  },
  {
   "cell_type": "markdown",
   "metadata": {},
   "source": [
    "## Part 1: Some familiar results"
   ]
  },
  {
   "cell_type": "markdown",
   "metadata": {},
   "source": [
    "Druckman's study uses an experimental design to test the _robustness of misperception corrections_. We will explain more about these conditions later. First, let's look at the outcome variables: whether respondents themselves support partisan violence (SPV) against the out-party and whether respondents support their side using undermocratic parctices (SUP) against the outparty.\n",
    "\n",
    "Both variables are constructed as an average from an average of survey items. In each item, respondents are asked to rate from 0 (never) to 100 (always) on whether the statement is acceptable. \n",
    "\n",
    "For example, for the SPV index, it is constructed from averaging respondents' answers to the following four questions:\n",
    "* When, if ever, is it OK for _inpartisans_ to send threatening and intimidating messages to _outparty_ party leaders?\n",
    "* When, if ever, is it OK for an ordinary _inpartisan_ in the public to harass an ordinary _outpartisan_ on the Internet, in a way that makes the target feel frightened?\n",
    "* How much do you feel it is justified for _inpartisans_ to use violence in advancing their political goals these days?\n",
    "* How much do you feel it is justified for _inpartisans_ to use violence if the _outparty_ party wins the next presidential election?\n"
   ]
  },
  {
   "cell_type": "markdown",
   "metadata": {},
   "source": [
    "**Question 1.1** What are the advantages and disadvantages of using a composite measure like this rather than looking at each question separately? When will this be a good idea? When will it not?"
   ]
  },
  {
   "cell_type": "markdown",
   "metadata": {},
   "source": [
    "*Answer to 1.1*"
   ]
  },
  {
   "cell_type": "markdown",
   "metadata": {},
   "source": [
    "Now let's look at the data!"
   ]
  },
  {
   "cell_type": "code",
   "execution_count": 1,
   "metadata": {
    "vscode": {
     "languageId": "r"
    }
   },
   "outputs": [
    {
     "data": {
      "text/html": [
       "<table class=\"dataframe\">\n",
       "<caption>A tibble: 6 × 7</caption>\n",
       "<thead>\n",
       "\t<tr><th></th><th scope=col>condition</th><th scope=col>dem</th><th scope=col>rep</th><th scope=col>mviol</th><th scope=col>viol</th><th scope=col>mdemnorms</th><th scope=col>demnorms</th></tr>\n",
       "\t<tr><th></th><th scope=col>&lt;dbl&gt;</th><th scope=col>&lt;dbl&gt;</th><th scope=col>&lt;dbl&gt;</th><th scope=col>&lt;dbl&gt;</th><th scope=col>&lt;dbl&gt;</th><th scope=col>&lt;dbl&gt;</th><th scope=col>&lt;dbl&gt;</th></tr>\n",
       "</thead>\n",
       "<tbody>\n",
       "\t<tr><th scope=row>1</th><td>1</td><td>1</td><td>0</td><td>0.0</td><td>0</td><td>0</td><td> 0.000000</td></tr>\n",
       "\t<tr><th scope=row>2</th><td>1</td><td>0</td><td>1</td><td>0.0</td><td>0</td><td>0</td><td>41.571429</td></tr>\n",
       "\t<tr><th scope=row>3</th><td>1</td><td>1</td><td>0</td><td>0.0</td><td>0</td><td>0</td><td>15.571429</td></tr>\n",
       "\t<tr><th scope=row>4</th><td>1</td><td>1</td><td>0</td><td>0.0</td><td>0</td><td>0</td><td> 0.000000</td></tr>\n",
       "\t<tr><th scope=row>5</th><td>1</td><td>1</td><td>0</td><td>0.0</td><td>0</td><td>0</td><td>43.142857</td></tr>\n",
       "\t<tr><th scope=row>6</th><td>1</td><td>1</td><td>0</td><td>0.5</td><td>0</td><td>0</td><td> 7.571429</td></tr>\n",
       "</tbody>\n",
       "</table>\n"
      ],
      "text/latex": [
       "A tibble: 6 × 7\n",
       "\\begin{tabular}{r|lllllll}\n",
       "  & condition & dem & rep & mviol & viol & mdemnorms & demnorms\\\\\n",
       "  & <dbl> & <dbl> & <dbl> & <dbl> & <dbl> & <dbl> & <dbl>\\\\\n",
       "\\hline\n",
       "\t1 & 1 & 1 & 0 & 0.0 & 0 & 0 &  0.000000\\\\\n",
       "\t2 & 1 & 0 & 1 & 0.0 & 0 & 0 & 41.571429\\\\\n",
       "\t3 & 1 & 1 & 0 & 0.0 & 0 & 0 & 15.571429\\\\\n",
       "\t4 & 1 & 1 & 0 & 0.0 & 0 & 0 &  0.000000\\\\\n",
       "\t5 & 1 & 1 & 0 & 0.0 & 0 & 0 & 43.142857\\\\\n",
       "\t6 & 1 & 1 & 0 & 0.5 & 0 & 0 &  7.571429\\\\\n",
       "\\end{tabular}\n"
      ],
      "text/markdown": [
       "\n",
       "A tibble: 6 × 7\n",
       "\n",
       "| <!--/--> | condition &lt;dbl&gt; | dem &lt;dbl&gt; | rep &lt;dbl&gt; | mviol &lt;dbl&gt; | viol &lt;dbl&gt; | mdemnorms &lt;dbl&gt; | demnorms &lt;dbl&gt; |\n",
       "|---|---|---|---|---|---|---|---|\n",
       "| 1 | 1 | 1 | 0 | 0.0 | 0 | 0 |  0.000000 |\n",
       "| 2 | 1 | 0 | 1 | 0.0 | 0 | 0 | 41.571429 |\n",
       "| 3 | 1 | 1 | 0 | 0.0 | 0 | 0 | 15.571429 |\n",
       "| 4 | 1 | 1 | 0 | 0.0 | 0 | 0 |  0.000000 |\n",
       "| 5 | 1 | 1 | 0 | 0.0 | 0 | 0 | 43.142857 |\n",
       "| 6 | 1 | 1 | 0 | 0.5 | 0 | 0 |  7.571429 |\n",
       "\n"
      ],
      "text/plain": [
       "  condition dem rep mviol viol mdemnorms demnorms \n",
       "1 1         1   0   0.0   0    0          0.000000\n",
       "2 1         0   1   0.0   0    0         41.571429\n",
       "3 1         1   0   0.0   0    0         15.571429\n",
       "4 1         1   0   0.0   0    0          0.000000\n",
       "5 1         1   0   0.0   0    0         43.142857\n",
       "6 1         1   0   0.5   0    0          7.571429"
      ]
     },
     "metadata": {},
     "output_type": "display_data"
    }
   ],
   "source": [
    "druckman <- readRDS(\"data/druckman.rds\")\n",
    "head(druckman)"
   ]
  },
  {
   "cell_type": "markdown",
   "metadata": {},
   "source": [
    "Here is a description of the variables. \n",
    "\n",
    "*   **condition**: This variable refers to the **experimental condition** a respondent was assigned to in the study. There were four conditions: \n",
    "    *   **1 = control**, where respondents reported their perceptions of the other party's support for partisan violence (SPV) and undemocratic practices (SUP), and then reported their own SPV and SUP.\n",
    "    *   **2 = correction**, where respondents were provided with information about the other party's actual levels of SPV and SUP.\n",
    "    *   **3 = correction and uncertainty**, which added a statement about the unreliability of surveys to the correction.\n",
    "    *   **4 = correction and competition**, which included a statement about a competing survey that portrayed the other party as supporting violent or undemocratic practices.\n",
    "The sample included 1,384 partisans. The data was collected between July 22 and 29, 2022.\n",
    "*   **dem**: This variable indicates whether the respondent identifies as a Democrat. It is coded as 1 if the respondent is a Democrat, and 0 if not.\n",
    "*   **rep**: This variable indicates whether the respondent identifies as a Republican. It is coded as 1 if the respondent is a Republican, and 0 if not.\n",
    "*   **mviol**: This variable measures the respondent's perception of the **other party's support for partisan violence (SPV)**. It is measured on a scale from 0 to 100.\n",
    "*   **viol**: This variable measures the respondent's **own support for partisan violence (SPV)**. It is measured on a scale from 0 to 100.\n",
    "*   **mdemnorms**: This variable measures the respondent's perception of the **other party's support for undemocratic practices (SUP)**. It is measured on a scale from 0 to 100.\n",
    "*   **demnorms**: This variable measures the respondent's **own support for undemocratic practices (SUP)**. It is measured on a scale from 0 to 100.\n"
   ]
  },
  {
   "cell_type": "markdown",
   "metadata": {},
   "source": [
    "Let's dig a bit deeper into the treatments. For example, on the perceptions of partisan violence variable, those in the control condition (`condition = 1`) see: \n",
    "\n",
    "\n",
    "| Question                                                                                           | Your guess |\n",
    "|----------------------------------------------------------------------------------------------------|------------|\n",
    "| When, if ever, is it OK for [outpartisans] to send threatening and intimidating messages to [inparty] party leaders? |            |\n",
    "| When, if ever, is it OK for an ordinary [outpartisan] in the public to harass an ordinary [inpartisan] on the Internet, in a way that makes the target feel frightened? |            |\n",
    "| How much do you feel it is justified for [outpartisans] to use violence in advancing their political goals these days? |            |\n",
    "| How much do you feel it is justified for [outpartisans] to use violence if the [inparty] party wins the next presidential election? |            |\n",
    "| Average support for violence                                                                       |            |\n",
    "\n",
    "While those in the correction condition (`condition = 2`) see: \n",
    "\n",
    "| Question                                                                                           | Your guess | Actual average [outpartisan]’s response* |\n",
    "|----------------------------------------------------------------------------------------------------|------------|------------------------------------------|\n",
    "| When, if ever, is it OK for [outpartisans] to send threatening and intimidating messages to [inparty] party leaders? |          |                                          |\n",
    "| When, if ever, is it OK for an ordinary [outpartisan] in the public to harass an ordinary [inpartisan] on the Internet, in a way that makes the target feel frightened? |          |                                          |\n",
    "| How much do you feel it is justified for [outpartisans] to use violence in advancing their political goals these days? |          |                                          |\n",
    "| How much do you feel it is justified for [outpartisans] to use violence if the [inparty] party wins the next presidential election? |          |                                          |\n",
    "| Average support for violence                                                                       |          |                                          |\n",
    "\n",
    "\n",
    "(In the experiment, the actual average column is populated with the actual values. The average Democrat’s responses for the respective violence questions are 14.40, 14.82, 12.52, and 13.61, leading to an overall average support of 13.84. The average Republican’s responses for the respective violence questions are 11.95, 12.68, 10.61, and 10.51, leading to an overall average of 11.44.)"
   ]
  },
  {
   "cell_type": "markdown",
   "metadata": {},
   "source": [
    "**Question 1.2 What is the difference in the average support for violence (`viol`) among those in the \"condition 2\" treatment versus the control (condition 1)?** "
   ]
  },
  {
   "cell_type": "code",
   "execution_count": null,
   "metadata": {},
   "outputs": [],
   "source": []
  },
  {
   "cell_type": "markdown",
   "metadata": {},
   "source": [
    "**Question 1.3. What is the difference in the average support for undemocratic practices (`demnorms`) among those in the \"condition 2\" treatment versus the control (condition 1)?** "
   ]
  },
  {
   "cell_type": "code",
   "execution_count": null,
   "metadata": {},
   "outputs": [],
   "source": []
  },
  {
   "cell_type": "markdown",
   "metadata": {},
   "source": [
    "**Question 1.4. How do your answers to 1.2 and 1.3 compare to the results in the Voelkel et al \"Megastudy\"?**"
   ]
  },
  {
   "cell_type": "markdown",
   "metadata": {},
   "source": [
    "*Words for 1.4*"
   ]
  },
  {
   "cell_type": "markdown",
   "metadata": {},
   "source": [
    "## Part 2: Robustness?"
   ]
  },
  {
   "cell_type": "markdown",
   "metadata": {},
   "source": [
    "Let's switch gears a bit and look at the correction + uncertainty and correction + competition treatment conditions. (`condition = 3 / 4`)\n",
    "\n",
    "For the correction + uncertainty treatment (`condition = 3`), respondents still receive the correction treatment as stated above, but sees the following additional paragraph.\n",
    "\n",
    "> Recall that the “actual average [outpartisan]’s score comes from a survey we conducted with a nationally representative sample of [outpartisan]s. That said, interpreting any survey or poll can be tricky and possibly unreliable, as was made clear by the 2020 election polls. Indeed, a report from the American Association for Public Opinion Research states, “the average performance of polls in 2020 was among the worst in recent memory.”\n",
    "\n",
    "For the correction + competition treatment (`condition = 4`), respondents still receive the correction treatment as stated above, but sees the following additional paragraph.\n",
    "\n",
    "> **For Republicans:** Recall that the “average actual Democrat’s response score” comes from a survey we conducted with a nationally representative sample of Democrats. That said, some may point out that other surveys offer a different picture. For example, while not explicitly about violence, a Morning Consult poll nonetheless showed that nearly 70% of Democrats express support for the protests against police sparked by the death of George Floyd in June, 2020.\n",
    "\n",
    "> **For Democrats:** Recall that “average actual Republican’s response score” comes from a survey we conducted with a nationally representative sample of Republicans. That said, some may point out that other surveys offer a different picture. For example, while not explicitly about violence, an ABC/Ipsos poll nonetheless showed that more than 50% of Republicans believe the January 6th rioters were “protecting democracy,” nearly a year after the attack on the U.S. Capitol."
   ]
  },
  {
   "cell_type": "markdown",
   "metadata": {},
   "source": [
    "**Question 2.1. What is the difference between the support for violence among those in condition 3 vs condition 1?**"
   ]
  },
  {
   "cell_type": "code",
   "execution_count": null,
   "metadata": {},
   "outputs": [],
   "source": []
  },
  {
   "cell_type": "markdown",
   "metadata": {},
   "source": [
    "**Question 2.2. What is the difference between the support for violence among those in condition 4 vs condition 1?**"
   ]
  },
  {
   "cell_type": "code",
   "execution_count": null,
   "metadata": {},
   "outputs": [],
   "source": []
  },
  {
   "cell_type": "markdown",
   "metadata": {},
   "source": [
    "**Question 2.3. Interpret the results you got in 2.1 and 2.2. How does the effect of correction + uncertainty and correction + competition compare to just the correction?**"
   ]
  },
  {
   "cell_type": "markdown",
   "metadata": {},
   "source": [
    "*Words for 2.3*"
   ]
  },
  {
   "cell_type": "markdown",
   "metadata": {},
   "source": [
    "We can also look at the effect of all of the treatments at the same time and get uncertainty estimates (standard errors, etc.) by doing this with a regression. We migth be tempted to run the following regression:"
   ]
  },
  {
   "cell_type": "code",
   "execution_count": null,
   "metadata": {},
   "outputs": [],
   "source": [
    "summary(lm(viol~condition, data=druckman))"
   ]
  },
  {
   "cell_type": "markdown",
   "metadata": {},
   "source": [
    "Note this gives a single coefficient on `condition`, but recall there are four different conditions! The issue is that the condition variable is a number, so running the regression like this essentially fits a best fit line through the following points:"
   ]
  },
  {
   "cell_type": "code",
   "execution_count": null,
   "metadata": {},
   "outputs": [],
   "source": [
    "plot(1:4, tapply(druckman$viol, druckman$condition, mean), xlab=\"condition\", ylab=\"SPV\")\n",
    "badreg <- lm(viol~condition, data=druckman)\n",
    "abline(a=badreg$coefficients[1], b=badreg$coefficients[2])"
   ]
  },
  {
   "cell_type": "markdown",
   "metadata": {},
   "source": [
    "A nice way to look at the effects of each condition individually is to tell R to treat this variable as a \"factor\" in the regression:"
   ]
  },
  {
   "cell_type": "code",
   "execution_count": null,
   "metadata": {},
   "outputs": [],
   "source": [
    "summary(lm(viol~factor(condition), data=druckman))"
   ]
  },
  {
   "cell_type": "markdown",
   "metadata": {},
   "source": [
    "Whenever you enter a independent variable into a regression as a factor R proceeds in two steps: \n",
    "- It set's one potential value of the variable as the \"base category\". In this case it sets condition 1 as the base category, which is nice since it is the control group\n",
    "- R then temporarly makes dummy or indicator variables for all other possible values, which it inputs as independent variables in the regression.\n",
    "\n",
    "Combining, we get coeficients on things like `factor(condition)2`, which tells us the effect of being in condition 2 vs the base category (condition 1). And if you go up and check, you should get the same difference you got when looking at the mean in condition 2 vs condition 1! Similarly, `factor(condition)3` tells us the effect of going from condition 1 to 3, and `factor(condition)4` tells us the effect of going from condition 1 to 4.\n",
    "\n",
    "We can also see from this regression table that the standard error for each condition effect is 1.591, and only the difference between 2 and 1 is statistically significant (the other p values are (.2 and .83)\n",
    "\n"
   ]
  },
  {
   "cell_type": "markdown",
   "metadata": {},
   "source": [
    "**Question 2.4. Run a regression which shows the impact of each treatment relative to the control on `demnorms`. Interpret the results.**"
   ]
  },
  {
   "cell_type": "code",
   "execution_count": null,
   "metadata": {},
   "outputs": [],
   "source": []
  },
  {
   "cell_type": "markdown",
   "metadata": {},
   "source": [
    "Another thing we can check is whether the corrections matter more for people who overestimate how much the other side supports violence or undemocratic practice. \n",
    "\n",
    "**Question 2.5. Make a histogram of the `mviol` variable, and interpret the graph.**"
   ]
  },
  {
   "cell_type": "code",
   "execution_count": null,
   "metadata": {},
   "outputs": [],
   "source": []
  },
  {
   "cell_type": "markdown",
   "metadata": {},
   "source": [
    "Recall the true support for violence is around 10-15. Let's classify people who guess over 40 as having a excessively high guess.\n",
    "\n",
    "**Question 2.6. Make a variable called `druckman$mviol_high` which is equal to 1 for those with mviol > 40 and 0 otherwise.**"
   ]
  },
  {
   "cell_type": "code",
   "execution_count": null,
   "metadata": {},
   "outputs": [],
   "source": []
  },
  {
   "cell_type": "markdown",
   "metadata": {},
   "source": [
    "**Question 2.7. Run seperate regressions that look at the effect of each condition on the `viol` variable, first on the subset of people with an excessively high guess, and then for those who did not make an excessively high guess. Interpret the results.**"
   ]
  },
  {
   "cell_type": "code",
   "execution_count": null,
   "metadata": {},
   "outputs": [],
   "source": []
  },
  {
   "cell_type": "markdown",
   "metadata": {},
   "source": [
    "## Part 3: what does it all mean?"
   ]
  },
  {
   "cell_type": "markdown",
   "metadata": {},
   "source": [
    "**Question 3.1** Discuss possible implications on policymakers trying to implement interventions to reduce political polarization in order to strengthen democracy."
   ]
  },
  {
   "cell_type": "markdown",
   "metadata": {},
   "source": [
    "*Words for 3.1*"
   ]
  },
  {
   "cell_type": "markdown",
   "metadata": {},
   "source": [
    "**Question 3.2** Discuss a possible alternative to correction-based intervention to reduce political polarization. Explain why your suggestion can be more durable than the above."
   ]
  },
  {
   "cell_type": "markdown",
   "metadata": {},
   "source": [
    "*Words for 3.2*"
   ]
  },
  {
   "cell_type": "markdown",
   "metadata": {},
   "source": [
    "## Part 4: Visualizing regressions [optional]\n",
    "\n",
    "Note: this might not work yet! I put in a request to install the required packages but I'm not sure when it will be done, so I'm tagging this section as optional."
   ]
  },
  {
   "cell_type": "markdown",
   "metadata": {},
   "source": [
    "To visualize the uncertainty associated with the regression estimates in a way similar to the Voelkel et al paper, we can use the `coefplot` function. Here is how we can use it to plot the coefficients for our basic regression predicting support for violence:"
   ]
  },
  {
   "cell_type": "code",
   "execution_count": null,
   "metadata": {},
   "outputs": [],
   "source": [
    "library(coefplot)\n",
    "vm <- lm(viol~factor(condition), data=druckman)\n",
    "coefplot(vm, intercept=FALSE)"
   ]
  },
  {
   "cell_type": "markdown",
   "metadata": {},
   "source": [
    "This gives us the coefficient (or point estimate) for each condition treatment effect as a dot, and then some bars representing the standard error/confidence interval. By defaul the inner thick bar corresponds to 1 standard error, and the thinner one corresponds to 2 standard erros. So the outer one is close to a 95% confidence interval (recall a 95% confidence interval is +/- 1.96 SE).\n",
    "\n",
    "**Question 4.1. Make a coefficient plot for one of the other regressions from part 2. Does this correspond to what you would expect from the regression output?**"
   ]
  },
  {
   "cell_type": "code",
   "execution_count": null,
   "metadata": {},
   "outputs": [],
   "source": []
  }
 ],
 "metadata": {
  "kernelspec": {
   "display_name": "R",
   "language": "R",
   "name": "ir"
  },
  "language_info": {
   "codemirror_mode": "r",
   "file_extension": ".r",
   "mimetype": "text/x-r-source",
   "name": "R",
   "pygments_lexer": "r",
   "version": "4.4.0"
  },
  "latex_envs": {
   "LaTeX_envs_menu_present": true,
   "autoclose": false,
   "autocomplete": true,
   "bibliofile": "biblio.bib",
   "cite_by": "apalike",
   "current_citInitial": 1,
   "eqLabelWithNumbers": true,
   "eqNumInitial": 1,
   "hotkeys": {
    "equation": "Ctrl-E",
    "itemize": "Ctrl-I"
   },
   "labels_anchors": false,
   "latex_user_defs": false,
   "report_style_numbering": false,
   "user_envs_cfg": false
  }
 },
 "nbformat": 4,
 "nbformat_minor": 4
}
