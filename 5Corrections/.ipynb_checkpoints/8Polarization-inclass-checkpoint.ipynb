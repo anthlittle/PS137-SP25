{
 "cells": [
  {
   "cell_type": "markdown",
   "metadata": {},
   "source": [
    "# POLSCI PS137L Spring 2025\n",
    "\n",
    "## In-Class Assignment: Correcting Misperceptions to Strengthen Democratic Norms in a Polarized Society\n",
    "\n",
    "In this in-class assignment, we examine [a recently published paper in *Nature Human Behavior*](https://www.nature.com/articles/s41562-023-01594-w). The leading authors including a current graduate student and a faculty member in this very department!\n",
    "\n",
    "The article addresses the paradox of why voters who profess support for democracy often participate in its erosion. The authors identify a key mechanism they term the \"subversion dilemma\"—the belief that the opposing political faction is willing to undermine democracy encourages voters to tolerate anti-democratic actions by their own representatives. This dynamic perpetuates democratic backsliding.\n",
    "\n",
    "The paper's data structure is as follows:\n",
    "\n",
    "* Study 1: Observational data collected from 1,973 U.S. partisans. Measures included self-reported willingness to break democratic norms and perceptions of opposing partisans' willingness to do the same (7-item scale).\n",
    "* Study 2: Experimental data from 2,545 participants using an \"ask-tell\" method to correct misperceptions about opposing partisans' behaviors.\n",
    "    * Sub-study 2a: Focused on changing perceptions to shape subjects' attitudes on democratic attitudes.\n",
    "    * Sub-study 2b: Explored impacts on hypothetical voting decisions.\n",
    "* Study 3: Panel study with 1,848 participants to replicate findings and address concerns about social desirability bias.\n",
    "\n",
    "For this exercise, we focus on study 2a."
   ]
  },
  {
   "cell_type": "markdown",
   "metadata": {},
   "source": [
    "Before we look at the data, let's spend some time to think the following question.\n",
    "\n",
    "**Question 1.1 Why might citizens who support democracy vote for leaders who undermine it? How might beliefs about whether the other party will undermine democracy affect this?** "
   ]
  },
  {
   "cell_type": "markdown",
   "metadata": {},
   "source": [
    "*Answer to 1.1*"
   ]
  },
  {
   "cell_type": "markdown",
   "metadata": {
    "vscode": {
     "languageId": "plaintext"
    }
   },
   "source": [
    "Now, let's focus on study 2.\n",
    "\n",
    "\n",
    "**Background:** Study 2 aimed to test if correcting misperceptions about opposing partisans' willingness to break democratic norms would affect partisans' own willingness to uphold these norms. This study builds on the idea that the belief that the other side will subvert democracy leads partisans to support subverting it themselves.\n",
    "\n",
    "**Treatment Condition:**\n",
    "*   Participants were randomly assigned to a treatment or control group.\n",
    "*   The treatment group received an \"ask-tell\" intervention. After answering questions about how willing they thought the opposing partisans would be to subvert democracy, participants in the treatment group were told how the opposing partisans had actually responded.\n",
    "*   The control group answered the same questions about opposing partisans but did not receive any feedback.\n",
    "\n",
    "The specific actions to subvert democracy includes: banning rallies of the opposing party, ignoring court rulings favoring the opposing party, freezing social media accounts of journalists favorable to the out-party, reducing the number of voting stations at counties with predominant out-party members, changing laws to make it easier for their own side to get elected, using violence to block laws enacted by the out-party and so on.\n",
    "\n",
    "In this exercise, we focus on the self-reported willingness to subvert democracy outcome. This is measured using a seven-item scale, but asking about the respondents' own willingness to support actions undermining democracy.\n",
    "\n"
   ]
  },
  {
   "cell_type": "markdown",
   "metadata": {},
   "source": [
    "Below is the manipulation check of the treatment condition (i.e. to see if the treatment actually worked). Each column plots how respondents view outpartisans' willingness to subvert democracy. The left column plots how Democrats view Republicans. The right column plots how Republicans view Democrats. The top row plots how Democrats / Republicans view the outpartisan group's willingness to subvert democracy in the control group. The bottom row plots how Democrats / Republicans view the outpartisan group's willingness to subvert democracy in the treatment group.\n",
    "\n",
    "![Fig4 from the paper](ask-tell.png \"Manipulation check\")\n",
    "\n",
    "**Question 1.2. Explain what these graphs show in your own words (though you can check the paper for their related discussion!)**"
   ]
  },
  {
   "cell_type": "markdown",
   "metadata": {},
   "source": [
    "*Answer to 1.2*"
   ]
  },
  {
   "cell_type": "markdown",
   "metadata": {},
   "source": [
    "**Question 1.3. Think about the relationship between your answer to 1.1 and 1.2. Why might we expect that this treatment might affect people's own support for subverting democracy?**"
   ]
  },
  {
   "cell_type": "markdown",
   "metadata": {},
   "source": [
    "*Answer to 1.3*"
   ]
  },
  {
   "cell_type": "markdown",
   "metadata": {},
   "source": [
    "## Part 2: The data"
   ]
  },
  {
   "cell_type": "markdown",
   "metadata": {},
   "source": [
    "Now, let's load the data. Moreover, let's look at the data structure."
   ]
  },
  {
   "cell_type": "code",
   "execution_count": null,
   "metadata": {
    "scrolled": true,
    "vscode": {
     "languageId": "plaintext"
    }
   },
   "outputs": [],
   "source": [
    "edata <- readRDS(\"data/Braleyetal.rds\")\n",
    "edata"
   ]
  },
  {
   "cell_type": "markdown",
   "metadata": {},
   "source": [
    "The data set contains the following variables:\n",
    "\n",
    "*   **`party`**: This variable indicates the **partisan affiliation** of the respondent. Here, we only have Republicans and Democrats. (Independents are ruled out).\n",
    "\n",
    "*   **`treatment`**: This is a categorical variable indicating whether the respondent was in the **\"treatment\"** group or the **\"control\"** group in an experiment.\n",
    "\n",
    "*   **`prior_subversion`**: This variable represents the **prior beliefs** of the respondent. This is what the respondent answered to the first question on how much they believe the outpartisans are willing to subvert democratic norms, before any possible ask-tell treatment. It is normalized to range from 0 (very unwilling to subvert democracy) to 1 (very willing to subvert democracy).\n",
    "\n",
    "*   **`posterior_norm`**: This variable measures the respondents’ **self-reported willingness to subvert democratic norms** _after_ possible treatment. It also ranges from 0 (very unwilling to subvert democracy) to 1 (very willing to subvert democracy). \n",
    "\n",
    "*   **`gender`**: as is"
   ]
  },
  {
   "cell_type": "markdown",
   "metadata": {},
   "source": [
    "First, let's see if we can replicate the key patterns from the graph above using the raw data.\n",
    "\n",
    "**Question 2.1. Among Republicans, what is the average prior beliefs about outparty (Democrats) willingness to subvert democracy?** "
   ]
  },
  {
   "cell_type": "code",
   "execution_count": null,
   "metadata": {},
   "outputs": [],
   "source": []
  },
  {
   "cell_type": "markdown",
   "metadata": {},
   "source": [
    "**Question 2.2 Among Democrats, what is the average prior beliefs about outparty (Republicans) willingness to subvert democracy?**"
   ]
  },
  {
   "cell_type": "code",
   "execution_count": null,
   "metadata": {},
   "outputs": [],
   "source": []
  },
  {
   "cell_type": "markdown",
   "metadata": {},
   "source": [
    "To see how this corresponds to reality, we can look at the \"posterior\" self-reported willingness to subvert democratic norms in the control group (i.e., people who don't learn the true willingness from the experimental treatment). \n",
    "\n",
    "**Question 2.3. What is the average true willingness to subvert democracy for Democrats the control group? Republicans in the control group? How does this correspond to the graphs from part 1?**"
   ]
  },
  {
   "cell_type": "code",
   "execution_count": null,
   "metadata": {},
   "outputs": [],
   "source": []
  },
  {
   "cell_type": "code",
   "execution_count": null,
   "metadata": {},
   "outputs": [],
   "source": []
  },
  {
   "cell_type": "markdown",
   "metadata": {},
   "source": [
    "*Words for 2.3*"
   ]
  },
  {
   "cell_type": "markdown",
   "metadata": {},
   "source": [
    "We can look at the relationship between the belief about whether others are willing to subvert democracy and one's own willingness by running a linear regression where `posterior_norm` is the dependent variable and `prior_subversion` is the independent variable."
   ]
  },
  {
   "cell_type": "code",
   "execution_count": null,
   "metadata": {},
   "outputs": [],
   "source": [
    "summary(lm(posterior_norm ~ prior_subversion, data=edata))"
   ]
  },
  {
   "cell_type": "markdown",
   "metadata": {},
   "source": [
    "This indicates that as the belief that the outpart is willing to subvert goes up by 1 unit (the whole scale), the self-reported willingness to subvert goes up by about 8% (on a 0-1 scale). The p value is very low, indicating we would be very unlikely to observe such a relationship by random chance if in reality there was no relationship between these variables.\n",
    "\n",
    "However, this is not the ideal analysis to do since the treatment group got to learn the true out-party willingness to subvert democracy. So it is better to restrict to the control group. We can do that by adding a `subset=(treatment==\"control\")` argument after the `data=edata` argument. \n",
    "\n",
    "**Question 2.4. Rerun the regression above on the control group. Interpret the coefficient on `prior_subversion`.**"
   ]
  },
  {
   "cell_type": "code",
   "execution_count": null,
   "metadata": {},
   "outputs": [],
   "source": []
  },
  {
   "cell_type": "markdown",
   "metadata": {},
   "source": [
    "## Part 3. The key result\n",
    "Now let's get to the key idea behind this study. \n",
    "\n",
    "**Question 3.1. Run a linear regression with `posterior_norm` as the dependent variable and `treatment` as the independent variable. Interpret the result.**"
   ]
  },
  {
   "cell_type": "code",
   "execution_count": null,
   "metadata": {},
   "outputs": [],
   "source": []
  },
  {
   "cell_type": "markdown",
   "metadata": {},
   "source": [
    "**Question 3.2. Now run seperate regressions on the respondents who are Democrats and Republicans. Who was affected more by the treatment? Why might this be the case?**"
   ]
  },
  {
   "cell_type": "markdown",
   "metadata": {},
   "source": [
    "The data frame also contains information about the gender of the respondent. \n",
    "\n",
    "**Question 3.3. Run some analysis using this variable. What do you expect to find, and what do you actually find?**"
   ]
  },
  {
   "cell_type": "code",
   "execution_count": null,
   "metadata": {},
   "outputs": [],
   "source": []
  }
 ],
 "metadata": {
  "kernelspec": {
   "display_name": "R",
   "language": "R",
   "name": "ir"
  },
  "language_info": {
   "codemirror_mode": "r",
   "file_extension": ".r",
   "mimetype": "text/x-r-source",
   "name": "R",
   "pygments_lexer": "r",
   "version": "4.4.0"
  },
  "latex_envs": {
   "LaTeX_envs_menu_present": true,
   "autoclose": false,
   "autocomplete": true,
   "bibliofile": "biblio.bib",
   "cite_by": "apalike",
   "current_citInitial": 1,
   "eqLabelWithNumbers": true,
   "eqNumInitial": 1,
   "hotkeys": {
    "equation": "Ctrl-E",
    "itemize": "Ctrl-I"
   },
   "labels_anchors": false,
   "latex_user_defs": false,
   "report_style_numbering": false,
   "user_envs_cfg": false
  }
 },
 "nbformat": 4,
 "nbformat_minor": 4
}
