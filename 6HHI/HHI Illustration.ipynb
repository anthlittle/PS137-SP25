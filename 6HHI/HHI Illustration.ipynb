{
 "cells": [
  {
   "cell_type": "markdown",
   "id": "0d3efa47",
   "metadata": {},
   "source": [
    "Here is a definition of the HHI for a population with two groups, where the first group makes up share $p$, $0 < p < 1$"
   ]
  },
  {
   "cell_type": "code",
   "execution_count": null,
   "id": "3a223def",
   "metadata": {},
   "outputs": [],
   "source": [
    "hhi2 <- function(p) 1-(p^2 + (1-p)^2)"
   ]
  },
  {
   "cell_type": "code",
   "execution_count": null,
   "id": "d4ba79f8",
   "metadata": {},
   "outputs": [],
   "source": [
    "# Make a graph of this"
   ]
  },
  {
   "cell_type": "markdown",
   "id": "e2b6ce15",
   "metadata": {},
   "source": [
    "Here is the more general hhi function, where we have to input a vector that sums to 1"
   ]
  },
  {
   "cell_type": "code",
   "execution_count": null,
   "id": "104a44df",
   "metadata": {},
   "outputs": [],
   "source": [
    "hhi <- function(pvec) ifelse(sum(pvec)==1, 1-sum(pvec^2), NA)"
   ]
  },
  {
   "cell_type": "code",
   "execution_count": 32,
   "id": "03549162",
   "metadata": {},
   "outputs": [
    {
     "data": {
      "text/html": [
       "0.5"
      ],
      "text/latex": [
       "0.5"
      ],
      "text/markdown": [
       "0.5"
      ],
      "text/plain": [
       "[1] 0.5"
      ]
     },
     "metadata": {},
     "output_type": "display_data"
    }
   ],
   "source": [
    "# Example:\n",
    "hhi(c(.5, .5))"
   ]
  },
  {
   "cell_type": "code",
   "execution_count": null,
   "id": "9f3d9a76",
   "metadata": {},
   "outputs": [],
   "source": []
  },
  {
   "cell_type": "code",
   "execution_count": null,
   "id": "e97c2fff",
   "metadata": {},
   "outputs": [],
   "source": []
  },
  {
   "cell_type": "code",
   "execution_count": null,
   "id": "e36654d2",
   "metadata": {},
   "outputs": [],
   "source": []
  },
  {
   "cell_type": "code",
   "execution_count": null,
   "id": "67c67b41",
   "metadata": {},
   "outputs": [],
   "source": []
  },
  {
   "cell_type": "code",
   "execution_count": null,
   "id": "b5553fa3",
   "metadata": {},
   "outputs": [],
   "source": []
  }
 ],
 "metadata": {
  "kernelspec": {
   "display_name": "R",
   "language": "R",
   "name": "ir"
  },
  "language_info": {
   "codemirror_mode": "r",
   "file_extension": ".r",
   "mimetype": "text/x-r-source",
   "name": "R",
   "pygments_lexer": "r",
   "version": "4.4.0"
  }
 },
 "nbformat": 4,
 "nbformat_minor": 5
}
