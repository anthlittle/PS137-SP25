{
 "cells": [
  {
   "cell_type": "markdown",
   "id": "47ce55c6-bfda-4572-bee7-42c33b56a671",
   "metadata": {},
   "source": [
    "# POLSCI PS137L Spring 2025\n",
    "\n",
    "## In-Class Assignment: Challenges with subjective meaures of democracy\n",
    "\n",
    "This is the first part to a two-part notebook on a debate regarding the current state of democracy as well as broader questions of measuring democratic health (and backsliding).\n",
    "\n",
    "In this exercise we will focus on some things that can go wrong with subective measures. But we will be balanced and look at some problems with objective measures in the homework!"
   ]
  },
  {
   "cell_type": "markdown",
   "id": "c824233b-55d0-4f80-bb70-1c6acd21c43f",
   "metadata": {},
   "source": [
    "Here is a quick overview/reminder of a well-known democracy measurement project that we have used a few times thorughout the semester: **Varieties of Democracy (V-Dem).** \n",
    "\n",
    "- **Overview:**\n",
    "  - V-Dem is a comprehensive dataset that measures various dimensions of democracy across the world.\n",
    "  - It covers more than **200 countries** and spans from **1789 to the present**, making it one of the most extensive sources of democratic indicators.\n",
    "  - The project is based at the V-Dem Institute at the University of Gothenburg, Sweden, and involves collaboration with scholars worldwide.\n",
    "\n",
    "- **Data Collection Process:**\n",
    "  - V-Dem relies on **thousands of country experts** (coders) to assess democratic indicators.\n",
    "  - Each country-year observation is coded by multiple experts, ensuring **diverse perspectives and reducing bias.**\n",
    "  - Coders assess both **objective facts** (e.g., election turnover) and **subjective perceptions** (e.g., freedom of expression, judicial independence).\n",
    "\n",
    "- **Aggregation of Indices:**\n",
    "  - To ensure reliability, V-Dem uses a **Bayesian measurement model** that accounts for coder differences.\n",
    "  - It does this by treating democracy as something we can't observe directly (a latent concept) and using expert ratings as imperfect signals of it. The model accounts for differences between coders, such as their personal biases or tendencies to rate things too high or too low, by estimating how reliable each coder is based on their consistency and agreement with others.\n",
    "\n",
    "Here we will walk through a simplified version of their measurement model and think about what problems it can and can't solve.\n",
    "\n",
    "First, let's look at one tiny slice of the index: how the United States fared at one specific indicator - the _Freedom of discussion for men (C) (v2cldiscm)_ indicator. Experts are asked to give one of the following five scores for any given year for the United States.\n",
    "\n",
    "`*Question:* Are men able to openly discuss political issues in private homes and in public spaces?`\n",
    "\n",
    "*Responses:*\n",
    "- **0:** Not respected. Hardly any freedom of expression exists for men. Men are subject to immediate and harsh intervention and harassment for expression of political opinion.\n",
    "- **1:** Weakly respected. Expressions of political opinions by men are frequently exposed to intervention and harassment.\n",
    "- **2:** Somewhat respected. Expressions of political opinions by men are occasionally exposed to intervention and harassment.\n",
    "- **3:** Mostly respected. There are minor restraints on the freedom of expression in the private sphere, predominantly limited to a few isolated cases or only linked to soft sanctions. But as a rule, there is no intervention or harassment if men make political statements.\n",
    "- **4:** Fully respected. Freedom of speech for men in their homes and in public spaces is not restricted.  \n"
   ]
  },
  {
   "cell_type": "markdown",
   "id": "d0dae21c",
   "metadata": {},
   "source": [
    "## Part 1: The trend\n",
    "Let's load up the data."
   ]
  },
  {
   "cell_type": "code",
   "execution_count": null,
   "id": "97e829b4-77de-4b8e-a192-efe238dae17e",
   "metadata": {},
   "outputs": [],
   "source": [
    "# Run this\n",
    "suppressPackageStartupMessages(library(tidyverse))\n",
    "usa <- read_rds(\"data/VDemUS-CY.rds\")\n",
    "head(usa)\n"
   ]
  },
  {
   "cell_type": "markdown",
   "id": "a054dfd3-cc45-4e19-aad5-ed342b2b5ce4",
   "metadata": {},
   "source": [
    "Just a refresher on the variable names: \n",
    "\n",
    "| Variable         | Type    | Description                                                       |\n",
    "|------------------|---------|-------------------------------------------------------------------|\n",
    "| `country_text_id` | String  | The country identifier in text format. Example: \"USA\".          |\n",
    "| `year`            | String  | The year associated with the observation, stored as text.        |\n",
    "| `v2cldiscm`       | Number | Compiled Freedom of Discussion For Men Score (0 to 4). |"
   ]
  },
  {
   "cell_type": "markdown",
   "id": "a8771686",
   "metadata": {},
   "source": [
    "**Question 1.1. Make a plot of the `v2cldiscm` variable over time. Be sure to label the axes.**"
   ]
  },
  {
   "cell_type": "code",
   "execution_count": null,
   "id": "8c986912-44dc-4c63-94ab-e681fa7cf62a",
   "metadata": {},
   "outputs": [],
   "source": [
    "# Code for 1.1"
   ]
  },
  {
   "cell_type": "markdown",
   "id": "e4382569-8b13-412a-a94e-7a39cc074a24",
   "metadata": {},
   "source": [
    "**Question 1.2. How did this measure change in the last 10-20 years of the data? Think about what might have caused this drop. Do you think this is reasonable?**"
   ]
  },
  {
   "cell_type": "markdown",
   "id": "1ad45b46-c951-489f-87e8-59284dc48c1d",
   "metadata": {},
   "source": [
    "*Answer to 1.2*"
   ]
  },
  {
   "cell_type": "markdown",
   "id": "105cadec-8208-4277-822f-ae01d4cb229f",
   "metadata": {},
   "source": [
    "## Part 2: Coder level data\n",
    "Now, let's dig a little bit deeper into how this index is compiled. A nice thing about V-Dem is that they make the individual coder data available. This creates a massive dataset, but let's just look at the coders for the US on this variable for the last 10 years."
   ]
  },
  {
   "cell_type": "code",
   "execution_count": null,
   "id": "9e7ff6e9-f979-445f-9ca7-7b417ca50f6f",
   "metadata": {},
   "outputs": [],
   "source": [
    "# Load the data\n",
    "cy <- read_rds(\"data/coder_USA_contemp.rds\")\n",
    "head(cy)"
   ]
  },
  {
   "cell_type": "markdown",
   "id": "5115079b-06ae-430c-bc0c-7aec76bebe2d",
   "metadata": {},
   "source": [
    "\n",
    "| Variable         | Type    | Description                                                       |\n",
    "|------------------|---------|-------------------------------------------------------------------|\n",
    "| `country_text_id` | String  | The country identifier in text format. Example: \"USA\".          |\n",
    "| `coder_id`        | Integer | Unique identifier for the coder who provided the data.           |\n",
    "| `year`            | String  | The year associated with the observation, stored as text.        |\n",
    "| `v2cldiscm`       | Integer | Freedom of Discussion Score for men (0, 1, 2, 3 or 4) given by that coder in that year |\n",
    "\n"
   ]
  },
  {
   "cell_type": "markdown",
   "id": "e4dbca4d",
   "metadata": {},
   "source": [
    "Each row here corresponds to an individual coder, and the 0-4 point answer they gave to this question for a given year. \n",
    "\n",
    "By making of a table of the `year` variable we can count how many coders there are in each year"
   ]
  },
  {
   "cell_type": "code",
   "execution_count": null,
   "id": "f4c929f3",
   "metadata": {},
   "outputs": [],
   "source": [
    "table(cy$year)"
   ]
  },
  {
   "cell_type": "markdown",
   "id": "0068b2ec",
   "metadata": {},
   "source": [
    "The number ranges from 10-20. This is actually high in a comparative sense: the minimum number of coders for recent years is 5, and most countries are close to that. \n"
   ]
  },
  {
   "cell_type": "markdown",
   "id": "99c6ad74",
   "metadata": {},
   "source": [
    "**Question 2.1. Make a table of the `coder_id` variable. Interpret the output.**"
   ]
  },
  {
   "cell_type": "code",
   "execution_count": null,
   "id": "db942111",
   "metadata": {},
   "outputs": [],
   "source": [
    "# Code for 2.1"
   ]
  },
  {
   "cell_type": "markdown",
   "id": "11dd07c7",
   "metadata": {},
   "source": [
    "*Answer to 2.1*"
   ]
  },
  {
   "cell_type": "markdown",
   "id": "0a352ca9-7262-4394-8cef-26274fb15ade",
   "metadata": {},
   "source": [
    "**Question 2.2. Recall we saw a dip in the data from around 2014 to 2027. Create subsets of this data for these individual years, and then make a table of the `v2cldiscm` variable for each subset to see the distribution of coder ratings in each year.** "
   ]
  },
  {
   "cell_type": "code",
   "execution_count": null,
   "id": "ceb5099c-795f-4c63-aa5f-fd084f1fb179",
   "metadata": {},
   "outputs": [],
   "source": [
    "\n"
   ]
  },
  {
   "cell_type": "markdown",
   "id": "c43d8889",
   "metadata": {},
   "source": [
    "**Question 2.3. compare the range of responses across these years.** "
   ]
  },
  {
   "cell_type": "markdown",
   "id": "7b86cbcb",
   "metadata": {},
   "source": [
    "*Words for 1.3*"
   ]
  },
  {
   "cell_type": "markdown",
   "id": "ffc272dc",
   "metadata": {},
   "source": [
    "We can compute the \"raw average\" coder rating using the tapply function. Let's put this in a year level data frame for later use."
   ]
  },
  {
   "cell_type": "code",
   "execution_count": null,
   "id": "8f42e4ef",
   "metadata": {},
   "outputs": [],
   "source": [
    "rawavg <- tapply(cy$v2cldiscm, cy$year, mean)\n",
    "# setting up the data frame with a year column\n",
    "yr <- data.frame(year=2014:2023)\n",
    "# adding the raw average as a column to the data frame\n",
    "yr$rawavg <- rawavg\n",
    "yr"
   ]
  },
  {
   "cell_type": "markdown",
   "id": "f7442052",
   "metadata": {},
   "source": [
    "**Question 2.4. Plot the raw average of the coder rating of the US on this variable**"
   ]
  },
  {
   "cell_type": "code",
   "execution_count": null,
   "id": "0be2a726",
   "metadata": {},
   "outputs": [],
   "source": [
    "# Code for 2.4"
   ]
  },
  {
   "cell_type": "markdown",
   "id": "5633086d",
   "metadata": {},
   "source": [
    "You should find a relatively modest dip in the coding from 2014 to 2017, compared to the one in the original data. I think what is going on here is those who give a higher rating happened to get a lower weight for some reason. (It probably has to do with how they answered other questions.) \n",
    "\n",
    "To get something a bit closer to the main data and explore how this weighting might work in more detail, let's create a version of the data where we drop some of the people who answered \"4\"."
   ]
  },
  {
   "cell_type": "code",
   "execution_count": null,
   "id": "50ddb3ec",
   "metadata": {},
   "outputs": [],
   "source": [
    "#Which ones coded 4 in 2017?\n",
    "code4s<- cy$coder_id[cy$year == 2017 & cy$v2cldiscm == 4]\n",
    "# Dropping 7 of them\n",
    "todrop <- code4s[1:7]\n",
    "cy2 <- subset(cy, !coder_id %in% todrop)\n",
    "dim(cy)"
   ]
  },
  {
   "cell_type": "markdown",
   "id": "8f604f7e",
   "metadata": {},
   "source": [
    "**Question 2.5. Compute the average coder rating in the `cy2` data (after dropping some of the 4 coders), and add that to the `yr` data frame, in a column called `newavg`. Then plot the `newavg` variable over time.**"
   ]
  },
  {
   "cell_type": "code",
   "execution_count": null,
   "id": "8904e422",
   "metadata": {},
   "outputs": [],
   "source": [
    "# Code for 2.5\n"
   ]
  },
  {
   "cell_type": "code",
   "execution_count": null,
   "id": "0e37de15",
   "metadata": {},
   "outputs": [],
   "source": []
  },
  {
   "cell_type": "markdown",
   "id": "73721a01",
   "metadata": {},
   "source": [
    "## Part 3: Weighting\n",
    "\n",
    "In a [response article to Little and Meng by authors who work at V–Dem](https://www.cambridge.org/core/journals/ps-political-science-and-politics/article/conceptual-and-measurement-issues-in-assessing-democratic-backsliding/7A620BD91885C932B48E6783BC32CA24), they state \n",
    "> If a few experts for a particular country shift their scores downward due\n",
    "to bad-vibes bias, the bad-vibing experts likely will be considered less reliable and contribute less to the estimation process [of the Bayesian Measurement model]. A\n",
    "country’s score on an indicator therefore is unlikely to experience a large decline unless the majority of its experts experience similar bad vibes.\n",
    "\n",
    "Let's explore what they mean by this and why it may not be as simple as the authors suggest.\n",
    "\n",
    "First, we are going to add a hypothetical \"bad vibe\" coder who starts coding the US as a 0 on this variable once Trump takes office in 2017."
   ]
  },
  {
   "cell_type": "code",
   "execution_count": null,
   "id": "b10e97cb",
   "metadata": {},
   "outputs": [],
   "source": [
    "badvibe <- data.frame(country_text_id = \"USA\", coder_id=789, year=2014:2023,\n",
    "                      v2cldiscm=c(4,4,4,0,0,0,0,0,0,0))\n",
    "# This adds the coder to the data\n",
    "cy_wb <- rbind(cy2, badvibe)"
   ]
  },
  {
   "cell_type": "markdown",
   "id": "0486f785",
   "metadata": {},
   "source": [
    "Since you have already done lots of related coding I'll just compute the average with the bad vibe coder and compare that to the version without the bad vibe coder for you"
   ]
  },
  {
   "cell_type": "code",
   "execution_count": null,
   "id": "70ae0a5e",
   "metadata": {},
   "outputs": [],
   "source": [
    "avg_wb <- tapply(cy_wb$v2cldiscm, cy_wb$year, mean)\n",
    "yr$avg_wb <- avg_wb\n",
    "plot(yr$year, yr$newavg, type=\"l\", ylim=c(0,4))\n",
    "lines(yr$year, yr$avg_wb, col=\"red\")"
   ]
  },
  {
   "cell_type": "markdown",
   "id": "59c9d9ec",
   "metadata": {},
   "source": [
    "Unsurprisingly, adding the bad vibe coder lowers the average score (red) starting in 2017.\n",
    "\n",
    "Now let's see how assigning a lower weight to coders who are out of step with others changes this picture. First we will add the average score on this variable for each year to the coder-level data"
   ]
  },
  {
   "cell_type": "code",
   "execution_count": null,
   "id": "2f9245ac",
   "metadata": {},
   "outputs": [],
   "source": [
    "# Making a data frame with the average \n",
    "avg_wb_df <- data.frame(year=2014:2023, avgdisc =avg_wb)\n",
    "# Merging this into the coder-year data\n",
    "cy_wb <- merge(cy_wb, avg_wb_df, by=\"year\", all.x=TRUE)\n",
    "head(cy_wb)"
   ]
  },
  {
   "cell_type": "markdown",
   "id": "e94c3cf5",
   "metadata": {},
   "source": [
    "How should we compute how far off each coder is from the average? A common way to do that is to use the squared difference between their score and the average."
   ]
  },
  {
   "cell_type": "code",
   "execution_count": null,
   "id": "f6745edc",
   "metadata": {},
   "outputs": [],
   "source": [
    "# Computing the squared difference between individual coder choices and the average\n",
    "# among all coders\n",
    "cy_wb$sqdiff <- (cy_wb$v2cldiscm - cy_wb$avgdisc)^2\n",
    "head(cy_wb)"
   ]
  },
  {
   "cell_type": "markdown",
   "id": "3c43f342",
   "metadata": {},
   "source": [
    "Next we want to compute the average difference for each coder, which measures how close they are to what others say in general. We put this into a coder-level data frame for later use."
   ]
  },
  {
   "cell_type": "code",
   "execution_count": null,
   "id": "f1b845d4",
   "metadata": {},
   "outputs": [],
   "source": [
    "# Computing the coder average squared distance\n",
    "coder_meandiff <- tapply(cy_wb$sqdiff, cy_wb$coder_id, mean)\n"
   ]
  },
  {
   "cell_type": "markdown",
   "id": "fa8412b3",
   "metadata": {},
   "source": [
    "We want to place a higher weight on coders who are closer to the average, so where the sqdiff is low. Here we make a data frame with the weights we want to give coders, which is decreasing in their mean difference. In particular, it gives a weight of 1 to a coder who is exactly at the average, and then the weight gets lower as they are further:"
   ]
  },
  {
   "cell_type": "code",
   "execution_count": null,
   "id": "14fb5bd3",
   "metadata": {},
   "outputs": [],
   "source": [
    "coderweight_df <- data.frame(coder_id = as.numeric(names(coder_meandiff)), \n",
    "                            coderweight=1/(1 + coder_meandiff))\n",
    "coderweight_df"
   ]
  },
  {
   "cell_type": "markdown",
   "id": "50fd1440",
   "metadata": {},
   "source": [
    "**Question 3.1. Recall our \"bad vibe\" coder was given id 789. How does the weight of this coder compare to others? Is this consistent with the quote from the V-dem author reply?**"
   ]
  },
  {
   "cell_type": "markdown",
   "id": "eda4e125",
   "metadata": {},
   "source": [
    "*Words for 3.1*"
   ]
  },
  {
   "cell_type": "markdown",
   "id": "d37a1708",
   "metadata": {},
   "source": [
    "Now let's recompute the score with the weighted average. First we merge the coder weights into our coder-level data"
   ]
  },
  {
   "cell_type": "code",
   "execution_count": null,
   "id": "96a28447",
   "metadata": {},
   "outputs": [],
   "source": [
    "cy_wb <- merge(cy_wb, coderweight_df, by=\"coder_id\", all.x=TRUE)\n",
    "head(cy_wb)"
   ]
  },
  {
   "cell_type": "markdown",
   "id": "377d3a89",
   "metadata": {},
   "source": [
    "The weighted average of a variable $x_1,x_2,...,x_n$ with weights $w_1, w_2, ...,w_n$ is:\n",
    "$$\n",
    "\\frac {\\sum_{i=1}^n w_i x_i}{\\sum_{i=1}^n w_i}\n",
    "$$\n",
    "\n",
    "I'll spare you the code of this, which essentially first compute the sum of the weights (the denominator) and then c"
   ]
  },
  {
   "cell_type": "code",
   "execution_count": null,
   "id": "1ee74b54",
   "metadata": {},
   "outputs": [],
   "source": [
    "# Computing the numerator of our weighted average formula\n",
    "num <- tapply(cy_wb$v2cldiscm*cy_wb$coderweight, cy_wb$year, sum)\n",
    "# And the denominator\n",
    "denom <- tapply(cy_wb$coderweight, cy_wb$year, sum)\n",
    "# Now adding this to our year data\n",
    "cwa_disc <- num/denom\n",
    "yr$wa <- cwa_disc\n",
    "yr"
   ]
  },
  {
   "cell_type": "markdown",
   "id": "d540b380",
   "metadata": {},
   "source": [
    "**Question 3.2. Plot the `newavg` over time in black, the average with the bad vibe coder in red, and the weighted average with the bad vibe coder in blue.**"
   ]
  },
  {
   "cell_type": "code",
   "execution_count": null,
   "id": "a5ddaa2a",
   "metadata": {},
   "outputs": [],
   "source": [
    "# Code for 3.2"
   ]
  },
  {
   "cell_type": "markdown",
   "id": "2a5bcb38",
   "metadata": {},
   "source": [
    "It might seem surprising that the \"bad vibe\" coder can drag the average down so much since he got a low weight. To see why, let's look at the relationship between the rating given in 2017 and the weight each coder gets."
   ]
  },
  {
   "cell_type": "code",
   "execution_count": null,
   "id": "7e178b2b",
   "metadata": {},
   "outputs": [],
   "source": [
    "cy_2017 <- subset(cy_wb, year == 2017)\n",
    "plot(cy_2017$v2cldiscm, cy_2017$coderweight, xlab=\"2017 Rating\", ylab=\"Weight\")"
   ]
  },
  {
   "cell_type": "markdown",
   "id": "2ad4321c",
   "metadata": {},
   "source": [
    "\n",
    "**Question 3.3. Suppose that in reality a score of 3 or 4 is reasonable here, and those who answered 2 are \"semi-bad vibes coders.\" Who generally gets a higher weight here, those who scored 2 or those who scored 4? How might the bad vibe coder affect this? What does this imply about the quote from the V-dem reply?**"
   ]
  },
  {
   "cell_type": "markdown",
   "id": "50d0e4cd",
   "metadata": {},
   "source": [
    "*Words for 3.3*"
   ]
  },
  {
   "cell_type": "code",
   "execution_count": null,
   "id": "77af3460",
   "metadata": {},
   "outputs": [],
   "source": []
  }
 ],
 "metadata": {
  "kernelspec": {
   "display_name": "R",
   "language": "R",
   "name": "ir"
  },
  "language_info": {
   "codemirror_mode": "r",
   "file_extension": ".r",
   "mimetype": "text/x-r-source",
   "name": "R",
   "pygments_lexer": "r",
   "version": "4.4.0"
  }
 },
 "nbformat": 4,
 "nbformat_minor": 5
}
