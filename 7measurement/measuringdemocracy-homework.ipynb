{
 "cells": [
  {
   "cell_type": "markdown",
   "id": "47ce55c6-bfda-4572-bee7-42c33b56a671",
   "metadata": {},
   "source": [
    "# POLSCI PS137L Spring 2025\n",
    "\n",
    "## Data Homework 4: Challenges with objective measures of democracy\n",
    "\n",
    "This is the second part to a two-part notebook on the debate regarding the current state of democracy as well as broader questions of measuring democratic health (and backsliding). We will first dig deeper into how aggregate scores are produced from expert judgement, and explore a recent debate within the discipline on whether there is, in fact, global democratic backsliding."
   ]
  },
  {
   "cell_type": "markdown",
   "id": "0cf531c1",
   "metadata": {},
   "source": [
    "**Question 1.1** Imagine two countries, A and B. In Country A, elections are held regularly where incumbents regularly lose. However, many citizens in Country A report feeling that the parties do not represent their interests, and as a result they generally don't report valuing living in a democracy very much. In Country B, the incumbent party always wins the national elections since its founding, but polls show high levels of trust in government.\n",
    "\n",
    "How can you assess which country is more democratic, and why? How do you think expert coders will compare these conutries?"
   ]
  },
  {
   "cell_type": "markdown",
   "id": "6b04b99a",
   "metadata": {},
   "source": [
    "*Answer to 1.1*"
   ]
  },
  {
   "cell_type": "markdown",
   "id": "ad0ab592",
   "metadata": {},
   "source": [
    "# Part 2: Comparing objective and subjective indices\n",
    "\n",
    "In Little and Meng (2024), the authors caution against putting too much stock in the score assigned to a particular country-year. Let's explore why, and why this raises some limitations of relying on more objective measures of democracy.\n",
    "\n",
    "Let's load up some replication data from the paper, which also includes some V-dem indices."
   ]
  },
  {
   "cell_type": "code",
   "execution_count": null,
   "id": "4aebadbf",
   "metadata": {},
   "outputs": [],
   "source": [
    "all <- read.csv(\"data/all.csv\", stringsAsFactors=FALSE)"
   ]
  },
  {
   "cell_type": "code",
   "execution_count": null,
   "id": "6be4c4ae",
   "metadata": {},
   "outputs": [],
   "source": [
    "# There is lots of data here, \n",
    "# including the individual objective variables you may want to explore,\n",
    "# But for now let's just look at the key indices\n",
    "tokeep <- subset(all, select=c(country_name, year, oindex, v2x_polyarchy))\n",
    "head(tokeep)"
   ]
  },
  {
   "cell_type": "markdown",
   "id": "a4beafcb",
   "metadata": {},
   "source": [
    "To keep things simple let's compare how these two indices changed from 2000 to 2020. I'll do the data manipulation for you here, but check out the comments if you want to know how it works"
   ]
  },
  {
   "cell_type": "code",
   "execution_count": null,
   "id": "f05d767b",
   "metadata": {},
   "outputs": [],
   "source": [
    "# Making individual data frames for the 2000 and 2020 data\n",
    "data2000 <- subset(tokeep, year==2000, select=c(\"country_name\", \"oindex\", \"v2x_polyarchy\"))\n",
    "data2020 <- subset(tokeep, year==2020, select=c(\"country_name\", \"oindex\", \"v2x_polyarchy\"))\n",
    "# Renaming the columns to add the year\n",
    "names(data2000) <- c(\"country_name\",  \"oindex2000\", \"polyarchy2000\")\n",
    "names(data2020) <- c(\"country_name\", \"oindex2020\", \"polyarchy2020\")\n",
    "# Creating a data frame with both by merging on the country_name variable\n",
    "slices <- merge(data2000, data2020, by=c(\"country_name\"))\n",
    "head(slices)"
   ]
  },
  {
   "cell_type": "markdown",
   "id": "08037cc0",
   "metadata": {},
   "source": [
    "As you can see, \"slices\" is a data frame where each row is a country, and there are seperate variables for the 2000 and 2020 values of the indices."
   ]
  },
  {
   "cell_type": "markdown",
   "id": "5578d9ce",
   "metadata": {},
   "source": [
    "**Question 2.1. Create a variable in `slices` called `d_oindex` which is the change in `oindex` from 2000 to 2020. (Hint: positive numbers should correspond to getting more democratic.) Then create a variable called `d_poly` which is the change in the polyarchy score. Finally, make a plot with `d_oindex` on the x axis and `d_poly` on the y axes.**"
   ]
  },
  {
   "cell_type": "code",
   "execution_count": 2,
   "id": "2274b501",
   "metadata": {},
   "outputs": [],
   "source": [
    "# Answer to 2.1"
   ]
  },
  {
   "cell_type": "markdown",
   "id": "f6c48058",
   "metadata": {},
   "source": [
    "**Question 2.2. Interpret this graph. Do these two measures generally agree about which countries are getting more or less democratic?**"
   ]
  },
  {
   "cell_type": "markdown",
   "id": "bd8c0da1",
   "metadata": {},
   "source": [
    "*Answer to 2.2*"
   ]
  },
  {
   "cell_type": "markdown",
   "id": "b2e8313e",
   "metadata": {},
   "source": [
    "From eyeballing the graph above we can see that the countries with the biggest decrease in the polyarchy score went down by about 0.2. We can see which countries these are with the following code"
   ]
  },
  {
   "cell_type": "code",
   "execution_count": null,
   "id": "d18db4d4",
   "metadata": {},
   "outputs": [],
   "source": [
    "subset(slices, d_poly < -.2)"
   ]
  },
  {
   "cell_type": "markdown",
   "id": "bbaca116",
   "metadata": {},
   "source": [
    "**Question 2.3. Does this list of countries seem consistent with the set of countries we have talked about in class as examples of backsliding? Pick one country that we haven't talked a lot about and do a quick internet search (using an LLM is fine here too!) to figure out why it might be coded as backsliding.**"
   ]
  },
  {
   "cell_type": "markdown",
   "id": "a72e4f4b",
   "metadata": {},
   "source": [
    "*Answer to 2.3*"
   ]
  },
  {
   "cell_type": "markdown",
   "id": "ea0a3126",
   "metadata": {},
   "source": [
    "**Question 2.4. Now do the same for the change in the oindex (while they havea somewhat different scale, using a threshold of -.2 is fine). Do any of the countries on here surprise you?**"
   ]
  },
  {
   "cell_type": "code",
   "execution_count": null,
   "id": "a7b22805",
   "metadata": {},
   "outputs": [],
   "source": []
  },
  {
   "cell_type": "markdown",
   "id": "f13faeee",
   "metadata": {},
   "source": [
    "*Answer to 2.4*"
   ]
  },
  {
   "cell_type": "markdown",
   "id": "d39a1bdb",
   "metadata": {},
   "source": [
    "## Part 3. An Events Approach\n",
    "\n",
    "Let's delve into the data from the Baron et al paper we read, which might also be helpful for your case study. \n",
    "\n",
    "This data focuses on concrete events related to backsliding. In a sense the are generally quite objective, though as we will see differential media coverage may affect how many events enter the data set.\n",
    "\n",
    "Let's load up the data, which I've cleaned a bit:"
   ]
  },
  {
   "cell_type": "code",
   "execution_count": null,
   "id": "f2127e96",
   "metadata": {},
   "outputs": [],
   "source": [
    "deed <- read.csv(\"data/DEED_v6_final_1.17.24.csv\", stringsAsFactors=FALSE)"
   ]
  },
  {
   "cell_type": "markdown",
   "id": "3b700eeb",
   "metadata": {},
   "source": [
    "Here is a random set of entries"
   ]
  },
  {
   "cell_type": "code",
   "execution_count": null,
   "id": "a25f6ff7",
   "metadata": {},
   "outputs": [],
   "source": [
    "deed[sample(1:nrow(deed), 10),]"
   ]
  },
  {
   "cell_type": "markdown",
   "id": "38d5456d",
   "metadata": {},
   "source": [
    "As you can see, each row corresponds to an event, which has a general type (resistance, symptom, precursor), a more precise category, and then a longer description of the event.\n",
    "\n",
    "Let's see which countries show up most in this data set"
   ]
  },
  {
   "cell_type": "code",
   "execution_count": null,
   "id": "ce7ddb91",
   "metadata": {},
   "outputs": [],
   "source": [
    "table(deed$country)"
   ]
  },
  {
   "cell_type": "markdown",
   "id": "479dd22c",
   "metadata": {},
   "source": [
    "An easier way to see this is to sort it. The R code for this is short if somewhat wonky: in short we use the \"order\" function to reorder the vector based on the number of the entries:"
   ]
  },
  {
   "cell_type": "code",
   "execution_count": null,
   "id": "03174c81",
   "metadata": {},
   "outputs": [],
   "source": [
    "table(deed$country)[order(-table(deed$country))]"
   ]
  },
  {
   "cell_type": "markdown",
   "id": "9ddaddc1",
   "metadata": {},
   "source": [
    "**Question 3.1 How does this list compare to the countries that had the biggest decrease in the polyarchy score and the objective index?**"
   ]
  },
  {
   "cell_type": "markdown",
   "id": "3b926537",
   "metadata": {},
   "source": [
    "*Answer to 3.1*"
   ]
  },
  {
   "cell_type": "markdown",
   "id": "53272bf1",
   "metadata": {},
   "source": [
    "Now let's look more deeply into the different kinds of events. let's make a table of the type:"
   ]
  },
  {
   "cell_type": "code",
   "execution_count": null,
   "id": "a9832847",
   "metadata": {},
   "outputs": [],
   "source": [
    "table(deed$type)"
   ]
  },
  {
   "cell_type": "markdown",
   "id": "7a009853",
   "metadata": {},
   "source": [
    "Not we have a seperate count for \"precursor\" and \"Precursor\". This is probably because there is a typo and one of these was incorretly entered with a lower case p. Let's fix this."
   ]
  },
  {
   "cell_type": "code",
   "execution_count": null,
   "id": "84bc3eab",
   "metadata": {},
   "outputs": [],
   "source": [
    "deed$type[deed$type==\"precursor\"] <- \"Precursor\""
   ]
  },
  {
   "cell_type": "code",
   "execution_count": null,
   "id": "ad2c8216",
   "metadata": {},
   "outputs": [],
   "source": [
    "table(deed$type)"
   ]
  },
  {
   "cell_type": "markdown",
   "id": "0ed8045e",
   "metadata": {},
   "source": [
    "Now let's look at the trends in these different kinds of events over time. We can make a data frame that counts the number of \"destabilizing events\" by year like this."
   ]
  },
  {
   "cell_type": "code",
   "execution_count": null,
   "id": "0bfa0962",
   "metadata": {},
   "outputs": [],
   "source": [
    "byyear <- data.frame(year=2000:2023)\n",
    "byyear$symptom <- tapply(deed$type==\"Symptom\", deed$year, sum)\n",
    "byyear"
   ]
  },
  {
   "cell_type": "markdown",
   "id": "c16cdd6c",
   "metadata": {},
   "source": [
    "**Question 3.2. Plot the trend in symptoms of backsliding over time. Intrepret this graph.**"
   ]
  },
  {
   "cell_type": "code",
   "execution_count": null,
   "id": "4136582a",
   "metadata": {},
   "outputs": [],
   "source": [
    "# Coder for 3.2"
   ]
  },
  {
   "cell_type": "markdown",
   "id": "f31aa47f",
   "metadata": {},
   "source": [
    "**Question 3.3. Add the number of \"resistance\" events to to the byyear data. Plot the trend off these over time, and interpret the graph.**"
   ]
  },
  {
   "cell_type": "code",
   "execution_count": null,
   "id": "a08a38b1",
   "metadata": {},
   "outputs": [],
   "source": [
    "# Code for 3.3"
   ]
  },
  {
   "cell_type": "code",
   "execution_count": null,
   "id": "05550127",
   "metadata": {},
   "outputs": [],
   "source": []
  },
  {
   "cell_type": "markdown",
   "id": "9a4914a3",
   "metadata": {},
   "source": [
    "# Part 4 (Optional) Comparing events to the indices"
   ]
  },
  {
   "cell_type": "markdown",
   "id": "a3b8d773",
   "metadata": {},
   "source": [
    "Finally let's do a more detailed comparison between the indices described above and the events data. First I'll create a data which counts the number of each type of event"
   ]
  },
  {
   "cell_type": "code",
   "execution_count": null,
   "id": "1f8fa7de",
   "metadata": {},
   "outputs": [],
   "source": [
    "res_country <- tapply(deed$type==\"Resistance\", deed$country, sum)\n",
    "by_country <- data.frame(country_name=names(res_country),\n",
    "                        resistance=res_country)\n",
    "by_country$precursor <- tapply(deed$type==\"Precursor\", deed$country, sum)\n",
    "by_country$symptom <- tapply(deed$type==\"Symptom\", deed$country, sum)\n",
    "by_country$de <- tapply(deed$type==\"Destabilizing Event\", deed$country, sum)\n",
    "head(by_country)"
   ]
  },
  {
   "cell_type": "markdown",
   "id": "9a19a295",
   "metadata": {},
   "source": [
    "Now we can merge this with the previous \"slices\" data by the country name. (Note this won't be perfect since the name may not always match, and the DEED data doesn't cover every country, but let's roll with it)."
   ]
  },
  {
   "cell_type": "markdown",
   "id": "9e9285f2-54d5-4dad-a9dc-816c91e90ffc",
   "metadata": {},
   "source": [
    "**Question 4.1 (optional). Assess whether the change in polyarchy or the change in the objective index seems to correspond more closely with the counts of events from DEED. You can do this with some graphs (e.g., which index change correlates more closely with symptoms?), or some regressions (e.g., run regressions predicting the change in the indices with the event counts, and see which makes more sense).**"
   ]
  },
  {
   "cell_type": "code",
   "execution_count": null,
   "id": "7456d383-31e1-45c4-aa3f-04b60cb8a1ae",
   "metadata": {},
   "outputs": [],
   "source": []
  }
 ],
 "metadata": {
  "kernelspec": {
   "display_name": "R",
   "language": "R",
   "name": "ir"
  },
  "language_info": {
   "codemirror_mode": "r",
   "file_extension": ".r",
   "mimetype": "text/x-r-source",
   "name": "R",
   "pygments_lexer": "r",
   "version": "4.4.0"
  }
 },
 "nbformat": 4,
 "nbformat_minor": 5
}
