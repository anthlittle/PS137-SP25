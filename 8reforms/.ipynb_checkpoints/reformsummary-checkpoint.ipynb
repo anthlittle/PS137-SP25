{
 "cells": [
  {
   "cell_type": "markdown",
   "id": "b1430d78",
   "metadata": {},
   "source": [
    "Loading up the survey data"
   ]
  },
  {
   "cell_type": "code",
   "execution_count": null,
   "id": "880b1c61",
   "metadata": {},
   "outputs": [],
   "source": [
    "library(tidyverse)\n",
    "reforms <- read_csv(\"Potential Reform Survey (Responses) - Form Responses 1.csv\")"
   ]
  },
  {
   "cell_type": "code",
   "execution_count": null,
   "id": "ca6e5d5e",
   "metadata": {},
   "outputs": [],
   "source": [
    "reforms"
   ]
  },
  {
   "cell_type": "code",
   "execution_count": null,
   "id": "51ed6550",
   "metadata": {},
   "outputs": [],
   "source": [
    "# Fixing names\n",
    "names(reforms) <- gsub(\"How would you rate each of these reforms as good or bad for democracy\\\\?\", \"good\", names(reforms))\n",
    "names(reforms) <- gsub(\"How consequential would each of these reforms be\\\\?\", \"imp\", names(reforms))\n",
    "names(reforms) <- gsub(\"How feasible is each reform\\\\?\", \"feasible\", names(reforms))\n",
    "names(reforms) <- gsub(\"\\\\[Ranked choice voting for president\\\\]\", \"rcv\", names(reforms))\n",
    "names(reforms) <- gsub(\"\\\\[Abolish the electoral college for national popular vote\\\\]\", \"ec\", names(reforms))\n",
    "names(reforms) <- gsub(\"\\\\[House elected using proportional representation \\\\(by state\\\\)\\\\]\", \"pr\", names(reforms))\n",
    "names(reforms) <- gsub(\"\\\\[Election day a national holiday\\\\]\", \"hol\", names(reforms))\n",
    "names(reforms) <- gsub(\"\\\\[Ban partisan redistricting \\\\(gerrymandering\\\\)\\\\]\", \"gmd\", names(reforms))\n",
    "names(reforms) <- gsub(\"\\\\[18 year term-limit for Supreme Court justices\\\\]\", \"sc\", names(reforms))\n",
    "names(reforms) <- gsub(\"\\\\[Make Senate proportional to population\\\\]\", \"sen\", names(reforms))\n",
    "names(reforms) <- gsub(\"\\\\[Automatic registration at 18\\\\]\", \"reg\", names(reforms))\n",
    "names(reforms) <- gsub(\" \", \"_\", names(reforms))\n",
    "names(reforms)"
   ]
  },
  {
   "cell_type": "code",
   "execution_count": null,
   "id": "1690128a",
   "metadata": {},
   "outputs": [],
   "source": [
    "# Recoding the good variables\n",
    "recode_good_bad <- function(x) {\n",
    "  recode_vals <- c(\n",
    "    \"Definitely bad\" = -1,\n",
    "    \"Probably bad\" = -0.5,\n",
    "    \"Neutral/Unsure\" = 0,\n",
    "    \"Probably good\" = 0.5,\n",
    "    \"Definitely good\" = 1\n",
    "  )\n",
    "  out <- recode_vals[x]\n",
    "  if (length(out) != length(x)) return(rep(NA_real_, length(x)))  # fallback for mismatches\n",
    "  return(out)\n",
    "}\n",
    "\n",
    "# variables to recode\n",
    "target_cols <- names(reforms)[grepl(\"^good_\", names(reforms)) & sapply(reforms, is.character)]\n",
    "\n",
    "# Doing the recoding\n",
    "for (col in target_cols) {\n",
    "  reforms[[col]] <- recode_good_bad(reforms[[col]])\n",
    "}\n"
   ]
  },
  {
   "cell_type": "code",
   "execution_count": null,
   "id": "22a028c6",
   "metadata": {},
   "outputs": [],
   "source": [
    "# Recoding the importance variables\n",
    "recode_imp <- function(x) {\n",
    "  recode_vals <- c(\n",
    "    \"No impact\" = 0,\n",
    "    \"Minimal impact\" = .25,\n",
    "    \"Moderate impact\" = .5,\n",
    "    \"Large impact\" = 0.75,\n",
    "    \"Very large impact\" = 1\n",
    "  )\n",
    "  out <- recode_vals[x]\n",
    "  if (length(out) != length(x)) return(rep(NA_real_, length(x)))  # fallback for mismatches\n",
    "  return(out)\n",
    "}\n",
    "\n",
    "# Which ones to recode\n",
    "target_cols <- names(reforms)[grepl(\"^imp\", names(reforms)) & sapply(reforms, is.character)]\n",
    "\n",
    "# Doing the recoding\n",
    "for (col in target_cols) {\n",
    "  reforms[[col]] <- recode_imp(reforms[[col]])\n",
    "}\n"
   ]
  },
  {
   "cell_type": "code",
   "execution_count": null,
   "id": "ad857f1e",
   "metadata": {},
   "outputs": [],
   "source": [
    "# Recoding the feasible variables\n",
    "recode_feas <- function(x) {\n",
    "  recode_vals <- c(\n",
    "    \"Impossible\" = 0,\n",
    "    \"Very unlikely\" = .25,\n",
    "    \"Somewhat unlikely\" = .5,\n",
    "    \"Plausible\" = 0.75,\n",
    "    \"Very plausible\" = 1\n",
    "  )\n",
    "  out <- recode_vals[x]\n",
    "  if (length(out) != length(x)) return(rep(NA_real_, length(x)))  # fallback for mismatches\n",
    "  return(out)\n",
    "}\n",
    "\n",
    "# Which ones to recode\n",
    "target_cols <- names(reforms)[grepl(\"^feasible\", names(reforms)) & sapply(reforms, is.character)]\n",
    "\n",
    "# Doing the recoding\n",
    "for (col in target_cols) {\n",
    "  reforms[[col]] <- recode_feas(reforms[[col]])\n",
    "}"
   ]
  },
  {
   "cell_type": "code",
   "execution_count": null,
   "id": "e1a2fd1a",
   "metadata": {},
   "outputs": [],
   "source": [
    "head(reforms)"
   ]
  },
  {
   "cell_type": "code",
   "execution_count": null,
   "id": "91a159ed",
   "metadata": {},
   "outputs": [],
   "source": [
    "# Now create an average for each of the variables\n",
    "reform_keys <- c(\"pr\", \"rcv\", \"ec\", \"hol\", \"sen\", \"gmd\", \"sc\", \"reg\")\n",
    "\n",
    "# Initialize a new data frame\n",
    "byref <- data.frame(\n",
    "  reform = reform_keys,\n",
    "  good = sapply(reform_keys, function(k) mean(reforms[[paste0(\"good_\", k)]], na.rm = TRUE)),\n",
    "  imp = sapply(reform_keys, function(k) mean(reforms[[paste0(\"imp_\", k)]], na.rm = TRUE)),\n",
    "  feasible = sapply(reform_keys, function(k) mean(reforms[[paste0(\"feasible_\", k)]], na.rm = TRUE))\n",
    ")\n",
    "\n",
    "print(byref)\n"
   ]
  },
  {
   "cell_type": "code",
   "execution_count": null,
   "id": "b3a28e0f",
   "metadata": {},
   "outputs": [],
   "source": [
    "plot(byref$feasible, byref$good, xlim=c(0,1), ylim=c(-1,1))\n",
    "text(byref$feasible, byref$good-.05, byref$reform)"
   ]
  },
  {
   "cell_type": "code",
   "execution_count": null,
   "id": "03e50f63",
   "metadata": {},
   "outputs": [],
   "source": []
  },
  {
   "cell_type": "code",
   "execution_count": null,
   "id": "e64fb153",
   "metadata": {},
   "outputs": [],
   "source": []
  },
  {
   "cell_type": "code",
   "execution_count": null,
   "id": "0961683d",
   "metadata": {},
   "outputs": [],
   "source": []
  },
  {
   "cell_type": "code",
   "execution_count": null,
   "id": "16003aaa",
   "metadata": {},
   "outputs": [],
   "source": []
  }
 ],
 "metadata": {
  "kernelspec": {
   "display_name": "R",
   "language": "R",
   "name": "ir"
  },
  "language_info": {
   "codemirror_mode": "r",
   "file_extension": ".r",
   "mimetype": "text/x-r-source",
   "name": "R",
   "pygments_lexer": "r",
   "version": "4.4.0"
  }
 },
 "nbformat": 4,
 "nbformat_minor": 5
}
