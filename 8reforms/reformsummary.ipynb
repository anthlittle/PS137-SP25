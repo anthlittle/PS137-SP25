{
 "cells": [
  {
   "cell_type": "markdown",
   "id": "92986905",
   "metadata": {},
   "source": [
    "Loading up the survey data"
   ]
  },
  {
   "cell_type": "code",
   "execution_count": 70,
   "id": "a60d1c91",
   "metadata": {},
   "outputs": [
    {
     "name": "stderr",
     "output_type": "stream",
     "text": [
      "\u001b[1mRows: \u001b[22m\u001b[34m2\u001b[39m \u001b[1mColumns: \u001b[22m\u001b[34m25\u001b[39m\n",
      "\u001b[36m──\u001b[39m \u001b[1mColumn specification\u001b[22m \u001b[36m────────────────────────────────────────────────────────\u001b[39m\n",
      "\u001b[1mDelimiter:\u001b[22m \",\"\n",
      "\u001b[31mchr\u001b[39m (25): Timestamp, How would you rate each of these reforms as good or bad...\n",
      "\n",
      "\u001b[36mℹ\u001b[39m Use `spec()` to retrieve the full column specification for this data.\n",
      "\u001b[36mℹ\u001b[39m Specify the column types or set `show_col_types = FALSE` to quiet this message.\n"
     ]
    }
   ],
   "source": [
    "library(tidyverse)\n",
    "reforms <- read_csv(\"Potential Reform Survey (Responses) - Form Responses 1.csv\")"
   ]
  },
  {
   "cell_type": "code",
   "execution_count": 71,
   "id": "c60ef673",
   "metadata": {},
   "outputs": [
    {
     "data": {
      "text/html": [
       "<table class=\"dataframe\">\n",
       "<caption>A spec_tbl_df: 2 × 25</caption>\n",
       "<thead>\n",
       "\t<tr><th scope=col>Timestamp</th><th scope=col>How would you rate each of these reforms as good or bad for democracy? [House elected using proportional representation (by state)]</th><th scope=col>How would you rate each of these reforms as good or bad for democracy? [Ranked choice voting for president]</th><th scope=col>How would you rate each of these reforms as good or bad for democracy? [Abolish the electoral college for national popular vote]</th><th scope=col>How would you rate each of these reforms as good or bad for democracy? [Election day a national holiday]</th><th scope=col>How would you rate each of these reforms as good or bad for democracy? [Make Senate proportional to population]</th><th scope=col>How would you rate each of these reforms as good or bad for democracy? [Ban partisan redistricting (gerrymandering)]</th><th scope=col>How would you rate each of these reforms as good or bad for democracy? [18 year term-limit for Supreme Court justices]</th><th scope=col>How would you rate each of these reforms as good or bad for democracy? [Automatic registration at 18]</th><th scope=col>How consequential would each of these reforms be? [House elected using proportional representation (by state)]</th><th scope=col>⋯</th><th scope=col>How consequential would each of these reforms be? [18 year term-limit for Supreme Court justices]</th><th scope=col>How consequential would each of these reforms be? [Automatic registration at 18]</th><th scope=col>How feasible is each reform? [House elected using proportional representation (by state)]</th><th scope=col>How feasible is each reform? [Ranked choice voting for president]</th><th scope=col>How feasible is each reform? [Abolish the electoral college for national popular vote]</th><th scope=col>How feasible is each reform? [Election day a national holiday]</th><th scope=col>How feasible is each reform? [Make Senate proportional to population]</th><th scope=col>How feasible is each reform? [Ban partisan redistricting (gerrymandering)]</th><th scope=col>How feasible is each reform? [18 year term-limit for Supreme Court justices]</th><th scope=col>How feasible is each reform? [Automatic registration at 18]</th></tr>\n",
       "\t<tr><th scope=col>&lt;chr&gt;</th><th scope=col>&lt;chr&gt;</th><th scope=col>&lt;chr&gt;</th><th scope=col>&lt;chr&gt;</th><th scope=col>&lt;chr&gt;</th><th scope=col>&lt;chr&gt;</th><th scope=col>&lt;chr&gt;</th><th scope=col>&lt;chr&gt;</th><th scope=col>&lt;chr&gt;</th><th scope=col>&lt;chr&gt;</th><th scope=col>⋯</th><th scope=col>&lt;chr&gt;</th><th scope=col>&lt;chr&gt;</th><th scope=col>&lt;chr&gt;</th><th scope=col>&lt;chr&gt;</th><th scope=col>&lt;chr&gt;</th><th scope=col>&lt;chr&gt;</th><th scope=col>&lt;chr&gt;</th><th scope=col>&lt;chr&gt;</th><th scope=col>&lt;chr&gt;</th><th scope=col>&lt;chr&gt;</th></tr>\n",
       "</thead>\n",
       "<tbody>\n",
       "\t<tr><td>4/24/2025 10:44:26</td><td>Probably good</td><td>Neutral/Unsure</td><td>Definitely good</td><td>Definitely good</td><td>Definitely good</td><td>Definitely good</td><td>Definitely good</td><td>Definitely good</td><td>Large impact     </td><td>⋯</td><td>Moderate impact</td><td>Minimal impact </td><td>Very unlikely    </td><td>Very unlikely    </td><td>Very unlikely</td><td>Somewhat unlikely</td><td>Impossible</td><td>Very unlikely    </td><td>Very unlikely</td><td>Somewhat unlikely</td></tr>\n",
       "\t<tr><td>4/24/2025 11:01:28</td><td>Probably bad </td><td>Definitely bad</td><td>Neutral/Unsure </td><td>Definitely good</td><td>Probably good  </td><td>Probably good  </td><td>Probably good  </td><td>Probably good  </td><td>Very large impact</td><td>⋯</td><td>Large impact   </td><td>Moderate impact</td><td>Somewhat unlikely</td><td>Somewhat unlikely</td><td>Very unlikely</td><td>Very plausible   </td><td>Impossible</td><td>Somewhat unlikely</td><td>Very unlikely</td><td>Plausible        </td></tr>\n",
       "</tbody>\n",
       "</table>\n"
      ],
      "text/latex": [
       "A spec\\_tbl\\_df: 2 × 25\n",
       "\\begin{tabular}{lllllllllllllllllllll}\n",
       " Timestamp & How would you rate each of these reforms as good or bad for democracy? {[}House elected using proportional representation (by state){]} & How would you rate each of these reforms as good or bad for democracy? {[}Ranked choice voting for president{]} & How would you rate each of these reforms as good or bad for democracy? {[}Abolish the electoral college for national popular vote{]} & How would you rate each of these reforms as good or bad for democracy? {[}Election day a national holiday{]} & How would you rate each of these reforms as good or bad for democracy? {[}Make Senate proportional to population{]} & How would you rate each of these reforms as good or bad for democracy? {[}Ban partisan redistricting (gerrymandering){]} & How would you rate each of these reforms as good or bad for democracy? {[}18 year term-limit for Supreme Court justices{]} & How would you rate each of these reforms as good or bad for democracy? {[}Automatic registration at 18{]} & How consequential would each of these reforms be? {[}House elected using proportional representation (by state){]} & ⋯ & How consequential would each of these reforms be? {[}18 year term-limit for Supreme Court justices{]} & How consequential would each of these reforms be? {[}Automatic registration at 18{]} & How feasible is each reform? {[}House elected using proportional representation (by state){]} & How feasible is each reform? {[}Ranked choice voting for president{]} & How feasible is each reform? {[}Abolish the electoral college for national popular vote{]} & How feasible is each reform? {[}Election day a national holiday{]} & How feasible is each reform? {[}Make Senate proportional to population{]} & How feasible is each reform? {[}Ban partisan redistricting (gerrymandering){]} & How feasible is each reform? {[}18 year term-limit for Supreme Court justices{]} & How feasible is each reform? {[}Automatic registration at 18{]}\\\\\n",
       " <chr> & <chr> & <chr> & <chr> & <chr> & <chr> & <chr> & <chr> & <chr> & <chr> & ⋯ & <chr> & <chr> & <chr> & <chr> & <chr> & <chr> & <chr> & <chr> & <chr> & <chr>\\\\\n",
       "\\hline\n",
       "\t 4/24/2025 10:44:26 & Probably good & Neutral/Unsure & Definitely good & Definitely good & Definitely good & Definitely good & Definitely good & Definitely good & Large impact      & ⋯ & Moderate impact & Minimal impact  & Very unlikely     & Very unlikely     & Very unlikely & Somewhat unlikely & Impossible & Very unlikely     & Very unlikely & Somewhat unlikely\\\\\n",
       "\t 4/24/2025 11:01:28 & Probably bad  & Definitely bad & Neutral/Unsure  & Definitely good & Probably good   & Probably good   & Probably good   & Probably good   & Very large impact & ⋯ & Large impact    & Moderate impact & Somewhat unlikely & Somewhat unlikely & Very unlikely & Very plausible    & Impossible & Somewhat unlikely & Very unlikely & Plausible        \\\\\n",
       "\\end{tabular}\n"
      ],
      "text/markdown": [
       "\n",
       "A spec_tbl_df: 2 × 25\n",
       "\n",
       "| Timestamp &lt;chr&gt; | How would you rate each of these reforms as good or bad for democracy? [House elected using proportional representation (by state)] &lt;chr&gt; | How would you rate each of these reforms as good or bad for democracy? [Ranked choice voting for president] &lt;chr&gt; | How would you rate each of these reforms as good or bad for democracy? [Abolish the electoral college for national popular vote] &lt;chr&gt; | How would you rate each of these reforms as good or bad for democracy? [Election day a national holiday] &lt;chr&gt; | How would you rate each of these reforms as good or bad for democracy? [Make Senate proportional to population] &lt;chr&gt; | How would you rate each of these reforms as good or bad for democracy? [Ban partisan redistricting (gerrymandering)] &lt;chr&gt; | How would you rate each of these reforms as good or bad for democracy? [18 year term-limit for Supreme Court justices] &lt;chr&gt; | How would you rate each of these reforms as good or bad for democracy? [Automatic registration at 18] &lt;chr&gt; | How consequential would each of these reforms be? [House elected using proportional representation (by state)] &lt;chr&gt; | ⋯ ⋯ | How consequential would each of these reforms be? [18 year term-limit for Supreme Court justices] &lt;chr&gt; | How consequential would each of these reforms be? [Automatic registration at 18] &lt;chr&gt; | How feasible is each reform? [House elected using proportional representation (by state)] &lt;chr&gt; | How feasible is each reform? [Ranked choice voting for president] &lt;chr&gt; | How feasible is each reform? [Abolish the electoral college for national popular vote] &lt;chr&gt; | How feasible is each reform? [Election day a national holiday] &lt;chr&gt; | How feasible is each reform? [Make Senate proportional to population] &lt;chr&gt; | How feasible is each reform? [Ban partisan redistricting (gerrymandering)] &lt;chr&gt; | How feasible is each reform? [18 year term-limit for Supreme Court justices] &lt;chr&gt; | How feasible is each reform? [Automatic registration at 18] &lt;chr&gt; |\n",
       "|---|---|---|---|---|---|---|---|---|---|---|---|---|---|---|---|---|---|---|---|---|\n",
       "| 4/24/2025 10:44:26 | Probably good | Neutral/Unsure | Definitely good | Definitely good | Definitely good | Definitely good | Definitely good | Definitely good | Large impact      | ⋯ | Moderate impact | Minimal impact  | Very unlikely     | Very unlikely     | Very unlikely | Somewhat unlikely | Impossible | Very unlikely     | Very unlikely | Somewhat unlikely |\n",
       "| 4/24/2025 11:01:28 | Probably bad  | Definitely bad | Neutral/Unsure  | Definitely good | Probably good   | Probably good   | Probably good   | Probably good   | Very large impact | ⋯ | Large impact    | Moderate impact | Somewhat unlikely | Somewhat unlikely | Very unlikely | Very plausible    | Impossible | Somewhat unlikely | Very unlikely | Plausible         |\n",
       "\n"
      ],
      "text/plain": [
       "  Timestamp         \n",
       "1 4/24/2025 10:44:26\n",
       "2 4/24/2025 11:01:28\n",
       "  How would you rate each of these reforms as good or bad for democracy? [House elected using proportional representation (by state)]\n",
       "1 Probably good                                                                                                                      \n",
       "2 Probably bad                                                                                                                       \n",
       "  How would you rate each of these reforms as good or bad for democracy? [Ranked choice voting for president]\n",
       "1 Neutral/Unsure                                                                                             \n",
       "2 Definitely bad                                                                                             \n",
       "  How would you rate each of these reforms as good or bad for democracy? [Abolish the electoral college for national popular vote]\n",
       "1 Definitely good                                                                                                                 \n",
       "2 Neutral/Unsure                                                                                                                  \n",
       "  How would you rate each of these reforms as good or bad for democracy? [Election day a national holiday]\n",
       "1 Definitely good                                                                                         \n",
       "2 Definitely good                                                                                         \n",
       "  How would you rate each of these reforms as good or bad for democracy? [Make Senate proportional to population]\n",
       "1 Definitely good                                                                                                \n",
       "2 Probably good                                                                                                  \n",
       "  How would you rate each of these reforms as good or bad for democracy? [Ban partisan redistricting (gerrymandering)]\n",
       "1 Definitely good                                                                                                     \n",
       "2 Probably good                                                                                                       \n",
       "  How would you rate each of these reforms as good or bad for democracy? [18 year term-limit for Supreme Court justices]\n",
       "1 Definitely good                                                                                                       \n",
       "2 Probably good                                                                                                         \n",
       "  How would you rate each of these reforms as good or bad for democracy? [Automatic registration at 18]\n",
       "1 Definitely good                                                                                      \n",
       "2 Probably good                                                                                        \n",
       "  How consequential would each of these reforms be? [House elected using proportional representation (by state)]\n",
       "1 Large impact                                                                                                  \n",
       "2 Very large impact                                                                                             \n",
       "  ⋯\n",
       "1 ⋯\n",
       "2 ⋯\n",
       "  How consequential would each of these reforms be? [18 year term-limit for Supreme Court justices]\n",
       "1 Moderate impact                                                                                  \n",
       "2 Large impact                                                                                     \n",
       "  How consequential would each of these reforms be? [Automatic registration at 18]\n",
       "1 Minimal impact                                                                  \n",
       "2 Moderate impact                                                                 \n",
       "  How feasible is each reform? [House elected using proportional representation (by state)]\n",
       "1 Very unlikely                                                                            \n",
       "2 Somewhat unlikely                                                                        \n",
       "  How feasible is each reform? [Ranked choice voting for president]\n",
       "1 Very unlikely                                                    \n",
       "2 Somewhat unlikely                                                \n",
       "  How feasible is each reform? [Abolish the electoral college for national popular vote]\n",
       "1 Very unlikely                                                                         \n",
       "2 Very unlikely                                                                         \n",
       "  How feasible is each reform? [Election day a national holiday]\n",
       "1 Somewhat unlikely                                             \n",
       "2 Very plausible                                                \n",
       "  How feasible is each reform? [Make Senate proportional to population]\n",
       "1 Impossible                                                           \n",
       "2 Impossible                                                           \n",
       "  How feasible is each reform? [Ban partisan redistricting (gerrymandering)]\n",
       "1 Very unlikely                                                             \n",
       "2 Somewhat unlikely                                                         \n",
       "  How feasible is each reform? [18 year term-limit for Supreme Court justices]\n",
       "1 Very unlikely                                                               \n",
       "2 Very unlikely                                                               \n",
       "  How feasible is each reform? [Automatic registration at 18]\n",
       "1 Somewhat unlikely                                          \n",
       "2 Plausible                                                  "
      ]
     },
     "metadata": {},
     "output_type": "display_data"
    }
   ],
   "source": [
    "reforms"
   ]
  },
  {
   "cell_type": "code",
   "execution_count": 72,
   "id": "b5394230",
   "metadata": {},
   "outputs": [
    {
     "data": {
      "text/html": [
       "<style>\n",
       ".list-inline {list-style: none; margin:0; padding: 0}\n",
       ".list-inline>li {display: inline-block}\n",
       ".list-inline>li:not(:last-child)::after {content: \"\\00b7\"; padding: 0 .5ex}\n",
       "</style>\n",
       "<ol class=list-inline><li>'Timestamp'</li><li>'good_pr'</li><li>'good_rcv'</li><li>'good_ec'</li><li>'good_hol'</li><li>'good_sen'</li><li>'good_gmd'</li><li>'good_sc'</li><li>'good_reg'</li><li>'imp_pr'</li><li>'imp_rcv'</li><li>'imp_ec'</li><li>'imp_hol'</li><li>'imp_sen'</li><li>'imp_gmd'</li><li>'imp_sc'</li><li>'imp_reg'</li><li>'feasible_pr'</li><li>'feasible_rcv'</li><li>'feasible_ec'</li><li>'feasible_hol'</li><li>'feasible_sen'</li><li>'feasible_gmd'</li><li>'feasible_sc'</li><li>'feasible_reg'</li></ol>\n"
      ],
      "text/latex": [
       "\\begin{enumerate*}\n",
       "\\item 'Timestamp'\n",
       "\\item 'good\\_pr'\n",
       "\\item 'good\\_rcv'\n",
       "\\item 'good\\_ec'\n",
       "\\item 'good\\_hol'\n",
       "\\item 'good\\_sen'\n",
       "\\item 'good\\_gmd'\n",
       "\\item 'good\\_sc'\n",
       "\\item 'good\\_reg'\n",
       "\\item 'imp\\_pr'\n",
       "\\item 'imp\\_rcv'\n",
       "\\item 'imp\\_ec'\n",
       "\\item 'imp\\_hol'\n",
       "\\item 'imp\\_sen'\n",
       "\\item 'imp\\_gmd'\n",
       "\\item 'imp\\_sc'\n",
       "\\item 'imp\\_reg'\n",
       "\\item 'feasible\\_pr'\n",
       "\\item 'feasible\\_rcv'\n",
       "\\item 'feasible\\_ec'\n",
       "\\item 'feasible\\_hol'\n",
       "\\item 'feasible\\_sen'\n",
       "\\item 'feasible\\_gmd'\n",
       "\\item 'feasible\\_sc'\n",
       "\\item 'feasible\\_reg'\n",
       "\\end{enumerate*}\n"
      ],
      "text/markdown": [
       "1. 'Timestamp'\n",
       "2. 'good_pr'\n",
       "3. 'good_rcv'\n",
       "4. 'good_ec'\n",
       "5. 'good_hol'\n",
       "6. 'good_sen'\n",
       "7. 'good_gmd'\n",
       "8. 'good_sc'\n",
       "9. 'good_reg'\n",
       "10. 'imp_pr'\n",
       "11. 'imp_rcv'\n",
       "12. 'imp_ec'\n",
       "13. 'imp_hol'\n",
       "14. 'imp_sen'\n",
       "15. 'imp_gmd'\n",
       "16. 'imp_sc'\n",
       "17. 'imp_reg'\n",
       "18. 'feasible_pr'\n",
       "19. 'feasible_rcv'\n",
       "20. 'feasible_ec'\n",
       "21. 'feasible_hol'\n",
       "22. 'feasible_sen'\n",
       "23. 'feasible_gmd'\n",
       "24. 'feasible_sc'\n",
       "25. 'feasible_reg'\n",
       "\n",
       "\n"
      ],
      "text/plain": [
       " [1] \"Timestamp\"    \"good_pr\"      \"good_rcv\"     \"good_ec\"      \"good_hol\"    \n",
       " [6] \"good_sen\"     \"good_gmd\"     \"good_sc\"      \"good_reg\"     \"imp_pr\"      \n",
       "[11] \"imp_rcv\"      \"imp_ec\"       \"imp_hol\"      \"imp_sen\"      \"imp_gmd\"     \n",
       "[16] \"imp_sc\"       \"imp_reg\"      \"feasible_pr\"  \"feasible_rcv\" \"feasible_ec\" \n",
       "[21] \"feasible_hol\" \"feasible_sen\" \"feasible_gmd\" \"feasible_sc\"  \"feasible_reg\""
      ]
     },
     "metadata": {},
     "output_type": "display_data"
    }
   ],
   "source": [
    "# Fixing names\n",
    "names(reforms) <- gsub(\"How would you rate each of these reforms as good or bad for democracy\\\\?\", \"good\", names(reforms))\n",
    "names(reforms) <- gsub(\"How consequential would each of these reforms be\\\\?\", \"imp\", names(reforms))\n",
    "names(reforms) <- gsub(\"How feasible is each reform\\\\?\", \"feasible\", names(reforms))\n",
    "names(reforms) <- gsub(\"\\\\[Ranked choice voting for president\\\\]\", \"rcv\", names(reforms))\n",
    "names(reforms) <- gsub(\"\\\\[Abolish the electoral college for national popular vote\\\\]\", \"ec\", names(reforms))\n",
    "names(reforms) <- gsub(\"\\\\[House elected using proportional representation \\\\(by state\\\\)\\\\]\", \"pr\", names(reforms))\n",
    "names(reforms) <- gsub(\"\\\\[Election day a national holiday\\\\]\", \"hol\", names(reforms))\n",
    "names(reforms) <- gsub(\"\\\\[Ban partisan redistricting \\\\(gerrymandering\\\\)\\\\]\", \"gmd\", names(reforms))\n",
    "names(reforms) <- gsub(\"\\\\[18 year term-limit for Supreme Court justices\\\\]\", \"sc\", names(reforms))\n",
    "names(reforms) <- gsub(\"\\\\[Make Senate proportional to population\\\\]\", \"sen\", names(reforms))\n",
    "names(reforms) <- gsub(\"\\\\[Automatic registration at 18\\\\]\", \"reg\", names(reforms))\n",
    "names(reforms) <- gsub(\" \", \"_\", names(reforms))\n",
    "names(reforms)"
   ]
  },
  {
   "cell_type": "code",
   "execution_count": 73,
   "id": "5f8b66a4",
   "metadata": {},
   "outputs": [],
   "source": [
    "# Recoding the good variables\n",
    "recode_good_bad <- function(x) {\n",
    "  recode_vals <- c(\n",
    "    \"Definitely bad\" = -1,\n",
    "    \"Probably bad\" = -0.5,\n",
    "    \"Neutral/Unsure\" = 0,\n",
    "    \"Probably good\" = 0.5,\n",
    "    \"Definitely good\" = 1\n",
    "  )\n",
    "  out <- recode_vals[x]\n",
    "  if (length(out) != length(x)) return(rep(NA_real_, length(x)))  # fallback for mismatches\n",
    "  return(out)\n",
    "}\n",
    "\n",
    "# variables to recode\n",
    "target_cols <- names(reforms)[grepl(\"^good_\", names(reforms)) & sapply(reforms, is.character)]\n",
    "\n",
    "# Doing the recoding\n",
    "for (col in target_cols) {\n",
    "  reforms[[col]] <- recode_good_bad(reforms[[col]])\n",
    "}\n"
   ]
  },
  {
   "cell_type": "code",
   "execution_count": 74,
   "id": "bad35c90",
   "metadata": {},
   "outputs": [],
   "source": [
    "# Recoding the importance variables\n",
    "recode_imp <- function(x) {\n",
    "  recode_vals <- c(\n",
    "    \"No impact\" = 0,\n",
    "    \"Minimal impact\" = .25,\n",
    "    \"Moderate impact\" = .5,\n",
    "    \"Large impact\" = 0.75,\n",
    "    \"Very large impact\" = 1\n",
    "  )\n",
    "  out <- recode_vals[x]\n",
    "  if (length(out) != length(x)) return(rep(NA_real_, length(x)))  # fallback for mismatches\n",
    "  return(out)\n",
    "}\n",
    "\n",
    "# Which ones to recode\n",
    "target_cols <- names(reforms)[grepl(\"^imp\", names(reforms)) & sapply(reforms, is.character)]\n",
    "\n",
    "# Doing the recoding\n",
    "for (col in target_cols) {\n",
    "  reforms[[col]] <- recode_imp(reforms[[col]])\n",
    "}\n"
   ]
  },
  {
   "cell_type": "code",
   "execution_count": 75,
   "id": "fa3d4ea5",
   "metadata": {},
   "outputs": [],
   "source": [
    "# Recoding the feasible variables\n",
    "recode_feas <- function(x) {\n",
    "  recode_vals <- c(\n",
    "    \"Impossible\" = 0,\n",
    "    \"Very unlikely\" = .25,\n",
    "    \"Somewhat unlikely\" = .5,\n",
    "    \"Plausible\" = 0.75,\n",
    "    \"Very plausible\" = 1\n",
    "  )\n",
    "  out <- recode_vals[x]\n",
    "  if (length(out) != length(x)) return(rep(NA_real_, length(x)))  # fallback for mismatches\n",
    "  return(out)\n",
    "}\n",
    "\n",
    "# Which ones to recode\n",
    "target_cols <- names(reforms)[grepl(\"^feasible\", names(reforms)) & sapply(reforms, is.character)]\n",
    "\n",
    "# Doing the recoding\n",
    "for (col in target_cols) {\n",
    "  reforms[[col]] <- recode_feas(reforms[[col]])\n",
    "}"
   ]
  },
  {
   "cell_type": "code",
   "execution_count": 76,
   "id": "ee88c80f",
   "metadata": {},
   "outputs": [
    {
     "data": {
      "text/html": [
       "<table class=\"dataframe\">\n",
       "<caption>A tibble: 2 × 25</caption>\n",
       "<thead>\n",
       "\t<tr><th scope=col>Timestamp</th><th scope=col>good_pr</th><th scope=col>good_rcv</th><th scope=col>good_ec</th><th scope=col>good_hol</th><th scope=col>good_sen</th><th scope=col>good_gmd</th><th scope=col>good_sc</th><th scope=col>good_reg</th><th scope=col>imp_pr</th><th scope=col>⋯</th><th scope=col>imp_sc</th><th scope=col>imp_reg</th><th scope=col>feasible_pr</th><th scope=col>feasible_rcv</th><th scope=col>feasible_ec</th><th scope=col>feasible_hol</th><th scope=col>feasible_sen</th><th scope=col>feasible_gmd</th><th scope=col>feasible_sc</th><th scope=col>feasible_reg</th></tr>\n",
       "\t<tr><th scope=col>&lt;chr&gt;</th><th scope=col>&lt;dbl&gt;</th><th scope=col>&lt;dbl&gt;</th><th scope=col>&lt;dbl&gt;</th><th scope=col>&lt;dbl&gt;</th><th scope=col>&lt;dbl&gt;</th><th scope=col>&lt;dbl&gt;</th><th scope=col>&lt;dbl&gt;</th><th scope=col>&lt;dbl&gt;</th><th scope=col>&lt;dbl&gt;</th><th scope=col>⋯</th><th scope=col>&lt;dbl&gt;</th><th scope=col>&lt;dbl&gt;</th><th scope=col>&lt;dbl&gt;</th><th scope=col>&lt;dbl&gt;</th><th scope=col>&lt;dbl&gt;</th><th scope=col>&lt;dbl&gt;</th><th scope=col>&lt;dbl&gt;</th><th scope=col>&lt;dbl&gt;</th><th scope=col>&lt;dbl&gt;</th><th scope=col>&lt;dbl&gt;</th></tr>\n",
       "</thead>\n",
       "<tbody>\n",
       "\t<tr><td>4/24/2025 10:44:26</td><td> 0.5</td><td> 0</td><td>1</td><td>1</td><td>1.0</td><td>1.0</td><td>1.0</td><td>1.0</td><td>0.75</td><td>⋯</td><td>0.50</td><td>0.25</td><td>0.25</td><td>0.25</td><td>0.25</td><td>0.5</td><td>0</td><td>0.25</td><td>0.25</td><td>0.50</td></tr>\n",
       "\t<tr><td>4/24/2025 11:01:28</td><td>-0.5</td><td>-1</td><td>0</td><td>1</td><td>0.5</td><td>0.5</td><td>0.5</td><td>0.5</td><td>1.00</td><td>⋯</td><td>0.75</td><td>0.50</td><td>0.50</td><td>0.50</td><td>0.25</td><td>1.0</td><td>0</td><td>0.50</td><td>0.25</td><td>0.75</td></tr>\n",
       "</tbody>\n",
       "</table>\n"
      ],
      "text/latex": [
       "A tibble: 2 × 25\n",
       "\\begin{tabular}{lllllllllllllllllllll}\n",
       " Timestamp & good\\_pr & good\\_rcv & good\\_ec & good\\_hol & good\\_sen & good\\_gmd & good\\_sc & good\\_reg & imp\\_pr & ⋯ & imp\\_sc & imp\\_reg & feasible\\_pr & feasible\\_rcv & feasible\\_ec & feasible\\_hol & feasible\\_sen & feasible\\_gmd & feasible\\_sc & feasible\\_reg\\\\\n",
       " <chr> & <dbl> & <dbl> & <dbl> & <dbl> & <dbl> & <dbl> & <dbl> & <dbl> & <dbl> & ⋯ & <dbl> & <dbl> & <dbl> & <dbl> & <dbl> & <dbl> & <dbl> & <dbl> & <dbl> & <dbl>\\\\\n",
       "\\hline\n",
       "\t 4/24/2025 10:44:26 &  0.5 &  0 & 1 & 1 & 1.0 & 1.0 & 1.0 & 1.0 & 0.75 & ⋯ & 0.50 & 0.25 & 0.25 & 0.25 & 0.25 & 0.5 & 0 & 0.25 & 0.25 & 0.50\\\\\n",
       "\t 4/24/2025 11:01:28 & -0.5 & -1 & 0 & 1 & 0.5 & 0.5 & 0.5 & 0.5 & 1.00 & ⋯ & 0.75 & 0.50 & 0.50 & 0.50 & 0.25 & 1.0 & 0 & 0.50 & 0.25 & 0.75\\\\\n",
       "\\end{tabular}\n"
      ],
      "text/markdown": [
       "\n",
       "A tibble: 2 × 25\n",
       "\n",
       "| Timestamp &lt;chr&gt; | good_pr &lt;dbl&gt; | good_rcv &lt;dbl&gt; | good_ec &lt;dbl&gt; | good_hol &lt;dbl&gt; | good_sen &lt;dbl&gt; | good_gmd &lt;dbl&gt; | good_sc &lt;dbl&gt; | good_reg &lt;dbl&gt; | imp_pr &lt;dbl&gt; | ⋯ ⋯ | imp_sc &lt;dbl&gt; | imp_reg &lt;dbl&gt; | feasible_pr &lt;dbl&gt; | feasible_rcv &lt;dbl&gt; | feasible_ec &lt;dbl&gt; | feasible_hol &lt;dbl&gt; | feasible_sen &lt;dbl&gt; | feasible_gmd &lt;dbl&gt; | feasible_sc &lt;dbl&gt; | feasible_reg &lt;dbl&gt; |\n",
       "|---|---|---|---|---|---|---|---|---|---|---|---|---|---|---|---|---|---|---|---|---|\n",
       "| 4/24/2025 10:44:26 |  0.5 |  0 | 1 | 1 | 1.0 | 1.0 | 1.0 | 1.0 | 0.75 | ⋯ | 0.50 | 0.25 | 0.25 | 0.25 | 0.25 | 0.5 | 0 | 0.25 | 0.25 | 0.50 |\n",
       "| 4/24/2025 11:01:28 | -0.5 | -1 | 0 | 1 | 0.5 | 0.5 | 0.5 | 0.5 | 1.00 | ⋯ | 0.75 | 0.50 | 0.50 | 0.50 | 0.25 | 1.0 | 0 | 0.50 | 0.25 | 0.75 |\n",
       "\n"
      ],
      "text/plain": [
       "              Timestamp          good_pr good_rcv good_ec good_hol good_sen\n",
       "Probably good 4/24/2025 10:44:26  0.5     0       1       1        1.0     \n",
       "Probably bad  4/24/2025 11:01:28 -0.5    -1       0       1        0.5     \n",
       "              good_gmd good_sc good_reg imp_pr ⋯ imp_sc imp_reg feasible_pr\n",
       "Probably good 1.0      1.0     1.0      0.75   ⋯ 0.50   0.25    0.25       \n",
       "Probably bad  0.5      0.5     0.5      1.00   ⋯ 0.75   0.50    0.50       \n",
       "              feasible_rcv feasible_ec feasible_hol feasible_sen feasible_gmd\n",
       "Probably good 0.25         0.25        0.5          0            0.25        \n",
       "Probably bad  0.50         0.25        1.0          0            0.50        \n",
       "              feasible_sc feasible_reg\n",
       "Probably good 0.25        0.50        \n",
       "Probably bad  0.25        0.75        "
      ]
     },
     "metadata": {},
     "output_type": "display_data"
    }
   ],
   "source": [
    "head(reforms)"
   ]
  },
  {
   "cell_type": "code",
   "execution_count": 77,
   "id": "eded8a1c",
   "metadata": {},
   "outputs": [
    {
     "name": "stdout",
     "output_type": "stream",
     "text": [
      "    reform  good   imp feasible\n",
      "pr      pr  0.00 0.875    0.375\n",
      "rcv    rcv -0.50 0.375    0.375\n",
      "ec      ec  0.50 0.250    0.250\n",
      "hol    hol  1.00 0.500    0.750\n",
      "sen    sen  0.75 0.750    0.000\n",
      "gmd    gmd  0.75 0.375    0.375\n",
      "sc      sc  0.75 0.625    0.250\n",
      "reg    reg  0.75 0.375    0.625\n"
     ]
    }
   ],
   "source": [
    "# Now create an average for each of the variables\n",
    "reform_keys <- c(\"pr\", \"rcv\", \"ec\", \"hol\", \"sen\", \"gmd\", \"sc\", \"reg\")\n",
    "\n",
    "# Initialize a new data frame\n",
    "byref <- data.frame(\n",
    "  reform = reform_keys,\n",
    "  good = sapply(reform_keys, function(k) mean(reforms[[paste0(\"good_\", k)]], na.rm = TRUE)),\n",
    "  imp = sapply(reform_keys, function(k) mean(reforms[[paste0(\"imp_\", k)]], na.rm = TRUE)),\n",
    "  feasible = sapply(reform_keys, function(k) mean(reforms[[paste0(\"feasible_\", k)]], na.rm = TRUE))\n",
    ")\n",
    "\n",
    "print(byref)\n"
   ]
  },
  {
   "cell_type": "markdown",
   "id": "1c4f3395",
   "metadata": {},
   "source": [
    "We can plot the perceived goodness importance with labels as follows:"
   ]
  },
  {
   "cell_type": "code",
   "execution_count": 90,
   "id": "9ac55999",
   "metadata": {},
   "outputs": [
    {
     "data": {
      "image/png": "[encoded data removed]",
      "text/plain": [
       "plot without title"
      ]
     },
     "metadata": {
      "image/png": {
       "height": 420,
       "width": 420
      }
     },
     "output_type": "display_data"
    }
   ],
   "source": [
    "plot(byref$good, byref$imp)\n",
    "text(byref$good, byref$imp+.01, byref$reform)"
   ]
  },
  {
   "cell_type": "markdown",
   "id": "12f5cdff",
   "metadata": {},
   "source": [
    "**Make a plot that also incorporates the feasibility. Based on this, what reforms might you prioritize?**"
   ]
  },
  {
   "cell_type": "code",
   "execution_count": null,
   "id": "5cd33b72",
   "metadata": {},
   "outputs": [],
   "source": []
  },
  {
   "cell_type": "code",
   "execution_count": null,
   "id": "3fd9f702",
   "metadata": {},
   "outputs": [],
   "source": []
  }
 ],
 "metadata": {
  "kernelspec": {
   "display_name": "R",
   "language": "R",
   "name": "ir"
  },
  "language_info": {
   "codemirror_mode": "r",
   "file_extension": ".r",
   "mimetype": "text/x-r-source",
   "name": "R",
   "pygments_lexer": "r",
   "version": "4.4.0"
  }
 },
 "nbformat": 4,
 "nbformat_minor": 5
}
