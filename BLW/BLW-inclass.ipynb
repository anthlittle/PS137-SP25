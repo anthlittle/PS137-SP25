{
 "cells": [
  {
   "cell_type": "markdown",
   "id": "47ce55c6-bfda-4572-bee7-42c33b56a671",
   "metadata": {},
   "source": [
    "# POLSCI PS137L Spring 2025\n",
    "\n",
    "## In-Class: Your views and experts' views on democracy here and beyond\n",
    "\n",
    "This is a notebook to explore and compare your views with experts' and the general public's views and on democracy in America and beyond,"
   ]
  },
  {
   "cell_type": "markdown",
   "id": "469ecd91-b267-42ff-bd20-9db08590a4b7",
   "metadata": {},
   "source": [
    "**Question 1** Recall the survey you have done in class last week. If you have to guess, do you think relative to the experts:\n",
    "\n",
    "1.) You (the class) are more optimistic or pessimistic about the:\n",
    "    a.) current state of American democracy?\n",
    "    b.) future state of American democracy?\n",
    "2.) You view the criteria defining democracy as more or less restrictive?\n",
    "\n",
    "Explain your hunch!"
   ]
  },
  {
   "cell_type": "markdown",
   "id": "199b2873-4c7c-4532-b8ba-b85e8ba259c7",
   "metadata": {},
   "source": [
    "_Please type your answer here._"
   ]
  },
  {
   "cell_type": "markdown",
   "id": "89f1beee-cc3e-4093-8086-83a207581fa6",
   "metadata": {},
   "source": [
    "Now, let's look at the data."
   ]
  },
  {
   "cell_type": "code",
   "execution_count": 3,
   "id": "45988574-b76c-425e-a4db-e0ce2c668405",
   "metadata": {},
   "outputs": [
    {
     "name": "stderr",
     "output_type": "stream",
     "text": [
      "\u001b[1mRows: \u001b[22m\u001b[34m24\u001b[39m \u001b[1mColumns: \u001b[22m\u001b[34m10\u001b[39m\n",
      "\u001b[36m──\u001b[39m \u001b[1mColumn specification\u001b[22m \u001b[36m────────────────────────────────────────────────────────\u001b[39m\n",
      "\u001b[1mDelimiter:\u001b[22m \",\"\n",
      "\u001b[32mdbl\u001b[39m (10): ID, rating_dec24, rating_jan25, rating_2027, fairelec, contrib, ju...\n",
      "\n",
      "\u001b[36mℹ\u001b[39m Use `spec()` to retrieve the full column specification for this data.\n",
      "\u001b[36mℹ\u001b[39m Specify the column types or set `show_col_types = FALSE` to quiet this message.\n",
      "\u001b[1mRows: \u001b[22m\u001b[34m476\u001b[39m \u001b[1mColumns: \u001b[22m\u001b[34m16\u001b[39m\n",
      "\u001b[36m──\u001b[39m \u001b[1mColumn specification\u001b[22m \u001b[36m────────────────────────────────────────────────────────\u001b[39m\n",
      "\u001b[1mDelimiter:\u001b[22m \",\"\n",
      "\u001b[31mchr\u001b[39m  (2): id, field\n",
      "\u001b[32mdbl\u001b[39m (14): fairelec, contrib, concede, equalvote, turnout, equalrights, speec...\n",
      "\n",
      "\u001b[36mℹ\u001b[39m Use `spec()` to retrieve the full column specification for this data.\n",
      "\u001b[36mℹ\u001b[39m Specify the column types or set `show_col_types = FALSE` to quiet this message.\n"
     ]
    }
   ],
   "source": [
    "# Run this cell!\n",
    "suppressPackageStartupMessages(library(tidyverse))\n",
    "class <- read_csv(\"data/students.csv\")\n",
    "experts <- read_csv(\"data/experts.csv\")"
   ]
  },
  {
   "cell_type": "markdown",
   "id": "6282712e",
   "metadata": {},
   "source": [
    "First let's take a peek at the class data. As you can see from the import message or the code below, we have 24 responses and 10 columns for each respondent:"
   ]
  },
  {
   "cell_type": "code",
   "execution_count": null,
   "id": "b583bb24",
   "metadata": {},
   "outputs": [],
   "source": [
    "dim(class)"
   ]
  },
  {
   "cell_type": "markdown",
   "id": "d0661092",
   "metadata": {},
   "source": [
    "Now let's look at the first few rows"
   ]
  },
  {
   "cell_type": "code",
   "execution_count": null,
   "id": "c0853810",
   "metadata": {},
   "outputs": [],
   "source": [
    "head(class)"
   ]
  },
  {
   "cell_type": "markdown",
   "id": "c1ec6764",
   "metadata": {},
   "source": [
    "To anonymize things I gave everyone a numeric ID. After that we have the three \"rating US democracy\" questions: first as of December 2024 (`rating_dec24`), then the \"now\" question (`rating_jan25`), then the expectation for 2027 (`rating_2027`). After that there are the questions about what features are important for democracy, which we will analze later."
   ]
  },
  {
   "cell_type": "markdown",
   "id": "ef7e626a",
   "metadata": {},
   "source": [
    "## Part 1: Comparing Ratings"
   ]
  },
  {
   "cell_type": "markdown",
   "id": "a5f3e383",
   "metadata": {},
   "source": [
    "As you may recall, we can get the average reponse with the `mean` function in R. Here is how we can compute the average Junary 25 (\"now\") rating:"
   ]
  },
  {
   "cell_type": "code",
   "execution_count": null,
   "id": "66c192d4",
   "metadata": {},
   "outputs": [],
   "source": [
    "mean(class$rating_jan25)"
   ]
  },
  {
   "cell_type": "markdown",
   "id": "dcf02aa8",
   "metadata": {},
   "source": [
    "**Question 1.1. Compute the average rating in December 2024 and the average expected rating in 2027. What do these differences mean?**"
   ]
  },
  {
   "cell_type": "code",
   "execution_count": null,
   "id": "630cd655",
   "metadata": {},
   "outputs": [],
   "source": [
    "# Code for 1.1"
   ]
  },
  {
   "cell_type": "markdown",
   "id": "e3e8e306",
   "metadata": {},
   "source": [
    "*Words for 1.1*"
   ]
  },
  {
   "cell_type": "markdown",
   "id": "a33437d3-a52c-4292-bc01-67eb11343d97",
   "metadata": {},
   "source": [
    "Let's first compare and contrast the rating of American democracy among the class and the experts. Remember, the experts took the survey around mid-November, after the results of the 2024 elections were known, but before the inauguration of Donald Trump's second term.\n",
    "\n",
    "\n",
    "- For 'current' rating, we compare experts' November 2024 rating (`rating_now`) with your rating of December 2024 (`rating_dec24`)\n",
    "- For the 'future' rating, we compare predictions that experts make (`rating_2027`) and you make for 2027 (`rating_2027`)\n",
    "\n",
    "\n",
    "Here's a look at the datasets with the relevant variables. Recall we can do that with the `subset` function, and a `select=` argument to say which variable we want to look at"
   ]
  },
  {
   "cell_type": "code",
   "execution_count": null,
   "id": "3e9591e9-5944-48bb-9b8c-e06622d7481d",
   "metadata": {},
   "outputs": [],
   "source": [
    "head(subset(experts, select=c(\"rating_now\", \"rating_2027\")))"
   ]
  },
  {
   "cell_type": "markdown",
   "id": "f9a065eb",
   "metadata": {},
   "source": [
    "If we try to take the rating of the expert rating, we get an NA!:"
   ]
  },
  {
   "cell_type": "code",
   "execution_count": null,
   "id": "b1c84275",
   "metadata": {},
   "outputs": [],
   "source": [
    "mean(experts$rating_now)"
   ]
  },
  {
   "cell_type": "markdown",
   "id": "db5ccc3c",
   "metadata": {},
   "source": [
    "The reason why is that not all experts answered this question, and so for some of them the rating_now variable is NA. We can see how many by using the `is.na` function, and then using a table to see how many entries this is true for:"
   ]
  },
  {
   "cell_type": "code",
   "execution_count": null,
   "id": "ddce9b82",
   "metadata": {},
   "outputs": [],
   "source": [
    "table(is.na(experts$rating_now))"
   ]
  },
  {
   "cell_type": "markdown",
   "id": "36290026",
   "metadata": {},
   "source": [
    "So there are only 2 missing values here, but that's enough to get R to not report the average by default! If we want the mean dropping these we can add a `na.rm=TRUE` argument:"
   ]
  },
  {
   "cell_type": "code",
   "execution_count": null,
   "id": "a2e0ba11",
   "metadata": {},
   "outputs": [],
   "source": [
    "mean(experts$rating_now, na.rm=TRUE)"
   ]
  },
  {
   "cell_type": "markdown",
   "id": "a44806a5",
   "metadata": {},
   "source": [
    "**Question 1.2. How does this compare to the \"current\" rating among the class you found in 1.1?**"
   ]
  },
  {
   "cell_type": "markdown",
   "id": "aa4aea38",
   "metadata": {},
   "source": [
    "*Words for 1.2*"
   ]
  },
  {
   "cell_type": "markdown",
   "id": "25f99ed3",
   "metadata": {},
   "source": [
    "**Question 1.3. Compute the average of `rating_2027` among experts to the corresponding expected 2027 rating from the class. Interpret this difference.**"
   ]
  },
  {
   "cell_type": "code",
   "execution_count": null,
   "id": "9302abdd",
   "metadata": {},
   "outputs": [],
   "source": [
    "# Code for 1.3"
   ]
  },
  {
   "cell_type": "markdown",
   "id": "00655b98",
   "metadata": {},
   "source": [
    "*Words for 1.3*"
   ]
  },
  {
   "cell_type": "markdown",
   "id": "fb695822",
   "metadata": {},
   "source": [
    "Now let's visualize the expected change among different groups. I'll create a summary of the data for each time for you:"
   ]
  },
  {
   "cell_type": "code",
   "execution_count": null,
   "id": "8670b7f0-d511-44f5-a84f-3c48defe3955",
   "metadata": {},
   "outputs": [],
   "source": [
    "# Run this to make a data frame with the means of current ratings and future ratings\n",
    "dates <- c(2024, 2025, 2027)\n",
    "class_ratings <- c(mean(class$rating_dec24), \n",
    "                   mean(class$rating_jan25),\n",
    "                  mean(class$rating_2027))\n",
    "expert_ratings <- c(mean(experts$rating_now, na.rm=TRUE),NA,\n",
    "                   mean(experts$rating_2027, na.rm=TRUE))\n",
    "mean_ratings <- data.frame(date=dates,\n",
    "                          class=class_ratings,\n",
    "                           experts=expert_ratings)\n",
    "mean_ratings"
   ]
  },
  {
   "cell_type": "code",
   "execution_count": null,
   "id": "682409d3",
   "metadata": {},
   "outputs": [],
   "source": [
    "plot(mean_ratings$date, mean_ratings$class, ylim=c(50, 80), type=\"b\", col=\"red\", xlab=\"Date\", ylab=\"Average Rating\")\n",
    "points(mean_ratings$date[!is.na(mean_ratings$experts)], mean_ratings$experts[!is.na(mean_ratings$experts)], type=\"b\", col=\"blue\")"
   ]
  },
  {
   "cell_type": "markdown",
   "id": "95778114-39b1-4050-b2fe-c06876bde579",
   "metadata": {},
   "source": [
    "**Question 1.4 What are the core patterns you observe in the graph? What might explain these patterns?** "
   ]
  },
  {
   "cell_type": "markdown",
   "id": "f8c01a81-2ef9-4727-a86d-a08482a58c3c",
   "metadata": {},
   "source": [
    "*Words for 1.4*"
   ]
  },
  {
   "cell_type": "markdown",
   "id": "8f7b2e31",
   "metadata": {},
   "source": [
    "We can also look at individual level beliefs about how democracy will change in the US. Let's compute an individual level change variable for the class"
   ]
  },
  {
   "cell_type": "code",
   "execution_count": null,
   "id": "fbd94337",
   "metadata": {},
   "outputs": [],
   "source": [
    "class$change27 <- class$rating_2027 - class$rating_dec24"
   ]
  },
  {
   "cell_type": "markdown",
   "id": "57f58eea",
   "metadata": {},
   "source": [
    "Here is a histogram of the expected changes. We are forcing the x axis to be the total possible change, and also adding a vertical line at 0 (meaning no change)"
   ]
  },
  {
   "cell_type": "code",
   "execution_count": null,
   "id": "5c3769f3",
   "metadata": {},
   "outputs": [],
   "source": [
    "hist(class$rating_2027 - class$rating_dec24, xlim=c(-100, 100))\n",
    "abline(v=0, lty=3, lwd=2)"
   ]
  },
  {
   "cell_type": "markdown",
   "id": "a4a4e21d",
   "metadata": {},
   "source": [
    "**Question 1.5. Do the same for the expert data: compute an individual level \"change from now (dec 2024) to 2027\" variable, and then make a histogram. What can we learn from this histograms, and any similarities or differences you see between them?**"
   ]
  },
  {
   "cell_type": "code",
   "execution_count": null,
   "id": "cb6bfd56",
   "metadata": {},
   "outputs": [],
   "source": [
    "# Code for 1.5"
   ]
  },
  {
   "cell_type": "markdown",
   "id": "21e16a11",
   "metadata": {},
   "source": [
    "*Words for 1.5*"
   ]
  },
  {
   "cell_type": "markdown",
   "id": "0a2e8b48",
   "metadata": {},
   "source": [
    "## Part 2: What is important for democracy?"
   ]
  },
  {
   "cell_type": "markdown",
   "id": "3d3437b3-b98f-4a2b-8345-4597990dcf3f",
   "metadata": {},
   "source": [
    "Recall I asked you how important 6 features are for a country to be considered democratic. Here were the 6 questions, and the corresponding variable:\n",
    "\n",
    "1. `fairelec`: Fair Elections  \n",
    "**Definition:** Elections are conducted, ballots counted, and winners determined without pervasive fraud or manipulation.  \n",
    "\n",
    "2. `contrib`: Campaign Contributions  \n",
    "**Definition:** Public policy is not determined by large campaign contributions.  \n",
    "\n",
    "3. `judicial`: Judicial Independence  \n",
    "**Definition:** The elected branches respect judicial independence.  \n",
    "\n",
    "4. `turnout`: Voter Turnout  \n",
    "**Definition:** Voter participation in elections is generally high.  \n",
    "\n",
    "5. `speech`: Freedom of Speech  \n",
    "**Definition:** Government protects individuals' right to engage in unpopular speech or expression.  \n",
    "\n",
    "6. `media`: Media Freedom  \n",
    "**Definition:** Government does not interfere with journalists or news organizations.  \n",
    "\n",
    "Note that your answers are a number between 1 and 4. Here is how to map the answers yo ugave to the score:\n",
    "\n",
    "1. **Not relevant:** This has no impact on democracy (1)\n",
    "2. **Beneficial:** This enhances democracy, but is not required for democracy (2)\n",
    "3. **Important:** If this is absent, democracy is compromised (3)\n",
    "4. **Essential:** A country cannot be described as democratic without this (4)\n",
    "\n",
    "Not coincidentally, these same questions were aske to both experts and the general public in the Bright Line Watch survey. \n",
    "Now, let's look at how the class think about individual items relative to experts."
   ]
  },
  {
   "cell_type": "markdown",
   "id": "42abe8e4",
   "metadata": {},
   "source": [
    "Lets start by looking at the `speech` variable. Here is how we can see the responses to this from the class"
   ]
  },
  {
   "cell_type": "code",
   "execution_count": null,
   "id": "b88f7099",
   "metadata": {},
   "outputs": [],
   "source": [
    "table(class$speech)"
   ]
  },
  {
   "cell_type": "markdown",
   "id": "55313dc8",
   "metadata": {},
   "source": [
    "**Question 2.1. Make a table of the responses of experts to the `speech` question. Compare the answers between the two groups.**"
   ]
  },
  {
   "cell_type": "code",
   "execution_count": null,
   "id": "21961044",
   "metadata": {},
   "outputs": [],
   "source": [
    "# Code for 2.1"
   ]
  },
  {
   "cell_type": "markdown",
   "id": "c32b85be",
   "metadata": {},
   "source": [
    "*Words for 2.2*"
   ]
  },
  {
   "cell_type": "markdown",
   "id": "e516134c",
   "metadata": {},
   "source": [
    "**Question 2.2 Which of these questions would be considered most important for the competition dimension Dahl's definition of democracy? Make a table of the class and experts answer to this question. Which group is closer to the Dahl idea on this dimension?**"
   ]
  },
  {
   "cell_type": "code",
   "execution_count": null,
   "id": "1ca4a5a0",
   "metadata": {},
   "outputs": [],
   "source": [
    "# Code for 2.2"
   ]
  },
  {
   "cell_type": "code",
   "execution_count": null,
   "id": "2df6a8e7",
   "metadata": {},
   "outputs": [],
   "source": []
  },
  {
   "cell_type": "markdown",
   "id": "bc8255b0",
   "metadata": {},
   "source": [
    "*Words for 2.2*"
   ]
  },
  {
   "cell_type": "markdown",
   "id": "61316319",
   "metadata": {},
   "source": [
    "**Question 2.3. The question that appears closest to Dahl's second dimension, participation, is the `turnout` question. Voter turnout is typically measured as the number of voeters who participate divided by the number of eligible voters. However, this may not be a great measure of what Dahl really means by participation. Why?**"
   ]
  },
  {
   "cell_type": "markdown",
   "id": "3a4eaf13",
   "metadata": {},
   "source": [
    "*Words for 2.3*"
   ]
  },
  {
   "cell_type": "markdown",
   "id": "fb8cf952",
   "metadata": {},
   "source": [
    "**Question 2.4. Still, we might as well see how the class and experts answered the turnout question. Make a table of the responses for both groups. Interpret this in light of your answer to 2.3**"
   ]
  },
  {
   "cell_type": "code",
   "execution_count": null,
   "id": "3aae642d",
   "metadata": {},
   "outputs": [],
   "source": [
    "# Code for 2.4"
   ]
  },
  {
   "cell_type": "code",
   "execution_count": null,
   "id": "59770958",
   "metadata": {},
   "outputs": [],
   "source": []
  },
  {
   "cell_type": "markdown",
   "id": "f06f8269",
   "metadata": {},
   "source": [
    "*Words for 2.4*"
   ]
  },
  {
   "cell_type": "markdown",
   "id": "2d00f4e8",
   "metadata": {},
   "source": [
    "## Part 3 (If you have extra time)"
   ]
  },
  {
   "cell_type": "markdown",
   "id": "e256b5bb-0643-4ab3-8843-4d2f40051e2b",
   "metadata": {},
   "source": [
    "Here's the mean by subfield among the expert panel (mostly political scientists)."
   ]
  },
  {
   "cell_type": "code",
   "execution_count": null,
   "id": "23ecb396-59d7-4de4-8092-1a54f7a158a7",
   "metadata": {},
   "outputs": [],
   "source": [
    "\n",
    "experts_by_field <- experts_response %>%\n",
    "  filter( is.na(field) == FALSE) %>% \n",
    "    group_by(field) %>%\n",
    "    dplyr::summarize(CurrentMean = mean(rating_now, na.rm=TRUE), FutureMean = mean(rating_2027, na.rm=TRUE), Difference =  mean(rating_2027, na.rm=TRUE)-mean(rating_now, na.rm=TRUE) )\n",
    "experts_by_field"
   ]
  },
  {
   "cell_type": "markdown",
   "id": "9bb1cd26-8059-44e1-bcf7-0e8512074530",
   "metadata": {},
   "source": [
    "Describe the overall pattern, and provide some intuitions on why the data look like they are."
   ]
  },
  {
   "cell_type": "markdown",
   "id": "9d9fc54b-8d96-40cb-8106-104e167edfce",
   "metadata": {},
   "source": [
    "_Please type your answer here._"
   ]
  }
 ],
 "metadata": {
  "kernelspec": {
   "display_name": "R",
   "language": "R",
   "name": "ir"
  },
  "language_info": {
   "codemirror_mode": "r",
   "file_extension": ".r",
   "mimetype": "text/x-r-source",
   "name": "R",
   "pygments_lexer": "r",
   "version": "4.4.0"
  }
 },
 "nbformat": 4,
 "nbformat_minor": 5
}
