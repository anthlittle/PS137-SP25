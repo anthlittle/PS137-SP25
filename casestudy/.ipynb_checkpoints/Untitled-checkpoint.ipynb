{
 "cells": [
  {
   "cell_type": "markdown",
   "id": "16f274c9",
   "metadata": {},
   "source": [
    "# PS 137 - Case Study Assignment\n",
    "\n",
    "Let's put the knowledge you've gained about democracy and coding to use!"
   ]
  },
  {
   "cell_type": "markdown",
   "id": "d9823bd8",
   "metadata": {},
   "source": [
    "## Part 1\n",
    "\n",
    "Write an \"overall narrative\" of how democracy has changed in the country over time [4-5 Paragraphs]. Some specific steps: \n",
    "- A: Create at least two plots of the overall trend in democracy in your country using some of the data sources we used in class (V-Dem, the Miller data, Freedom House). Are there any differences between the plots? \n",
    "- B: Identify two periods where either the democracy score declined or increased (ideally one of each). Why do you think these changes in the coding happened? (Hint: check the Freedom House reports for those years, or read about the elections in those years on Wikipedia or other sources.)"
   ]
  },
  {
   "cell_type": "markdown",
   "id": "8bec8e7a",
   "metadata": {},
   "source": [
    "## Part 2\n",
    "\n",
    "Explore some elements of democracy more specifically [4-5 paragraphs].\n",
    "\n",
    "Based on your answer to 2B, identify some more specific democracy measures from some of the data we have used (V-Dem, NELDA, Little and Meng) that might detect what drove the changes. Make some plots of these variables to check if the explanation you found for the democratic change seems supported by this data or not. (It's ok if not! Just try to think through why.)"
   ]
  },
  {
   "cell_type": "markdown",
   "id": "6ae485df",
   "metadata": {},
   "source": [
    "## Part 3\n",
    "\n",
    "Compare this to other variables [3-4 paragraphs].\n",
    "\n",
    "Now find some other \"non-democracy\" data related to one of the variables we discussed in class (economic data, spells of populist leadership, diversity indices, polarization, etc.). Ideally upload the data and make your own graph to compare with the trends you found in parts 1-2, but it's ok if you can only find existing graphs (though be sure to read up on the data source if so). "
   ]
  },
  {
   "cell_type": "markdown",
   "id": "512ec7dc",
   "metadata": {},
   "source": [
    "## Part 4\n",
    "\n",
    "Relate what you learned in parts 1-3 to what you learned from the class readings. Does your country seem like a good example of the dynamics discussed by the authors? Or contradictory? [4-5 paragraphs, reference at least two readings] "
   ]
  },
  {
   "cell_type": "markdown",
   "id": "1c90dfea",
   "metadata": {},
   "source": [
    "## Part 5\n",
    "\n",
    "Given what you learned, how do you think democracy in your country will evolve in the next 10 years? Identify at least one reason to be optimistic, and one reason to be pessimistic. [2-3 paragraphs]"
   ]
  },
  {
   "cell_type": "code",
   "execution_count": null,
   "id": "ed13f33c",
   "metadata": {},
   "outputs": [],
   "source": []
  }
 ],
 "metadata": {
  "kernelspec": {
   "display_name": "R",
   "language": "R",
   "name": "ir"
  },
  "language_info": {
   "codemirror_mode": "r",
   "file_extension": ".r",
   "mimetype": "text/x-r-source",
   "name": "R",
   "pygments_lexer": "r",
   "version": "4.4.0"
  }
 },
 "nbformat": 4,
 "nbformat_minor": 5
}
